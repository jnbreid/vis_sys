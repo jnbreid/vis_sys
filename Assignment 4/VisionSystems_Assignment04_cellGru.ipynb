{
 "cells": [
  {
   "cell_type": "code",
   "execution_count": 1,
   "metadata": {
    "colab": {
     "base_uri": "https://localhost:8080/"
    },
    "id": "k5JzfaWpPfvA",
    "outputId": "70632080-91b7-4355-d8de-34d8a1f95cf4"
   },
   "outputs": [
    {
     "name": "stdout",
     "output_type": "stream",
     "text": [
      "2.0.1+cu118\n"
     ]
    }
   ],
   "source": [
    "import numpy as np\n",
    "import torch\n",
    "print(torch.__version__)\n",
    "\n",
    "from tqdm import tqdm\n",
    "import matplotlib.pyplot as plt\n",
    "\n",
    "from torch.utils.tensorboard import SummaryWriter"
   ]
  },
  {
   "cell_type": "code",
   "execution_count": 2,
   "metadata": {
    "id": "dAyc7jJoEkPN"
   },
   "outputs": [],
   "source": [
    "from utils import eval_model, train, smooth, save_model, load_model, model_params, eval_plots, set_random_seed, eval_model_conf\n",
    "from dataset_utils import extract_frames"
   ]
  },
  {
   "cell_type": "code",
   "execution_count": 3,
   "metadata": {
    "id": "4elqlUxcBRTl"
   },
   "outputs": [],
   "source": [
    "set_random_seed(420)"
   ]
  },
  {
   "cell_type": "code",
   "execution_count": 4,
   "metadata": {
    "id": "O_FolssxjAsG"
   },
   "outputs": [],
   "source": [
    "import torch.nn as nn\n",
    "import torchvision\n",
    "import torchvision.transforms as transforms\n",
    "import torchvision.datasets as datasets\n",
    "from torchvision import models\n",
    "\n",
    "import os\n",
    "import shutil"
   ]
  },
  {
   "cell_type": "code",
   "execution_count": 5,
   "metadata": {
    "colab": {
     "base_uri": "https://localhost:8080/"
    },
    "id": "goE8kSeVQUU3",
    "outputId": "6f7911b6-6db2-4fb4-c0ed-f76ad82b55eb"
   },
   "outputs": [
    {
     "name": "stdout",
     "output_type": "stream",
     "text": [
      "cuda\n"
     ]
    }
   ],
   "source": [
    "# choose device to be used depending on availability\n",
    "device = torch.device(\"cuda\" if torch.cuda.is_available() else \"cpu\")\n",
    "print(device)"
   ]
  },
  {
   "cell_type": "markdown",
   "metadata": {
    "id": "XoNyz6Sk5-3X"
   },
   "source": [
    "### download dataset and unzip"
   ]
  },
  {
   "cell_type": "markdown",
   "metadata": {
    "id": "dYUID1T-um5J"
   },
   "source": [
    "use preloaded from google drive"
   ]
  },
  {
   "cell_type": "code",
   "execution_count": 6,
   "metadata": {
    "colab": {
     "base_uri": "https://localhost:8080/"
    },
    "id": "h0tqtdIKGxh2",
    "outputId": "6a85576d-5803-40fa-cc8b-facb2ec9a274"
   },
   "outputs": [
    {
     "name": "stdout",
     "output_type": "stream",
     "text": [
      "Mounted at /content/gdrive\n"
     ]
    }
   ],
   "source": [
    "from google.colab import drive\n",
    "drive.mount('/content/gdrive')"
   ]
  },
  {
   "cell_type": "code",
   "execution_count": 7,
   "metadata": {
    "colab": {
     "base_uri": "https://localhost:8080/"
    },
    "id": "bh8DJKA4INgu",
    "outputId": "b13d6ced-9a9e-417a-f6cf-236523ee321e"
   },
   "outputs": [
    {
     "name": "stdout",
     "output_type": "stream",
     "text": [
      "Archive:  /content/gdrive/MyDrive/KTH/videos/boxing.zip\n",
      "  inflating: KTH/data/videos/person01_boxing_d1_uncomp.avi  \n",
      "  inflating: KTH/data/videos/person01_boxing_d2_uncomp.avi  \n",
      "  inflating: KTH/data/videos/person01_boxing_d3_uncomp.avi  \n",
      "  inflating: KTH/data/videos/person01_boxing_d4_uncomp.avi  \n",
      "  inflating: KTH/data/videos/person02_boxing_d1_uncomp.avi  \n",
      "  inflating: KTH/data/videos/person02_boxing_d2_uncomp.avi  \n",
      "  inflating: KTH/data/videos/person02_boxing_d3_uncomp.avi  \n",
      "  inflating: KTH/data/videos/person02_boxing_d4_uncomp.avi  \n",
      "  inflating: KTH/data/videos/person03_boxing_d1_uncomp.avi  \n",
      "  inflating: KTH/data/videos/person03_boxing_d2_uncomp.avi  \n",
      "  inflating: KTH/data/videos/person03_boxing_d3_uncomp.avi  \n",
      "  inflating: KTH/data/videos/person03_boxing_d4_uncomp.avi  \n",
      "  inflating: KTH/data/videos/person04_boxing_d1_uncomp.avi  \n",
      "  inflating: KTH/data/videos/person04_boxing_d2_uncomp.avi  \n",
      "  inflating: KTH/data/videos/person04_boxing_d3_uncomp.avi  \n",
      "  inflating: KTH/data/videos/person04_boxing_d4_uncomp.avi  \n",
      "  inflating: KTH/data/videos/person05_boxing_d1_uncomp.avi  \n",
      "  inflating: KTH/data/videos/person05_boxing_d2_uncomp.avi  \n",
      "  inflating: KTH/data/videos/person05_boxing_d3_uncomp.avi  \n",
      "  inflating: KTH/data/videos/person05_boxing_d4_uncomp.avi  \n",
      "  inflating: KTH/data/videos/person06_boxing_d1_uncomp.avi  \n",
      "  inflating: KTH/data/videos/person06_boxing_d2_uncomp.avi  \n",
      "  inflating: KTH/data/videos/person06_boxing_d3_uncomp.avi  \n",
      "  inflating: KTH/data/videos/person06_boxing_d4_uncomp.avi  \n",
      "  inflating: KTH/data/videos/person07_boxing_d1_uncomp.avi  \n",
      "  inflating: KTH/data/videos/person07_boxing_d2_uncomp.avi  \n",
      "  inflating: KTH/data/videos/person07_boxing_d3_uncomp.avi  \n",
      "  inflating: KTH/data/videos/person07_boxing_d4_uncomp.avi  \n",
      "  inflating: KTH/data/videos/person08_boxing_d1_uncomp.avi  \n",
      "  inflating: KTH/data/videos/person08_boxing_d2_uncomp.avi  \n",
      "  inflating: KTH/data/videos/person08_boxing_d3_uncomp.avi  \n",
      "  inflating: KTH/data/videos/person08_boxing_d4_uncomp.avi  \n",
      "  inflating: KTH/data/videos/person09_boxing_d1_uncomp.avi  \n",
      "  inflating: KTH/data/videos/person09_boxing_d2_uncomp.avi  \n",
      "  inflating: KTH/data/videos/person09_boxing_d3_uncomp.avi  \n",
      "  inflating: KTH/data/videos/person09_boxing_d4_uncomp.avi  \n",
      "  inflating: KTH/data/videos/person10_boxing_d1_uncomp.avi  \n",
      "  inflating: KTH/data/videos/person10_boxing_d2_uncomp.avi  \n",
      "  inflating: KTH/data/videos/person10_boxing_d3_uncomp.avi  \n",
      "  inflating: KTH/data/videos/person10_boxing_d4_uncomp.avi  \n",
      "  inflating: KTH/data/videos/person11_boxing_d1_uncomp.avi  \n",
      "  inflating: KTH/data/videos/person11_boxing_d2_uncomp.avi  \n",
      "  inflating: KTH/data/videos/person11_boxing_d3_uncomp.avi  \n",
      "  inflating: KTH/data/videos/person11_boxing_d4_uncomp.avi  \n",
      "  inflating: KTH/data/videos/person12_boxing_d1_uncomp.avi  \n",
      "  inflating: KTH/data/videos/person12_boxing_d2_uncomp.avi  \n",
      "  inflating: KTH/data/videos/person12_boxing_d3_uncomp.avi  \n",
      "  inflating: KTH/data/videos/person12_boxing_d4_uncomp.avi  \n",
      "  inflating: KTH/data/videos/person13_boxing_d1_uncomp.avi  \n",
      "  inflating: KTH/data/videos/person13_boxing_d2_uncomp.avi  \n",
      "  inflating: KTH/data/videos/person13_boxing_d3_uncomp.avi  \n",
      "  inflating: KTH/data/videos/person13_boxing_d4_uncomp.avi  \n",
      "  inflating: KTH/data/videos/person14_boxing_d1_uncomp.avi  \n",
      "  inflating: KTH/data/videos/person14_boxing_d2_uncomp.avi  \n",
      "  inflating: KTH/data/videos/person14_boxing_d3_uncomp.avi  \n",
      "  inflating: KTH/data/videos/person14_boxing_d4_uncomp.avi  \n",
      "  inflating: KTH/data/videos/person15_boxing_d1_uncomp.avi  \n",
      "  inflating: KTH/data/videos/person15_boxing_d2_uncomp.avi  \n",
      "  inflating: KTH/data/videos/person15_boxing_d3_uncomp.avi  \n",
      "  inflating: KTH/data/videos/person15_boxing_d4_uncomp.avi  \n",
      "  inflating: KTH/data/videos/person16_boxing_d1_uncomp.avi  \n",
      "  inflating: KTH/data/videos/person16_boxing_d2_uncomp.avi  \n",
      "  inflating: KTH/data/videos/person16_boxing_d3_uncomp.avi  \n",
      "  inflating: KTH/data/videos/person16_boxing_d4_uncomp.avi  \n",
      "  inflating: KTH/data/videos/person17_boxing_d1_uncomp.avi  \n",
      "  inflating: KTH/data/videos/person17_boxing_d2_uncomp.avi  \n",
      "  inflating: KTH/data/videos/person17_boxing_d3_uncomp.avi  \n",
      "  inflating: KTH/data/videos/person17_boxing_d4_uncomp.avi  \n",
      "  inflating: KTH/data/videos/person18_boxing_d1_uncomp.avi  \n",
      "  inflating: KTH/data/videos/person18_boxing_d2_uncomp.avi  \n",
      "  inflating: KTH/data/videos/person18_boxing_d3_uncomp.avi  \n",
      "  inflating: KTH/data/videos/person18_boxing_d4_uncomp.avi  \n",
      "  inflating: KTH/data/videos/person19_boxing_d1_uncomp.avi  \n",
      "  inflating: KTH/data/videos/person19_boxing_d2_uncomp.avi  \n",
      "  inflating: KTH/data/videos/person19_boxing_d3_uncomp.avi  \n",
      "  inflating: KTH/data/videos/person19_boxing_d4_uncomp.avi  \n",
      "  inflating: KTH/data/videos/person20_boxing_d1_uncomp.avi  \n",
      "  inflating: KTH/data/videos/person20_boxing_d2_uncomp.avi  \n",
      "  inflating: KTH/data/videos/person20_boxing_d3_uncomp.avi  \n",
      "  inflating: KTH/data/videos/person20_boxing_d4_uncomp.avi  \n",
      "  inflating: KTH/data/videos/person21_boxing_d1_uncomp.avi  \n",
      "  inflating: KTH/data/videos/person21_boxing_d2_uncomp.avi  \n",
      "  inflating: KTH/data/videos/person21_boxing_d3_uncomp.avi  \n",
      "  inflating: KTH/data/videos/person21_boxing_d4_uncomp.avi  \n",
      "  inflating: KTH/data/videos/person22_boxing_d1_uncomp.avi  \n",
      "  inflating: KTH/data/videos/person22_boxing_d2_uncomp.avi  \n",
      "  inflating: KTH/data/videos/person22_boxing_d3_uncomp.avi  \n",
      "  inflating: KTH/data/videos/person22_boxing_d4_uncomp.avi  \n",
      "  inflating: KTH/data/videos/person23_boxing_d1_uncomp.avi  \n",
      "  inflating: KTH/data/videos/person23_boxing_d2_uncomp.avi  \n",
      "  inflating: KTH/data/videos/person23_boxing_d3_uncomp.avi  \n",
      "  inflating: KTH/data/videos/person23_boxing_d4_uncomp.avi  \n",
      "  inflating: KTH/data/videos/person24_boxing_d1_uncomp.avi  \n",
      "  inflating: KTH/data/videos/person24_boxing_d2_uncomp.avi  \n",
      "  inflating: KTH/data/videos/person24_boxing_d3_uncomp.avi  \n",
      "  inflating: KTH/data/videos/person24_boxing_d4_uncomp.avi  \n",
      "  inflating: KTH/data/videos/person25_boxing_d1_uncomp.avi  \n",
      "  inflating: KTH/data/videos/person25_boxing_d2_uncomp.avi  \n",
      "  inflating: KTH/data/videos/person25_boxing_d3_uncomp.avi  \n",
      "  inflating: KTH/data/videos/person25_boxing_d4_uncomp.avi  \n",
      "Archive:  /content/gdrive/MyDrive/KTH/videos/handclapping.zip\n",
      "  inflating: KTH/data/videos/person01_handclapping_d1_uncomp.avi  \n",
      "  inflating: KTH/data/videos/person01_handclapping_d2_uncomp.avi  \n",
      "  inflating: KTH/data/videos/person01_handclapping_d3_uncomp.avi  \n",
      "  inflating: KTH/data/videos/person01_handclapping_d4_uncomp.avi  \n",
      "  inflating: KTH/data/videos/person02_handclapping_d1_uncomp.avi  \n",
      "  inflating: KTH/data/videos/person02_handclapping_d2_uncomp.avi  \n",
      "  inflating: KTH/data/videos/person02_handclapping_d3_uncomp.avi  \n",
      "  inflating: KTH/data/videos/person02_handclapping_d4_uncomp.avi  \n",
      "  inflating: KTH/data/videos/person03_handclapping_d1_uncomp.avi  \n",
      "  inflating: KTH/data/videos/person03_handclapping_d2_uncomp.avi  \n",
      "  inflating: KTH/data/videos/person03_handclapping_d3_uncomp.avi  \n",
      "  inflating: KTH/data/videos/person03_handclapping_d4_uncomp.avi  \n",
      "  inflating: KTH/data/videos/person04_handclapping_d1_uncomp.avi  \n",
      "  inflating: KTH/data/videos/person04_handclapping_d2_uncomp.avi  \n",
      "  inflating: KTH/data/videos/person04_handclapping_d3_uncomp.avi  \n",
      "  inflating: KTH/data/videos/person04_handclapping_d4_uncomp.avi  \n",
      "  inflating: KTH/data/videos/person05_handclapping_d1_uncomp.avi  \n",
      "  inflating: KTH/data/videos/person05_handclapping_d2_uncomp.avi  \n",
      "  inflating: KTH/data/videos/person05_handclapping_d3_uncomp.avi  \n",
      "  inflating: KTH/data/videos/person05_handclapping_d4_uncomp.avi  \n",
      "  inflating: KTH/data/videos/person06_handclapping_d1_uncomp.avi  \n",
      "  inflating: KTH/data/videos/person06_handclapping_d2_uncomp.avi  \n",
      "  inflating: KTH/data/videos/person06_handclapping_d3_uncomp.avi  \n",
      "  inflating: KTH/data/videos/person06_handclapping_d4_uncomp.avi  \n",
      "  inflating: KTH/data/videos/person07_handclapping_d1_uncomp.avi  \n",
      "  inflating: KTH/data/videos/person07_handclapping_d2_uncomp.avi  \n",
      "  inflating: KTH/data/videos/person07_handclapping_d3_uncomp.avi  \n",
      "  inflating: KTH/data/videos/person07_handclapping_d4_uncomp.avi  \n",
      "  inflating: KTH/data/videos/person08_handclapping_d1_uncomp.avi  \n",
      "  inflating: KTH/data/videos/person08_handclapping_d2_uncomp.avi  \n",
      "  inflating: KTH/data/videos/person08_handclapping_d3_uncomp.avi  \n",
      "  inflating: KTH/data/videos/person08_handclapping_d4_uncomp.avi  \n",
      "  inflating: KTH/data/videos/person09_handclapping_d1_uncomp.avi  \n",
      "  inflating: KTH/data/videos/person09_handclapping_d2_uncomp.avi  \n",
      "  inflating: KTH/data/videos/person09_handclapping_d3_uncomp.avi  \n",
      "  inflating: KTH/data/videos/person09_handclapping_d4_uncomp.avi  \n",
      "  inflating: KTH/data/videos/person10_handclapping_d1_uncomp.avi  \n",
      "  inflating: KTH/data/videos/person10_handclapping_d2_uncomp.avi  \n",
      "  inflating: KTH/data/videos/person10_handclapping_d3_uncomp.avi  \n",
      "  inflating: KTH/data/videos/person10_handclapping_d4_uncomp.avi  \n",
      "  inflating: KTH/data/videos/person11_handclapping_d1_uncomp.avi  \n",
      "  inflating: KTH/data/videos/person11_handclapping_d2_uncomp.avi  \n",
      "  inflating: KTH/data/videos/person11_handclapping_d3_uncomp.avi  \n",
      "  inflating: KTH/data/videos/person11_handclapping_d4_uncomp.avi  \n",
      "  inflating: KTH/data/videos/person12_handclapping_d1_uncomp.avi  \n",
      "  inflating: KTH/data/videos/person12_handclapping_d2_uncomp.avi  \n",
      "  inflating: KTH/data/videos/person12_handclapping_d3_uncomp.avi  \n",
      "  inflating: KTH/data/videos/person12_handclapping_d4_uncomp.avi  \n",
      "  inflating: KTH/data/videos/person13_handclapping_d1_uncomp.avi  \n",
      "  inflating: KTH/data/videos/person13_handclapping_d2_uncomp.avi  \n",
      "  inflating: KTH/data/videos/person13_handclapping_d4_uncomp.avi  \n",
      "  inflating: KTH/data/videos/person14_handclapping_d1_uncomp.avi  \n",
      "  inflating: KTH/data/videos/person14_handclapping_d2_uncomp.avi  \n",
      "  inflating: KTH/data/videos/person14_handclapping_d3_uncomp.avi  \n",
      "  inflating: KTH/data/videos/person14_handclapping_d4_uncomp.avi  \n",
      "  inflating: KTH/data/videos/person15_handclapping_d1_uncomp.avi  \n",
      "  inflating: KTH/data/videos/person15_handclapping_d2_uncomp.avi  \n",
      "  inflating: KTH/data/videos/person15_handclapping_d3_uncomp.avi  \n",
      "  inflating: KTH/data/videos/person15_handclapping_d4_uncomp.avi  \n",
      "  inflating: KTH/data/videos/person16_handclapping_d1_uncomp.avi  \n",
      "  inflating: KTH/data/videos/person16_handclapping_d2_uncomp.avi  \n",
      "  inflating: KTH/data/videos/person16_handclapping_d3_uncomp.avi  \n",
      "  inflating: KTH/data/videos/person16_handclapping_d4_uncomp.avi  \n",
      "  inflating: KTH/data/videos/person17_handclapping_d1_uncomp.avi  \n",
      "  inflating: KTH/data/videos/person17_handclapping_d2_uncomp.avi  \n",
      "  inflating: KTH/data/videos/person17_handclapping_d3_uncomp.avi  \n",
      "  inflating: KTH/data/videos/person17_handclapping_d4_uncomp.avi  \n",
      "  inflating: KTH/data/videos/person18_handclapping_d1_uncomp.avi  \n",
      "  inflating: KTH/data/videos/person18_handclapping_d2_uncomp.avi  \n",
      "  inflating: KTH/data/videos/person18_handclapping_d3_uncomp.avi  \n",
      "  inflating: KTH/data/videos/person18_handclapping_d4_uncomp.avi  \n",
      "  inflating: KTH/data/videos/person19_handclapping_d1_uncomp.avi  \n",
      "  inflating: KTH/data/videos/person19_handclapping_d2_uncomp.avi  \n",
      "  inflating: KTH/data/videos/person19_handclapping_d3_uncomp.avi  \n",
      "  inflating: KTH/data/videos/person19_handclapping_d4_uncomp.avi  \n",
      "  inflating: KTH/data/videos/person20_handclapping_d1_uncomp.avi  \n",
      "  inflating: KTH/data/videos/person20_handclapping_d2_uncomp.avi  \n",
      "  inflating: KTH/data/videos/person20_handclapping_d3_uncomp.avi  \n",
      "  inflating: KTH/data/videos/person20_handclapping_d4_uncomp.avi  \n",
      "  inflating: KTH/data/videos/person21_handclapping_d1_uncomp.avi  \n",
      "  inflating: KTH/data/videos/person21_handclapping_d2_uncomp.avi  \n",
      "  inflating: KTH/data/videos/person21_handclapping_d3_uncomp.avi  \n",
      "  inflating: KTH/data/videos/person21_handclapping_d4_uncomp.avi  \n",
      "  inflating: KTH/data/videos/person22_handclapping_d1_uncomp.avi  \n",
      "  inflating: KTH/data/videos/person22_handclapping_d2_uncomp.avi  \n",
      "  inflating: KTH/data/videos/person22_handclapping_d3_uncomp.avi  \n",
      "  inflating: KTH/data/videos/person22_handclapping_d4_uncomp.avi  \n",
      "  inflating: KTH/data/videos/person23_handclapping_d1_uncomp.avi  \n",
      "  inflating: KTH/data/videos/person23_handclapping_d2_uncomp.avi  \n",
      "  inflating: KTH/data/videos/person23_handclapping_d3_uncomp.avi  \n",
      "  inflating: KTH/data/videos/person23_handclapping_d4_uncomp.avi  \n",
      "  inflating: KTH/data/videos/person24_handclapping_d1_uncomp.avi  \n",
      "  inflating: KTH/data/videos/person24_handclapping_d2_uncomp.avi  \n",
      "  inflating: KTH/data/videos/person24_handclapping_d3_uncomp.avi  \n",
      "  inflating: KTH/data/videos/person24_handclapping_d4_uncomp.avi  \n",
      "  inflating: KTH/data/videos/person25_handclapping_d1_uncomp.avi  \n",
      "  inflating: KTH/data/videos/person25_handclapping_d2_uncomp.avi  \n",
      "  inflating: KTH/data/videos/person25_handclapping_d3_uncomp.avi  \n",
      "  inflating: KTH/data/videos/person25_handclapping_d4_uncomp.avi  \n",
      "Archive:  /content/gdrive/MyDrive/KTH/videos/handwaving.zip\n",
      "  inflating: KTH/data/videos/person01_handwaving_d1_uncomp.avi  \n",
      "  inflating: KTH/data/videos/person01_handwaving_d2_uncomp.avi  \n",
      "  inflating: KTH/data/videos/person01_handwaving_d3_uncomp.avi  \n",
      "  inflating: KTH/data/videos/person01_handwaving_d4_uncomp.avi  \n",
      "  inflating: KTH/data/videos/person02_handwaving_d1_uncomp.avi  \n",
      "  inflating: KTH/data/videos/person02_handwaving_d2_uncomp.avi  \n",
      "  inflating: KTH/data/videos/person02_handwaving_d3_uncomp.avi  \n",
      "  inflating: KTH/data/videos/person02_handwaving_d4_uncomp.avi  \n",
      "  inflating: KTH/data/videos/person03_handwaving_d1_uncomp.avi  \n",
      "  inflating: KTH/data/videos/person03_handwaving_d2_uncomp.avi  \n",
      "  inflating: KTH/data/videos/person03_handwaving_d3_uncomp.avi  \n",
      "  inflating: KTH/data/videos/person03_handwaving_d4_uncomp.avi  \n",
      "  inflating: KTH/data/videos/person04_handwaving_d1_uncomp.avi  \n",
      "  inflating: KTH/data/videos/person04_handwaving_d2_uncomp.avi  \n",
      "  inflating: KTH/data/videos/person04_handwaving_d3_uncomp.avi  \n",
      "  inflating: KTH/data/videos/person04_handwaving_d4_uncomp.avi  \n",
      "  inflating: KTH/data/videos/person05_handwaving_d1_uncomp.avi  \n",
      "  inflating: KTH/data/videos/person05_handwaving_d2_uncomp.avi  \n",
      "  inflating: KTH/data/videos/person05_handwaving_d3_uncomp.avi  \n",
      "  inflating: KTH/data/videos/person05_handwaving_d4_uncomp.avi  \n",
      "  inflating: KTH/data/videos/person06_handwaving_d1_uncomp.avi  \n",
      "  inflating: KTH/data/videos/person06_handwaving_d2_uncomp.avi  \n",
      "  inflating: KTH/data/videos/person06_handwaving_d3_uncomp.avi  \n",
      "  inflating: KTH/data/videos/person06_handwaving_d4_uncomp.avi  \n",
      "  inflating: KTH/data/videos/person07_handwaving_d1_uncomp.avi  \n",
      "  inflating: KTH/data/videos/person07_handwaving_d2_uncomp.avi  \n",
      "  inflating: KTH/data/videos/person07_handwaving_d3_uncomp.avi  \n",
      "  inflating: KTH/data/videos/person07_handwaving_d4_uncomp.avi  \n",
      "  inflating: KTH/data/videos/person08_handwaving_d1_uncomp.avi  \n",
      "  inflating: KTH/data/videos/person08_handwaving_d2_uncomp.avi  \n",
      "  inflating: KTH/data/videos/person08_handwaving_d3_uncomp.avi  \n",
      "  inflating: KTH/data/videos/person08_handwaving_d4_uncomp.avi  \n",
      "  inflating: KTH/data/videos/person09_handwaving_d1_uncomp.avi  \n",
      "  inflating: KTH/data/videos/person09_handwaving_d2_uncomp.avi  \n",
      "  inflating: KTH/data/videos/person09_handwaving_d3_uncomp.avi  \n",
      "  inflating: KTH/data/videos/person09_handwaving_d4_uncomp.avi  \n",
      "  inflating: KTH/data/videos/person10_handwaving_d1_uncomp.avi  \n",
      "  inflating: KTH/data/videos/person10_handwaving_d2_uncomp.avi  \n",
      "  inflating: KTH/data/videos/person10_handwaving_d3_uncomp.avi  \n",
      "  inflating: KTH/data/videos/person10_handwaving_d4_uncomp.avi  \n",
      "  inflating: KTH/data/videos/person11_handwaving_d1_uncomp.avi  \n",
      "  inflating: KTH/data/videos/person11_handwaving_d2_uncomp.avi  \n",
      "  inflating: KTH/data/videos/person11_handwaving_d3_uncomp.avi  \n",
      "  inflating: KTH/data/videos/person11_handwaving_d4_uncomp.avi  \n",
      "  inflating: KTH/data/videos/person12_handwaving_d1_uncomp.avi  \n",
      "  inflating: KTH/data/videos/person12_handwaving_d2_uncomp.avi  \n",
      "  inflating: KTH/data/videos/person12_handwaving_d3_uncomp.avi  \n",
      "  inflating: KTH/data/videos/person12_handwaving_d4_uncomp.avi  \n",
      "  inflating: KTH/data/videos/person13_handwaving_d1_uncomp.avi  \n",
      "  inflating: KTH/data/videos/person13_handwaving_d2_uncomp.avi  \n",
      "  inflating: KTH/data/videos/person13_handwaving_d3_uncomp.avi  \n",
      "  inflating: KTH/data/videos/person13_handwaving_d4_uncomp.avi  \n",
      "  inflating: KTH/data/videos/person14_handwaving_d1_uncomp.avi  \n",
      "  inflating: KTH/data/videos/person14_handwaving_d2_uncomp.avi  \n",
      "  inflating: KTH/data/videos/person14_handwaving_d3_uncomp.avi  \n",
      "  inflating: KTH/data/videos/person14_handwaving_d4_uncomp.avi  \n",
      "  inflating: KTH/data/videos/person15_handwaving_d1_uncomp.avi  \n",
      "  inflating: KTH/data/videos/person15_handwaving_d2_uncomp.avi  \n",
      "  inflating: KTH/data/videos/person15_handwaving_d3_uncomp.avi  \n",
      "  inflating: KTH/data/videos/person15_handwaving_d4_uncomp.avi  \n",
      "  inflating: KTH/data/videos/person16_handwaving_d1_uncomp.avi  \n",
      "  inflating: KTH/data/videos/person16_handwaving_d2_uncomp.avi  \n",
      "  inflating: KTH/data/videos/person16_handwaving_d3_uncomp.avi  \n",
      "  inflating: KTH/data/videos/person16_handwaving_d4_uncomp.avi  \n",
      "  inflating: KTH/data/videos/person17_handwaving_d1_uncomp.avi  \n",
      "  inflating: KTH/data/videos/person17_handwaving_d2_uncomp.avi  \n",
      "  inflating: KTH/data/videos/person17_handwaving_d3_uncomp.avi  \n",
      "  inflating: KTH/data/videos/person17_handwaving_d4_uncomp.avi  \n",
      "  inflating: KTH/data/videos/person18_handwaving_d1_uncomp.avi  \n",
      "  inflating: KTH/data/videos/person18_handwaving_d2_uncomp.avi  \n",
      "  inflating: KTH/data/videos/person18_handwaving_d3_uncomp.avi  \n",
      "  inflating: KTH/data/videos/person18_handwaving_d4_uncomp.avi  \n",
      "  inflating: KTH/data/videos/person19_handwaving_d1_uncomp.avi  \n",
      "  inflating: KTH/data/videos/person19_handwaving_d2_uncomp.avi  \n",
      "  inflating: KTH/data/videos/person19_handwaving_d3_uncomp.avi  \n",
      "  inflating: KTH/data/videos/person19_handwaving_d4_uncomp.avi  \n",
      "  inflating: KTH/data/videos/person20_handwaving_d1_uncomp.avi  \n",
      "  inflating: KTH/data/videos/person20_handwaving_d2_uncomp.avi  \n",
      "  inflating: KTH/data/videos/person20_handwaving_d3_uncomp.avi  \n",
      "  inflating: KTH/data/videos/person20_handwaving_d4_uncomp.avi  \n",
      "  inflating: KTH/data/videos/person21_handwaving_d1_uncomp.avi  \n",
      "  inflating: KTH/data/videos/person21_handwaving_d2_uncomp.avi  \n",
      "  inflating: KTH/data/videos/person21_handwaving_d3_uncomp.avi  \n",
      "  inflating: KTH/data/videos/person21_handwaving_d4_uncomp.avi  \n",
      "  inflating: KTH/data/videos/person22_handwaving_d1_uncomp.avi  \n",
      "  inflating: KTH/data/videos/person22_handwaving_d2_uncomp.avi  \n",
      "  inflating: KTH/data/videos/person22_handwaving_d3_uncomp.avi  \n",
      "  inflating: KTH/data/videos/person22_handwaving_d4_uncomp.avi  \n",
      "  inflating: KTH/data/videos/person23_handwaving_d1_uncomp.avi  \n",
      "  inflating: KTH/data/videos/person23_handwaving_d2_uncomp.avi  \n",
      "  inflating: KTH/data/videos/person23_handwaving_d3_uncomp.avi  \n",
      "  inflating: KTH/data/videos/person23_handwaving_d4_uncomp.avi  \n",
      "  inflating: KTH/data/videos/person24_handwaving_d1_uncomp.avi  \n",
      "  inflating: KTH/data/videos/person24_handwaving_d2_uncomp.avi  \n",
      "  inflating: KTH/data/videos/person24_handwaving_d3_uncomp.avi  \n",
      "  inflating: KTH/data/videos/person24_handwaving_d4_uncomp.avi  \n",
      "  inflating: KTH/data/videos/person25_handwaving_d1_uncomp.avi  \n",
      "  inflating: KTH/data/videos/person25_handwaving_d2_uncomp.avi  \n",
      "  inflating: KTH/data/videos/person25_handwaving_d3_uncomp.avi  \n",
      "  inflating: KTH/data/videos/person25_handwaving_d4_uncomp.avi  \n",
      "Archive:  /content/gdrive/MyDrive/KTH/videos/jogging.zip\n",
      "  inflating: KTH/data/videos/person01_jogging_d1_uncomp.avi  \n",
      "  inflating: KTH/data/videos/person01_jogging_d2_uncomp.avi  \n",
      "  inflating: KTH/data/videos/person01_jogging_d3_uncomp.avi  \n",
      "  inflating: KTH/data/videos/person01_jogging_d4_uncomp.avi  \n",
      "  inflating: KTH/data/videos/person02_jogging_d1_uncomp.avi  \n",
      "  inflating: KTH/data/videos/person02_jogging_d2_uncomp.avi  \n",
      "  inflating: KTH/data/videos/person02_jogging_d3_uncomp.avi  \n",
      "  inflating: KTH/data/videos/person02_jogging_d4_uncomp.avi  \n",
      "  inflating: KTH/data/videos/person03_jogging_d1_uncomp.avi  \n",
      "  inflating: KTH/data/videos/person03_jogging_d2_uncomp.avi  \n",
      "  inflating: KTH/data/videos/person03_jogging_d3_uncomp.avi  \n",
      "  inflating: KTH/data/videos/person03_jogging_d4_uncomp.avi  \n",
      "  inflating: KTH/data/videos/person04_jogging_d1_uncomp.avi  \n",
      "  inflating: KTH/data/videos/person04_jogging_d2_uncomp.avi  \n",
      "  inflating: KTH/data/videos/person04_jogging_d3_uncomp.avi  \n",
      "  inflating: KTH/data/videos/person04_jogging_d4_uncomp.avi  \n",
      "  inflating: KTH/data/videos/person05_jogging_d1_uncomp.avi  \n",
      "  inflating: KTH/data/videos/person05_jogging_d2_uncomp.avi  \n",
      "  inflating: KTH/data/videos/person05_jogging_d3_uncomp.avi  \n",
      "  inflating: KTH/data/videos/person05_jogging_d4_uncomp.avi  \n",
      "  inflating: KTH/data/videos/person06_jogging_d1_uncomp.avi  \n",
      "  inflating: KTH/data/videos/person06_jogging_d2_uncomp.avi  \n",
      "  inflating: KTH/data/videos/person06_jogging_d3_uncomp.avi  \n",
      "  inflating: KTH/data/videos/person06_jogging_d4_uncomp.avi  \n",
      "  inflating: KTH/data/videos/person07_jogging_d1_uncomp.avi  \n",
      "  inflating: KTH/data/videos/person07_jogging_d2_uncomp.avi  \n",
      "  inflating: KTH/data/videos/person07_jogging_d3_uncomp.avi  \n",
      "  inflating: KTH/data/videos/person07_jogging_d4_uncomp.avi  \n",
      "  inflating: KTH/data/videos/person08_jogging_d1_uncomp.avi  \n",
      "  inflating: KTH/data/videos/person08_jogging_d2_uncomp.avi  \n",
      "  inflating: KTH/data/videos/person08_jogging_d3_uncomp.avi  \n",
      "  inflating: KTH/data/videos/person08_jogging_d4_uncomp.avi  \n",
      "  inflating: KTH/data/videos/person09_jogging_d1_uncomp.avi  \n",
      "  inflating: KTH/data/videos/person09_jogging_d2_uncomp.avi  \n",
      "  inflating: KTH/data/videos/person09_jogging_d3_uncomp.avi  \n",
      "  inflating: KTH/data/videos/person09_jogging_d4_uncomp.avi  \n",
      "  inflating: KTH/data/videos/person10_jogging_d1_uncomp.avi  \n",
      "  inflating: KTH/data/videos/person10_jogging_d2_uncomp.avi  \n",
      "  inflating: KTH/data/videos/person10_jogging_d3_uncomp.avi  \n",
      "  inflating: KTH/data/videos/person10_jogging_d4_uncomp.avi  \n",
      "  inflating: KTH/data/videos/person11_jogging_d1_uncomp.avi  \n",
      "  inflating: KTH/data/videos/person11_jogging_d2_uncomp.avi  \n",
      "  inflating: KTH/data/videos/person11_jogging_d3_uncomp.avi  \n",
      "  inflating: KTH/data/videos/person11_jogging_d4_uncomp.avi  \n",
      "  inflating: KTH/data/videos/person12_jogging_d1_uncomp.avi  \n",
      "  inflating: KTH/data/videos/person12_jogging_d2_uncomp.avi  \n",
      "  inflating: KTH/data/videos/person12_jogging_d3_uncomp.avi  \n",
      "  inflating: KTH/data/videos/person12_jogging_d4_uncomp.avi  \n",
      "  inflating: KTH/data/videos/person13_jogging_d1_uncomp.avi  \n",
      "  inflating: KTH/data/videos/person13_jogging_d2_uncomp.avi  \n",
      "  inflating: KTH/data/videos/person13_jogging_d3_uncomp.avi  \n",
      "  inflating: KTH/data/videos/person13_jogging_d4_uncomp.avi  \n",
      "  inflating: KTH/data/videos/person14_jogging_d1_uncomp.avi  \n",
      "  inflating: KTH/data/videos/person14_jogging_d2_uncomp.avi  \n",
      "  inflating: KTH/data/videos/person14_jogging_d3_uncomp.avi  \n",
      "  inflating: KTH/data/videos/person14_jogging_d4_uncomp.avi  \n",
      "  inflating: KTH/data/videos/person15_jogging_d1_uncomp.avi  \n",
      "  inflating: KTH/data/videos/person15_jogging_d2_uncomp.avi  \n",
      "  inflating: KTH/data/videos/person15_jogging_d3_uncomp.avi  \n",
      "  inflating: KTH/data/videos/person15_jogging_d4_uncomp.avi  \n",
      "  inflating: KTH/data/videos/person16_jogging_d1_uncomp.avi  \n",
      "  inflating: KTH/data/videos/person16_jogging_d2_uncomp.avi  \n",
      "  inflating: KTH/data/videos/person16_jogging_d3_uncomp.avi  \n",
      "  inflating: KTH/data/videos/person16_jogging_d4_uncomp.avi  \n",
      "  inflating: KTH/data/videos/person17_jogging_d1_uncomp.avi  \n",
      "  inflating: KTH/data/videos/person17_jogging_d2_uncomp.avi  \n",
      "  inflating: KTH/data/videos/person17_jogging_d3_uncomp.avi  \n",
      "  inflating: KTH/data/videos/person17_jogging_d4_uncomp.avi  \n",
      "  inflating: KTH/data/videos/person18_jogging_d1_uncomp.avi  \n",
      "  inflating: KTH/data/videos/person18_jogging_d2_uncomp.avi  \n",
      "  inflating: KTH/data/videos/person18_jogging_d3_uncomp.avi  \n",
      "  inflating: KTH/data/videos/person18_jogging_d4_uncomp.avi  \n",
      "  inflating: KTH/data/videos/person19_jogging_d1_uncomp.avi  \n",
      "  inflating: KTH/data/videos/person19_jogging_d2_uncomp.avi  \n",
      "  inflating: KTH/data/videos/person19_jogging_d3_uncomp.avi  \n",
      "  inflating: KTH/data/videos/person19_jogging_d4_uncomp.avi  \n",
      "  inflating: KTH/data/videos/person20_jogging_d1_uncomp.avi  \n",
      "  inflating: KTH/data/videos/person20_jogging_d2_uncomp.avi  \n",
      "  inflating: KTH/data/videos/person20_jogging_d3_uncomp.avi  \n",
      "  inflating: KTH/data/videos/person20_jogging_d4_uncomp.avi  \n",
      "  inflating: KTH/data/videos/person21_jogging_d1_uncomp.avi  \n",
      "  inflating: KTH/data/videos/person21_jogging_d2_uncomp.avi  \n",
      "  inflating: KTH/data/videos/person21_jogging_d3_uncomp.avi  \n",
      "  inflating: KTH/data/videos/person21_jogging_d4_uncomp.avi  \n",
      "  inflating: KTH/data/videos/person22_jogging_d1_uncomp.avi  \n",
      "  inflating: KTH/data/videos/person22_jogging_d2_uncomp.avi  \n",
      "  inflating: KTH/data/videos/person22_jogging_d3_uncomp.avi  \n",
      "  inflating: KTH/data/videos/person22_jogging_d4_uncomp.avi  \n",
      "  inflating: KTH/data/videos/person23_jogging_d1_uncomp.avi  \n",
      "  inflating: KTH/data/videos/person23_jogging_d2_uncomp.avi  \n",
      "  inflating: KTH/data/videos/person23_jogging_d3_uncomp.avi  \n",
      "  inflating: KTH/data/videos/person23_jogging_d4_uncomp.avi  \n",
      "  inflating: KTH/data/videos/person24_jogging_d1_uncomp.avi  \n",
      "  inflating: KTH/data/videos/person24_jogging_d2_uncomp.avi  \n",
      "  inflating: KTH/data/videos/person24_jogging_d3_uncomp.avi  \n",
      "  inflating: KTH/data/videos/person24_jogging_d4_uncomp.avi  \n",
      "  inflating: KTH/data/videos/person25_jogging_d1_uncomp.avi  \n",
      "  inflating: KTH/data/videos/person25_jogging_d2_uncomp.avi  \n",
      "  inflating: KTH/data/videos/person25_jogging_d3_uncomp.avi  \n",
      "  inflating: KTH/data/videos/person25_jogging_d4_uncomp.avi  \n",
      "Archive:  /content/gdrive/MyDrive/KTH/videos/running.zip\n",
      "  inflating: KTH/data/videos/person01_running_d1_uncomp.avi  \n",
      "  inflating: KTH/data/videos/person01_running_d2_uncomp.avi  \n",
      "  inflating: KTH/data/videos/person01_running_d3_uncomp.avi  \n",
      "  inflating: KTH/data/videos/person01_running_d4_uncomp.avi  \n",
      "  inflating: KTH/data/videos/person02_running_d1_uncomp.avi  \n",
      "  inflating: KTH/data/videos/person02_running_d2_uncomp.avi  \n",
      "  inflating: KTH/data/videos/person02_running_d3_uncomp.avi  \n",
      "  inflating: KTH/data/videos/person02_running_d4_uncomp.avi  \n",
      "  inflating: KTH/data/videos/person03_running_d1_uncomp.avi  \n",
      "  inflating: KTH/data/videos/person03_running_d2_uncomp.avi  \n",
      "  inflating: KTH/data/videos/person03_running_d3_uncomp.avi  \n",
      "  inflating: KTH/data/videos/person03_running_d4_uncomp.avi  \n",
      "  inflating: KTH/data/videos/person04_running_d1_uncomp.avi  \n",
      "  inflating: KTH/data/videos/person04_running_d2_uncomp.avi  \n",
      "  inflating: KTH/data/videos/person04_running_d3_uncomp.avi  \n",
      "  inflating: KTH/data/videos/person04_running_d4_uncomp.avi  \n",
      "  inflating: KTH/data/videos/person05_running_d1_uncomp.avi  \n",
      "  inflating: KTH/data/videos/person05_running_d2_uncomp.avi  \n",
      "  inflating: KTH/data/videos/person05_running_d3_uncomp.avi  \n",
      "  inflating: KTH/data/videos/person05_running_d4_uncomp.avi  \n",
      "  inflating: KTH/data/videos/person06_running_d1_uncomp.avi  \n",
      "  inflating: KTH/data/videos/person06_running_d2_uncomp.avi  \n",
      "  inflating: KTH/data/videos/person06_running_d3_uncomp.avi  \n",
      "  inflating: KTH/data/videos/person06_running_d4_uncomp.avi  \n",
      "  inflating: KTH/data/videos/person07_running_d1_uncomp.avi  \n",
      "  inflating: KTH/data/videos/person07_running_d2_uncomp.avi  \n",
      "  inflating: KTH/data/videos/person07_running_d3_uncomp.avi  \n",
      "  inflating: KTH/data/videos/person07_running_d4_uncomp.avi  \n",
      "  inflating: KTH/data/videos/person08_running_d1_uncomp.avi  \n",
      "  inflating: KTH/data/videos/person08_running_d2_uncomp.avi  \n",
      "  inflating: KTH/data/videos/person08_running_d3_uncomp.avi  \n",
      "  inflating: KTH/data/videos/person08_running_d4_uncomp.avi  \n",
      "  inflating: KTH/data/videos/person09_running_d1_uncomp.avi  \n",
      "  inflating: KTH/data/videos/person09_running_d2_uncomp.avi  \n",
      "  inflating: KTH/data/videos/person09_running_d3_uncomp.avi  \n",
      "  inflating: KTH/data/videos/person09_running_d4_uncomp.avi  \n",
      "  inflating: KTH/data/videos/person10_running_d1_uncomp.avi  \n",
      "  inflating: KTH/data/videos/person10_running_d2_uncomp.avi  \n",
      "  inflating: KTH/data/videos/person10_running_d3_uncomp.avi  \n",
      "  inflating: KTH/data/videos/person10_running_d4_uncomp.avi  \n",
      "  inflating: KTH/data/videos/person11_running_d1_uncomp.avi  \n",
      "  inflating: KTH/data/videos/person11_running_d2_uncomp.avi  \n",
      "  inflating: KTH/data/videos/person11_running_d3_uncomp.avi  \n",
      "  inflating: KTH/data/videos/person11_running_d4_uncomp.avi  \n",
      "  inflating: KTH/data/videos/person12_running_d1_uncomp.avi  \n",
      "  inflating: KTH/data/videos/person12_running_d2_uncomp.avi  \n",
      "  inflating: KTH/data/videos/person12_running_d3_uncomp.avi  \n",
      "  inflating: KTH/data/videos/person12_running_d4_uncomp.avi  \n",
      "  inflating: KTH/data/videos/person13_running_d1_uncomp.avi  \n",
      "  inflating: KTH/data/videos/person13_running_d2_uncomp.avi  \n",
      "  inflating: KTH/data/videos/person13_running_d3_uncomp.avi  \n",
      "  inflating: KTH/data/videos/person13_running_d4_uncomp.avi  \n",
      "  inflating: KTH/data/videos/person14_running_d1_uncomp.avi  \n",
      "  inflating: KTH/data/videos/person14_running_d2_uncomp.avi  \n",
      "  inflating: KTH/data/videos/person14_running_d3_uncomp.avi  \n",
      "  inflating: KTH/data/videos/person14_running_d4_uncomp.avi  \n",
      "  inflating: KTH/data/videos/person15_running_d1_uncomp.avi  \n",
      "  inflating: KTH/data/videos/person15_running_d2_uncomp.avi  \n",
      "  inflating: KTH/data/videos/person15_running_d3_uncomp.avi  \n",
      "  inflating: KTH/data/videos/person15_running_d4_uncomp.avi  \n",
      "  inflating: KTH/data/videos/person16_running_d1_uncomp.avi  \n",
      "  inflating: KTH/data/videos/person16_running_d2_uncomp.avi  \n",
      "  inflating: KTH/data/videos/person16_running_d3_uncomp.avi  \n",
      "  inflating: KTH/data/videos/person16_running_d4_uncomp.avi  \n",
      "  inflating: KTH/data/videos/person17_running_d1_uncomp.avi  \n",
      "  inflating: KTH/data/videos/person17_running_d2_uncomp.avi  \n",
      "  inflating: KTH/data/videos/person17_running_d3_uncomp.avi  \n",
      "  inflating: KTH/data/videos/person17_running_d4_uncomp.avi  \n",
      "  inflating: KTH/data/videos/person18_running_d1_uncomp.avi  \n",
      "  inflating: KTH/data/videos/person18_running_d2_uncomp.avi  \n",
      "  inflating: KTH/data/videos/person18_running_d3_uncomp.avi  \n",
      "  inflating: KTH/data/videos/person18_running_d4_uncomp.avi  \n",
      "  inflating: KTH/data/videos/person19_running_d1_uncomp.avi  \n",
      "  inflating: KTH/data/videos/person19_running_d2_uncomp.avi  \n",
      "  inflating: KTH/data/videos/person19_running_d3_uncomp.avi  \n",
      "  inflating: KTH/data/videos/person19_running_d4_uncomp.avi  \n",
      "  inflating: KTH/data/videos/person20_running_d1_uncomp.avi  \n",
      "  inflating: KTH/data/videos/person20_running_d2_uncomp.avi  \n",
      "  inflating: KTH/data/videos/person20_running_d3_uncomp.avi  \n",
      "  inflating: KTH/data/videos/person20_running_d4_uncomp.avi  \n",
      "  inflating: KTH/data/videos/person21_running_d1_uncomp.avi  \n",
      "  inflating: KTH/data/videos/person21_running_d2_uncomp.avi  \n",
      "  inflating: KTH/data/videos/person21_running_d3_uncomp.avi  \n",
      "  inflating: KTH/data/videos/person21_running_d4_uncomp.avi  \n",
      "  inflating: KTH/data/videos/person22_running_d1_uncomp.avi  \n",
      "  inflating: KTH/data/videos/person22_running_d2_uncomp.avi  \n",
      "  inflating: KTH/data/videos/person22_running_d3_uncomp.avi  \n",
      "  inflating: KTH/data/videos/person22_running_d4_uncomp.avi  \n",
      "  inflating: KTH/data/videos/person23_running_d1_uncomp.avi  \n",
      "  inflating: KTH/data/videos/person23_running_d2_uncomp.avi  \n",
      "  inflating: KTH/data/videos/person23_running_d3_uncomp.avi  \n",
      "  inflating: KTH/data/videos/person23_running_d4_uncomp.avi  \n",
      "  inflating: KTH/data/videos/person24_running_d1_uncomp.avi  \n",
      "  inflating: KTH/data/videos/person24_running_d2_uncomp.avi  \n",
      "  inflating: KTH/data/videos/person24_running_d3_uncomp.avi  \n",
      "  inflating: KTH/data/videos/person24_running_d4_uncomp.avi  \n",
      "  inflating: KTH/data/videos/person25_running_d1_uncomp.avi  \n",
      "  inflating: KTH/data/videos/person25_running_d2_uncomp.avi  \n",
      "  inflating: KTH/data/videos/person25_running_d3_uncomp.avi  \n",
      "  inflating: KTH/data/videos/person25_running_d4_uncomp.avi  \n",
      "Archive:  /content/gdrive/MyDrive/KTH/videos/walking.zip\n",
      "  inflating: KTH/data/videos/person01_walking_d1_uncomp.avi  \n",
      "  inflating: KTH/data/videos/person01_walking_d2_uncomp.avi  \n",
      "  inflating: KTH/data/videos/person01_walking_d3_uncomp.avi  \n",
      "  inflating: KTH/data/videos/person01_walking_d4_uncomp.avi  \n",
      "  inflating: KTH/data/videos/person02_walking_d1_uncomp.avi  \n",
      "  inflating: KTH/data/videos/person02_walking_d2_uncomp.avi  \n",
      "  inflating: KTH/data/videos/person02_walking_d3_uncomp.avi  \n",
      "  inflating: KTH/data/videos/person02_walking_d4_uncomp.avi  \n",
      "  inflating: KTH/data/videos/person03_walking_d1_uncomp.avi  \n",
      "  inflating: KTH/data/videos/person03_walking_d2_uncomp.avi  \n",
      "  inflating: KTH/data/videos/person03_walking_d3_uncomp.avi  \n",
      "  inflating: KTH/data/videos/person03_walking_d4_uncomp.avi  \n",
      "  inflating: KTH/data/videos/person04_walking_d1_uncomp.avi  \n",
      "  inflating: KTH/data/videos/person04_walking_d2_uncomp.avi  \n",
      "  inflating: KTH/data/videos/person04_walking_d3_uncomp.avi  \n",
      "  inflating: KTH/data/videos/person04_walking_d4_uncomp.avi  \n",
      "  inflating: KTH/data/videos/person05_walking_d1_uncomp.avi  \n",
      "  inflating: KTH/data/videos/person05_walking_d2_uncomp.avi  \n",
      "  inflating: KTH/data/videos/person05_walking_d3_uncomp.avi  \n",
      "  inflating: KTH/data/videos/person05_walking_d4_uncomp.avi  \n",
      "  inflating: KTH/data/videos/person06_walking_d1_uncomp.avi  \n",
      "  inflating: KTH/data/videos/person06_walking_d2_uncomp.avi  \n",
      "  inflating: KTH/data/videos/person06_walking_d3_uncomp.avi  \n",
      "  inflating: KTH/data/videos/person06_walking_d4_uncomp.avi  \n",
      "  inflating: KTH/data/videos/person07_walking_d1_uncomp.avi  \n",
      "  inflating: KTH/data/videos/person07_walking_d2_uncomp.avi  \n",
      "  inflating: KTH/data/videos/person07_walking_d3_uncomp.avi  \n",
      "  inflating: KTH/data/videos/person07_walking_d4_uncomp.avi  \n",
      "  inflating: KTH/data/videos/person08_walking_d1_uncomp.avi  \n",
      "  inflating: KTH/data/videos/person08_walking_d2_uncomp.avi  \n",
      "  inflating: KTH/data/videos/person08_walking_d3_uncomp.avi  \n",
      "  inflating: KTH/data/videos/person08_walking_d4_uncomp.avi  \n",
      "  inflating: KTH/data/videos/person09_walking_d1_uncomp.avi  \n",
      "  inflating: KTH/data/videos/person09_walking_d2_uncomp.avi  \n",
      "  inflating: KTH/data/videos/person09_walking_d3_uncomp.avi  \n",
      "  inflating: KTH/data/videos/person09_walking_d4_uncomp.avi  \n",
      "  inflating: KTH/data/videos/person10_walking_d1_uncomp.avi  \n",
      "  inflating: KTH/data/videos/person10_walking_d2_uncomp.avi  \n",
      "  inflating: KTH/data/videos/person10_walking_d3_uncomp.avi  \n",
      "  inflating: KTH/data/videos/person10_walking_d4_uncomp.avi  \n",
      "  inflating: KTH/data/videos/person11_walking_d1_uncomp.avi  \n",
      "  inflating: KTH/data/videos/person11_walking_d2_uncomp.avi  \n",
      "  inflating: KTH/data/videos/person11_walking_d3_uncomp.avi  \n",
      "  inflating: KTH/data/videos/person11_walking_d4_uncomp.avi  \n",
      "  inflating: KTH/data/videos/person12_walking_d1_uncomp.avi  \n",
      "  inflating: KTH/data/videos/person12_walking_d2_uncomp.avi  \n",
      "  inflating: KTH/data/videos/person12_walking_d3_uncomp.avi  \n",
      "  inflating: KTH/data/videos/person12_walking_d4_uncomp.avi  \n",
      "  inflating: KTH/data/videos/person13_walking_d1_uncomp.avi  \n",
      "  inflating: KTH/data/videos/person13_walking_d2_uncomp.avi  \n",
      "  inflating: KTH/data/videos/person13_walking_d3_uncomp.avi  \n",
      "  inflating: KTH/data/videos/person13_walking_d4_uncomp.avi  \n",
      "  inflating: KTH/data/videos/person14_walking_d1_uncomp.avi  \n",
      "  inflating: KTH/data/videos/person14_walking_d2_uncomp.avi  \n",
      "  inflating: KTH/data/videos/person14_walking_d3_uncomp.avi  \n",
      "  inflating: KTH/data/videos/person14_walking_d4_uncomp.avi  \n",
      "  inflating: KTH/data/videos/person15_walking_d1_uncomp.avi  \n",
      "  inflating: KTH/data/videos/person15_walking_d2_uncomp.avi  \n",
      "  inflating: KTH/data/videos/person15_walking_d3_uncomp.avi  \n",
      "  inflating: KTH/data/videos/person15_walking_d4_uncomp.avi  \n",
      "  inflating: KTH/data/videos/person16_walking_d1_uncomp.avi  \n",
      "  inflating: KTH/data/videos/person16_walking_d2_uncomp.avi  \n",
      "  inflating: KTH/data/videos/person16_walking_d3_uncomp.avi  \n",
      "  inflating: KTH/data/videos/person16_walking_d4_uncomp.avi  \n",
      "  inflating: KTH/data/videos/person17_walking_d1_uncomp.avi  \n",
      "  inflating: KTH/data/videos/person17_walking_d2_uncomp.avi  \n",
      "  inflating: KTH/data/videos/person17_walking_d3_uncomp.avi  \n",
      "  inflating: KTH/data/videos/person17_walking_d4_uncomp.avi  \n",
      "  inflating: KTH/data/videos/person18_walking_d1_uncomp.avi  \n",
      "  inflating: KTH/data/videos/person18_walking_d2_uncomp.avi  \n",
      "  inflating: KTH/data/videos/person18_walking_d3_uncomp.avi  \n",
      "  inflating: KTH/data/videos/person18_walking_d4_uncomp.avi  \n",
      "  inflating: KTH/data/videos/person19_walking_d1_uncomp.avi  \n",
      "  inflating: KTH/data/videos/person19_walking_d2_uncomp.avi  \n",
      "  inflating: KTH/data/videos/person19_walking_d3_uncomp.avi  \n",
      "  inflating: KTH/data/videos/person19_walking_d4_uncomp.avi  \n",
      "  inflating: KTH/data/videos/person20_walking_d1_uncomp.avi  \n",
      "  inflating: KTH/data/videos/person20_walking_d2_uncomp.avi  \n",
      "  inflating: KTH/data/videos/person20_walking_d3_uncomp.avi  \n",
      "  inflating: KTH/data/videos/person20_walking_d4_uncomp.avi  \n",
      "  inflating: KTH/data/videos/person21_walking_d1_uncomp.avi  \n",
      "  inflating: KTH/data/videos/person21_walking_d2_uncomp.avi  \n",
      "  inflating: KTH/data/videos/person21_walking_d3_uncomp.avi  \n",
      "  inflating: KTH/data/videos/person21_walking_d4_uncomp.avi  \n",
      "  inflating: KTH/data/videos/person22_walking_d1_uncomp.avi  \n",
      "  inflating: KTH/data/videos/person22_walking_d2_uncomp.avi  \n",
      "  inflating: KTH/data/videos/person22_walking_d3_uncomp.avi  \n",
      "  inflating: KTH/data/videos/person22_walking_d4_uncomp.avi  \n",
      "  inflating: KTH/data/videos/person23_walking_d1_uncomp.avi  \n",
      "  inflating: KTH/data/videos/person23_walking_d2_uncomp.avi  \n",
      "  inflating: KTH/data/videos/person23_walking_d3_uncomp.avi  \n",
      "  inflating: KTH/data/videos/person23_walking_d4_uncomp.avi  \n",
      "  inflating: KTH/data/videos/person24_walking_d1_uncomp.avi  \n",
      "  inflating: KTH/data/videos/person24_walking_d2_uncomp.avi  \n",
      "  inflating: KTH/data/videos/person24_walking_d3_uncomp.avi  \n",
      "  inflating: KTH/data/videos/person24_walking_d4_uncomp.avi  \n",
      "  inflating: KTH/data/videos/person25_walking_d1_uncomp.avi  \n",
      "  inflating: KTH/data/videos/person25_walking_d2_uncomp.avi  \n",
      "  inflating: KTH/data/videos/person25_walking_d3_uncomp.avi  \n",
      "  inflating: KTH/data/videos/person25_walking_d4_uncomp.avi  \n",
      "--2023-05-23 22:48:22--  http://www.csc.kth.se/cvap/actions/00sequences.txt\n",
      "Resolving www.csc.kth.se (www.csc.kth.se)... 130.237.28.41, 2001:6b0:1:11c2::82ed:1c29\n",
      "Connecting to www.csc.kth.se (www.csc.kth.se)|130.237.28.41|:80... connected.\n",
      "HTTP request sent, awaiting response... 301 Moved Permanently\n",
      "Location: https://www.csc.kth.se/cvap/actions/00sequences.txt [following]\n",
      "--2023-05-23 22:48:23--  https://www.csc.kth.se/cvap/actions/00sequences.txt\n",
      "Connecting to www.csc.kth.se (www.csc.kth.se)|130.237.28.41|:443... connected.\n",
      "HTTP request sent, awaiting response... 200 OK\n",
      "Length: 38292 (37K) [text/plain]\n",
      "Saving to: ‘sequences_list.txt’\n",
      "\n",
      "sequences_list.txt  100%[===================>]  37.39K   151KB/s    in 0.2s    \n",
      "\n",
      "2023-05-23 22:48:24 (151 KB/s) - ‘sequences_list.txt’ saved [38292/38292]\n",
      "\n"
     ]
    },
    {
     "data": {
      "text/plain": []
     },
     "execution_count": 7,
     "metadata": {},
     "output_type": "execute_result"
    }
   ],
   "source": [
    "%%shell\n",
    "mkdir KTH\n",
    "mkdir KTH/data\n",
    "mkdir KTH/data/videos\n",
    "\n",
    "unzip /content/gdrive/MyDrive/KTH/videos/boxing.zip -d KTH/data/videos\n",
    "unzip /content/gdrive/MyDrive/KTH/videos/handclapping.zip -d KTH/data/videos\n",
    "unzip /content/gdrive/MyDrive/KTH/videos/handwaving.zip -d KTH/data/videos\n",
    "unzip /content/gdrive/MyDrive/KTH/videos/jogging.zip -d KTH/data/videos\n",
    "unzip /content/gdrive/MyDrive/KTH/videos/running.zip -d KTH/data/videos\n",
    "unzip /content/gdrive/MyDrive/KTH/videos/walking.zip -d KTH/data/videos\n",
    "\n",
    "wget -O sequences_list.txt http://www.csc.kth.se/cvap/actions/00sequences.txt\n"
   ]
  },
  {
   "cell_type": "markdown",
   "metadata": {
    "id": "SCy_POd3utVG"
   },
   "source": [
    "### directly download and unzip"
   ]
  },
  {
   "cell_type": "code",
   "execution_count": null,
   "metadata": {
    "colab": {
     "base_uri": "https://localhost:8080/",
     "height": 142
    },
    "id": "IFivaz3G6ByO",
    "outputId": "328a0289-2c9b-4321-a623-c8ddc0e63f02"
   },
   "outputs": [
    {
     "data": {
      "application/vnd.google.colaboratory.intrinsic+json": {
       "type": "string"
      },
      "text/plain": [
       "'\\n%%shell\\nmkdir KTH\\nmkdir KTH/data\\nmkdir KTH/data/videos\\n\\nwget -O KTH/data/videos/boxing.zip http://www.csc.kth.se/cvap/actions/boxing.zip\\nwget -O KTH/data/videos/handclapping.zip http://www.csc.kth.se/cvap/actions/handclapping.zip\\nwget -O KTH/data/videos/handwaving.zip http://www.csc.kth.se/cvap/actions/handwaving.zip\\nwget -O KTH/data/videos/jogging.zip http://www.csc.kth.se/cvap/actions/jogging.zip\\nwget -O KTH/data/videos/running.zip http://www.csc.kth.se/cvap/actions/running.zip\\nwget -O KTH/data/videos/walking.zip http://www.csc.kth.se/cvap/actions/walking.zip\\n\\nunzip KTH/data/videos/boxing.zip -d KTH/data/videos\\nunzip KTH/data/videos/handclapping.zip -d KTH/data/videos\\nunzip KTH/data/videos/handwaving.zip -d KTH/data/videos\\nunzip KTH/data/videos/jogging.zip -d KTH/data/videos\\nunzip KTH/data/videos/running.zip -d KTH/data/videos\\nunzip KTH/data/videos/walking.zip -d KTH/data/videos\\n\\nrm KTH/data/videos/*.zip\\n'"
      ]
     },
     "execution_count": 8,
     "metadata": {},
     "output_type": "execute_result"
    }
   ],
   "source": [
    "\"\"\"\n",
    "%%shell\n",
    "mkdir KTH\n",
    "mkdir KTH/data\n",
    "mkdir KTH/data/videos\n",
    "\n",
    "wget -O KTH/data/videos/boxing.zip http://www.csc.kth.se/cvap/actions/boxing.zip\n",
    "wget -O KTH/data/videos/handclapping.zip http://www.csc.kth.se/cvap/actions/handclapping.zip\n",
    "wget -O KTH/data/videos/handwaving.zip http://www.csc.kth.se/cvap/actions/handwaving.zip\n",
    "wget -O KTH/data/videos/jogging.zip http://www.csc.kth.se/cvap/actions/jogging.zip\n",
    "wget -O KTH/data/videos/running.zip http://www.csc.kth.se/cvap/actions/running.zip\n",
    "wget -O KTH/data/videos/walking.zip http://www.csc.kth.se/cvap/actions/walking.zip\n",
    "\n",
    "unzip KTH/data/videos/boxing.zip -d KTH/data/videos\n",
    "unzip KTH/data/videos/handclapping.zip -d KTH/data/videos\n",
    "unzip KTH/data/videos/handwaving.zip -d KTH/data/videos\n",
    "unzip KTH/data/videos/jogging.zip -d KTH/data/videos\n",
    "unzip KTH/data/videos/running.zip -d KTH/data/videos\n",
    "unzip KTH/data/videos/walking.zip -d KTH/data/videos\n",
    "\n",
    "rm KTH/data/videos/*.zip\n",
    "\"\"\""
   ]
  },
  {
   "cell_type": "code",
   "execution_count": 8,
   "metadata": {
    "colab": {
     "base_uri": "https://localhost:8080/"
    },
    "id": "0MjTvtynFw5z",
    "outputId": "04f7efe2-4cee-4d08-a270-06e18d9ef4db"
   },
   "outputs": [
    {
     "name": "stdout",
     "output_type": "stream",
     "text": [
      "Completed till video :  50\n",
      "Completed till video :  100\n",
      "Completed till video :  150\n",
      "Completed till video :  200\n",
      "Completed till video :  250\n",
      "Completed till video :  300\n",
      "Completed till video :  350\n",
      "Completed till video :  400\n",
      "Completed till video :  450\n",
      "Completed till video :  500\n",
      "Completed till video :  550\n",
      "[MESSAGE]\tFrames extracted from all videos\n",
      "[ERROR]:  KTH/data/VALIDATION/person01_boxing_d4_frame_246_370\n",
      "Completed till video :  50\n",
      "Completed till video :  100\n",
      "Completed till video :  150\n",
      "Completed till video :  200\n",
      "Completed till video :  250\n",
      "-----------------------------------------------------------\n",
      "[ERROR MESSAGE]: \n",
      "limits :  ['*missing*']\n",
      "seq_path :  KTH/data/TRAIN/person13_handclapping_d2_frame_401_523\n",
      "-----------------------------------------------------------\n",
      "Completed till video :  300\n",
      "Completed till video :  350\n",
      "Completed till video :  400\n",
      "Completed till video :  450\n",
      "Completed till video :  500\n",
      "Completed till video :  550\n",
      "Completed till video :  600\n",
      "[ALERT]\t\tTotal error count is :  1\n",
      "[MESSAGE]\tData split into train, validation and test\n"
     ]
    }
   ],
   "source": [
    "extract_frames('KTH')"
   ]
  },
  {
   "cell_type": "markdown",
   "metadata": {
    "id": "p1JT4T2Em6m3"
   },
   "source": [
    "### dataset class"
   ]
  },
  {
   "cell_type": "code",
   "execution_count": 9,
   "metadata": {
    "id": "KYX7lsnCnWrk"
   },
   "outputs": [],
   "source": [
    "import os\n",
    "import random\n",
    "from PIL import Image\n",
    "\n",
    "class KTH_dataset(torch.utils.data.Dataset):\n",
    "\n",
    "  def __init__(self, DATA_PATH,  transforms = None, mode = 'TRAIN', instance_len = 20):\n",
    "    self.instances = []\n",
    "    self.inst_class = []\n",
    "    self.path = DATA_PATH\n",
    "    self.mode = mode\n",
    "    self.transforms = transforms\n",
    "    self.instance_len = instance_len\n",
    "\n",
    "    self.mapping = {'boxing':0, 'handclapping':1, 'handwaving':2, 'jogging':3, 'running':4, 'walking':5}\n",
    "\n",
    "    all_vids = os.listdir(self.path + '/' + self.mode)\n",
    "\n",
    "    # find all directories for wanted dataset part, and load all file names in these directories\n",
    "    for vid in all_vids:\n",
    "      frames = os.listdir(self.path + '/' + self.mode + '/' + vid)\n",
    "      frames.sort() # sort to make sure that frames in correct order\n",
    "      current_instance = []\n",
    "\n",
    "      # split in parts of frames\n",
    "      for i in range(int(len(frames)/self.instance_len)):\n",
    "        current_instance = frames[i*self.instance_len: i*self.instance_len + self.instance_len]\n",
    "\n",
    "        current_instance = [(self.path + '/' + self.mode + '/' + vid + '/' + item) for item in current_instance]\n",
    "\n",
    "        self.instances.append(current_instance)\n",
    "\n",
    "        self.inst_class.append(int(self.mapping[vid.split('_')[1]]))\n",
    "\n",
    "\n",
    "  def __getitem__(self, x):\n",
    "    instance_img = self.instances[x]\n",
    "    label = torch.tensor(self.inst_class[x])\n",
    "\n",
    "    tens_list = []\n",
    "\n",
    "    # load image and transform to tensor to be able to apply other transforms directly\n",
    "    for inst in instance_img:\n",
    "      image = Image.open(inst).convert(\"RGB\")\n",
    "      inst_tensor = transforms.ToTensor()(image)\n",
    "      tens_list.append(inst_tensor)\n",
    "      \n",
    "    inst_tensor = torch.stack(tens_list, dim=0)\n",
    "\n",
    "    if self.transforms != None: # apply other transforms. is directly applied at once on all images/channels\n",
    "      inst_tensor = self.transforms(inst_tensor)\n",
    "\n",
    "    return inst_tensor, label\n",
    "\n",
    "  def __len__(self):\n",
    "    return len(self.instances)\n"
   ]
  },
  {
   "cell_type": "code",
   "execution_count": 10,
   "metadata": {
    "id": "KITCz3ejEeKT"
   },
   "outputs": [],
   "source": [
    "\"\"\"\n",
    "# only for testing of dataset class\n",
    "\n",
    "train_transforms = transforms.Compose([\n",
    "    transforms.Resize((64, 64)),\n",
    "               ])\n",
    "\n",
    "dset = KTH_dataset('/content/KTH/data',  transforms = train_transforms, mode = 'TRAIN', instance_len = 30)\n",
    "\"\"\""
   ]
  },
  {
   "cell_type": "code",
   "execution_count": 49,
   "metadata": {
    "colab": {
     "base_uri": "https://localhost:8080/"
    },
    "id": "yN7U0CPT78LG",
    "outputId": "b38c707e-2b2d-4111-a06d-00a7fe3c437f"
   },
   "outputs": [
    {
     "name": "stdout",
     "output_type": "stream",
     "text": [
      "Train samples: 4219\n",
      "Test samples: 2248\n"
     ]
    }
   ],
   "source": [
    "train_transforms = transforms.Compose([\n",
    "               transforms.RandomHorizontalFlip(p=0.5),\n",
    "               transforms.RandomRotation(degrees=5),\n",
    "               transforms.Resize((64, 64), antialias=True),\n",
    "               ])\n",
    "\n",
    "test_transforms = transforms.Compose([\n",
    "               transforms.Resize((64, 64), antialias=True),\n",
    "               ])\n",
    "\n",
    "n_frames = 30\n",
    "\n",
    "\n",
    "train_dataset = KTH_dataset('/content/KTH/data',  transforms = train_transforms, mode = 'TRAIN', instance_len = n_frames)\n",
    "val_dataset = KTH_dataset('/content/KTH/data',  transforms = train_transforms, mode = 'VALIDATION', instance_len = n_frames)\n",
    "\n",
    "# use validation set to train too, as we do not use it here in another way\n",
    "train_dataset = torch.utils.data.ConcatDataset([train_dataset, val_dataset])  \n",
    "\n",
    "test_dataset = KTH_dataset('/content/KTH/data',  transforms = test_transforms, mode = 'TEST', instance_len = n_frames)\n",
    "\n",
    "\n",
    "print(f\"Train samples: {len(train_dataset)}\")\n",
    "#print(f\"Validation samples: {len(val_dataset)}\")\n",
    "print(f\"Test samples: {len(test_dataset)}\")"
   ]
  },
  {
   "cell_type": "markdown",
   "metadata": {
    "id": "IMTGe20NVLHc"
   },
   "source": [
    "# model with gru from pytorch"
   ]
  },
  {
   "cell_type": "code",
   "execution_count": 43,
   "metadata": {
    "id": "-nW_MzpViLwR"
   },
   "outputs": [],
   "source": [
    "class GRUModel(nn.Module):\n",
    "    def __init__(self, input_dims, emb_dims, output_features, num_layers=1, kernel_size = 3, hidden_dim = 3328):\n",
    "        super().__init__()\n",
    "\n",
    "        self.input_dims = input_dims\n",
    "        self.emb_dims = emb_dims\n",
    "\n",
    "        self.output_features = output_features\n",
    "        self.num_layers = num_layers\n",
    "        self.kernel_size = kernel_size\n",
    "      \n",
    "\n",
    "        # embedding cnn\n",
    "        self.encoder = nn.Sequential(\n",
    "          nn.Conv3d(in_channels=self.input_dims[1], out_channels=16, kernel_size = (1,self.kernel_size,self.kernel_size), stride=(1,1,1), padding = (0,int(self.kernel_size/2),int(self.kernel_size/2))),\n",
    "          nn.ReLU(),\n",
    "          nn.MaxPool3d((1,2,2), stride=(1,2,2)),\n",
    "          nn.Dropout(p=0.5),\n",
    "          nn.Conv3d(in_channels=16, out_channels=self.emb_dims[0], kernel_size = (1,self.kernel_size,self.kernel_size), stride=(1,1,1), padding = (0,int(self.kernel_size/2),int(self.kernel_size/2))),\n",
    "          nn.ReLU(),\n",
    "          nn.MaxPool3d((1,2,2), stride=(1,2,2)),\n",
    "          nn.Dropout(p=0.5),\n",
    "          )\n",
    "      \n",
    "\n",
    "        emb_inp = emb_dims[0]*emb_dims[1]*emb_dims[2]\n",
    "\n",
    "        # GRU layer\n",
    "        h = []\n",
    "        for i in range(num_layers):\n",
    "          h.append(nn.Parameter(\n",
    "                torch.randn(1,hidden_dim).requires_grad_())\n",
    "            )\n",
    "        self.h = nn.ParameterList(h)\n",
    "\n",
    "        grus = []\n",
    "        for i in range(num_layers):\n",
    "            in_size = emb_inp if i == 0 else hidden_dim\n",
    "            grus.append( nn.GRUCell(input_size=in_size, hidden_size=hidden_dim) )\n",
    "        self.gru = nn.ModuleList(grus)\n",
    "\n",
    "        \n",
    "        \n",
    "        # classifier\n",
    "        self.classifier = nn.Sequential(\n",
    "          nn.Dropout(p=0.5),\n",
    "          nn.Linear(in_features=hidden_dim, out_features=64),\n",
    "          nn.ReLU(),\n",
    "          nn.Linear(in_features=64, out_features=self.output_features),\n",
    "          )\n",
    "        \n",
    "        return\n",
    "    \n",
    "    def forward(self, x):\n",
    "        b_size, n_frames, n_channels, n_rows, n_cols = x.shape\n",
    "\n",
    "        x_t = x.transpose(1,2) # transpose to be able to use conv3d and maxpool 3d correctly\n",
    "\n",
    "        out = self.encoder(x_t)\n",
    "\n",
    "        out = out.transpose(1,2)  # transpose for lstm layers\n",
    "        out = out.reshape(b_size, n_frames, -1)\n",
    "\n",
    "        for j in range(self.num_layers):\n",
    "          h_stacked = self.h[j].repeat(b_size,1)\n",
    "\n",
    "          h_l = [h_stacked]\n",
    "          for i in range(out.shape[1]):\n",
    "            input = out[:,i,:]\n",
    "            ht = self.gru[j](input, h_l[-1])\n",
    "            h_l.append(ht)\n",
    "            \n",
    "\n",
    "          out = torch.stack(h_l[1:len(h_l)])  # dont take init value for h in output\n",
    "          out = out.reshape((b_size, n_frames,-1))\n",
    "\n",
    "\n",
    "        out = self.classifier(out[:, -1, :])  # output of lstm layer\n",
    "        \n",
    "        return out\n",
    "    "
   ]
  },
  {
   "cell_type": "code",
   "execution_count": 44,
   "metadata": {
    "colab": {
     "base_uri": "https://localhost:8080/"
    },
    "id": "WwLzFqob03U3",
    "outputId": "d9f58434-1c01-44bd-d35e-dd5c39599640"
   },
   "outputs": [
    {
     "data": {
      "text/plain": [
       "GRUModel(\n",
       "  (encoder): Sequential(\n",
       "    (0): Conv3d(3, 16, kernel_size=(1, 5, 5), stride=(1, 1, 1), padding=(0, 2, 2))\n",
       "    (1): ReLU()\n",
       "    (2): MaxPool3d(kernel_size=(1, 2, 2), stride=(1, 2, 2), padding=0, dilation=1, ceil_mode=False)\n",
       "    (3): Dropout(p=0.5, inplace=False)\n",
       "    (4): Conv3d(16, 16, kernel_size=(1, 5, 5), stride=(1, 1, 1), padding=(0, 2, 2))\n",
       "    (5): ReLU()\n",
       "    (6): MaxPool3d(kernel_size=(1, 2, 2), stride=(1, 2, 2), padding=0, dilation=1, ceil_mode=False)\n",
       "    (7): Dropout(p=0.5, inplace=False)\n",
       "  )\n",
       "  (h): ParameterList(  (0): Parameter containing: [torch.float32 of size 1x3328 (GPU 0)])\n",
       "  (gru): ModuleList(\n",
       "    (0): GRUCell(4096, 3328)\n",
       "  )\n",
       "  (classifier): Sequential(\n",
       "    (0): Dropout(p=0.5, inplace=False)\n",
       "    (1): Linear(in_features=3328, out_features=64, bias=True)\n",
       "    (2): ReLU()\n",
       "    (3): Linear(in_features=64, out_features=6, bias=True)\n",
       "  )\n",
       ")"
      ]
     },
     "execution_count": 44,
     "metadata": {},
     "output_type": "execute_result"
    }
   ],
   "source": [
    "torch_gru = GRUModel(input_dims = (n_frames, 3,64,64), emb_dims = (16,16,16), output_features = 6, num_layers=1, kernel_size = 5, hidden_dim = 3328)\n",
    "torch_gru.to(device)"
   ]
  },
  {
   "cell_type": "code",
   "execution_count": 45,
   "metadata": {
    "colab": {
     "base_uri": "https://localhost:8080/"
    },
    "id": "R4rlI2Ij08R-",
    "outputId": "47849083-42be-4d96-ccc5-048fe70b40b2"
   },
   "outputs": [
    {
     "name": "stdout",
     "output_type": "stream",
     "text": [
      "The model has 74365590 parameters.\n"
     ]
    }
   ],
   "source": [
    "print(f\"The model has {model_params(torch_gru)} parameters.\")"
   ]
  },
  {
   "cell_type": "markdown",
   "metadata": {
    "id": "yRsphY9MhRyL"
   },
   "source": [
    "> The number of paramters is much higher than the number of parameters of our convLSTM (74365590 vs. 323606), but lower than the number of parameters in the torch LSTM model (99082646)."
   ]
  },
  {
   "cell_type": "code",
   "execution_count": 46,
   "metadata": {
    "id": "FqG8Vp03hNLq"
   },
   "outputs": [],
   "source": [
    "BATCH_SIZE = 32\n",
    "SHUFFLE_TRAIN = True\n",
    "NUM_EPOCHS = 14\n",
    "LR = 3e-4\n",
    "EVAL_FREQ = 1\n",
    "SAVE_FREQ = 2\n",
    "\n",
    "\n",
    "train_loader = torch.utils.data.DataLoader(train_dataset, batch_size=BATCH_SIZE, shuffle=SHUFFLE_TRAIN, num_workers=2)\n",
    "val_loader = torch.utils.data.DataLoader(test_dataset, batch_size=BATCH_SIZE, shuffle=False, num_workers=2)"
   ]
  },
  {
   "cell_type": "code",
   "execution_count": 47,
   "metadata": {
    "id": "R-eTYaXn1AjO"
   },
   "outputs": [],
   "source": [
    "# classification loss function\n",
    "criterion = nn.CrossEntropyLoss()\n",
    "\n",
    "# Observe that all parameters are being optimized\n",
    "optimizer0 = torch.optim.Adam(torch_gru.parameters(), lr=LR)\n",
    "\n",
    "# Decay LR by a factor of 0.1 every X epochs\n",
    "scheduler = torch.optim.lr_scheduler.StepLR(optimizer0, step_size=14, gamma=0.2)"
   ]
  },
  {
   "cell_type": "code",
   "execution_count": 48,
   "metadata": {
    "colab": {
     "base_uri": "https://localhost:8080/"
    },
    "id": "J-u9WlH41FN8",
    "outputId": "e8b07243-8229-44ad-fc8a-9c6abfeac205"
   },
   "outputs": [
    {
     "name": "stdout",
     "output_type": "stream",
     "text": [
      "Epoch -1: valid_loss 1.78672 valid_acc 20.73 | lr 0.0003\n"
     ]
    },
    {
     "name": "stderr",
     "output_type": "stream",
     "text": [
      "100%|██████████| 132/132 [03:06<00:00,  1.41s/it]\n"
     ]
    },
    {
     "name": "stdout",
     "output_type": "stream",
     "text": [
      "Epoch 1: train_loss 1.75145 | valid_loss 1.74680 valid_acc 23.35| lr 0.0003\n"
     ]
    },
    {
     "name": "stderr",
     "output_type": "stream",
     "text": [
      "100%|██████████| 132/132 [03:05<00:00,  1.40s/it]\n"
     ]
    },
    {
     "name": "stdout",
     "output_type": "stream",
     "text": [
      "Epoch 2: train_loss 1.73709 | valid_loss 1.73254 valid_acc 23.40| lr 0.0003\n"
     ]
    },
    {
     "name": "stderr",
     "output_type": "stream",
     "text": [
      "100%|██████████| 132/132 [02:58<00:00,  1.35s/it]\n"
     ]
    },
    {
     "name": "stdout",
     "output_type": "stream",
     "text": [
      "Epoch 3: train_loss 1.73288 | valid_loss 1.73991 valid_acc 23.35| lr 0.0003\n"
     ]
    },
    {
     "name": "stderr",
     "output_type": "stream",
     "text": [
      "100%|██████████| 132/132 [02:57<00:00,  1.35s/it]\n"
     ]
    },
    {
     "name": "stdout",
     "output_type": "stream",
     "text": [
      "Epoch 4: train_loss 1.72926 | valid_loss 1.73230 valid_acc 23.35| lr 0.0003\n"
     ]
    },
    {
     "name": "stderr",
     "output_type": "stream",
     "text": [
      "100%|██████████| 132/132 [03:03<00:00,  1.39s/it]\n"
     ]
    },
    {
     "name": "stdout",
     "output_type": "stream",
     "text": [
      "Epoch 5: train_loss 1.73096 | valid_loss 1.73309 valid_acc 23.35| lr 0.0003\n"
     ]
    },
    {
     "name": "stderr",
     "output_type": "stream",
     "text": [
      "100%|██████████| 132/132 [02:57<00:00,  1.35s/it]\n"
     ]
    },
    {
     "name": "stdout",
     "output_type": "stream",
     "text": [
      "Epoch 6: train_loss 1.72828 | valid_loss 1.73358 valid_acc 23.35| lr 0.0003\n"
     ]
    },
    {
     "name": "stderr",
     "output_type": "stream",
     "text": [
      "100%|██████████| 132/132 [03:00<00:00,  1.37s/it]\n"
     ]
    },
    {
     "name": "stdout",
     "output_type": "stream",
     "text": [
      "Epoch 7: train_loss 1.73113 | valid_loss 1.73160 valid_acc 23.40| lr 0.0003\n"
     ]
    },
    {
     "name": "stderr",
     "output_type": "stream",
     "text": [
      "100%|██████████| 132/132 [03:03<00:00,  1.39s/it]\n"
     ]
    },
    {
     "name": "stdout",
     "output_type": "stream",
     "text": [
      "Epoch 8: train_loss 1.72943 | valid_loss 1.72914 valid_acc 23.35| lr 0.0003\n"
     ]
    },
    {
     "name": "stderr",
     "output_type": "stream",
     "text": [
      "100%|██████████| 132/132 [03:00<00:00,  1.37s/it]\n"
     ]
    },
    {
     "name": "stdout",
     "output_type": "stream",
     "text": [
      "Epoch 9: train_loss 1.72940 | valid_loss 1.73061 valid_acc 23.35| lr 0.0003\n"
     ]
    },
    {
     "name": "stderr",
     "output_type": "stream",
     "text": [
      "100%|██████████| 132/132 [03:19<00:00,  1.51s/it]\n"
     ]
    },
    {
     "name": "stdout",
     "output_type": "stream",
     "text": [
      "Epoch 10: train_loss 1.72867 | valid_loss 1.73098 valid_acc 23.35| lr 0.0003\n"
     ]
    },
    {
     "name": "stderr",
     "output_type": "stream",
     "text": [
      "100%|██████████| 132/132 [03:06<00:00,  1.41s/it]\n"
     ]
    },
    {
     "name": "stdout",
     "output_type": "stream",
     "text": [
      "Epoch 11: train_loss 1.72969 | valid_loss 1.73527 valid_acc 23.35| lr 0.0003\n"
     ]
    },
    {
     "name": "stderr",
     "output_type": "stream",
     "text": [
      "100%|██████████| 132/132 [03:04<00:00,  1.40s/it]\n"
     ]
    },
    {
     "name": "stdout",
     "output_type": "stream",
     "text": [
      "Epoch 12: train_loss 1.72846 | valid_loss 1.73169 valid_acc 23.35| lr 0.0003\n"
     ]
    },
    {
     "name": "stderr",
     "output_type": "stream",
     "text": [
      "100%|██████████| 132/132 [03:01<00:00,  1.37s/it]\n"
     ]
    },
    {
     "name": "stdout",
     "output_type": "stream",
     "text": [
      "Epoch 13: train_loss 1.72867 | valid_loss 1.73043 valid_acc 23.35| lr 0.0003\n"
     ]
    },
    {
     "name": "stderr",
     "output_type": "stream",
     "text": [
      "100%|██████████| 132/132 [03:06<00:00,  1.42s/it]\n"
     ]
    },
    {
     "name": "stdout",
     "output_type": "stream",
     "text": [
      "Epoch 14: train_loss 1.72927 | valid_loss 1.73445 valid_acc 23.35| lr 0.0003\n",
      "--- 3451.339483976364 seconds ---\n"
     ]
    }
   ],
   "source": [
    "import time\n",
    "start_time = time.time()\n",
    "stats0, model0 = train(torch_gru, NUM_EPOCHS, train_loader, None, val_loader, optimizer0, criterion, EVAL_FREQ, SAVE_FREQ, '/content', device, scheduler, twriter = None, loadpath = None, stats = None)\n",
    "print(\"--- %s seconds ---\" % (time.time() - start_time))"
   ]
  },
  {
   "cell_type": "code",
   "execution_count": 50,
   "metadata": {
    "colab": {
     "base_uri": "https://localhost:8080/",
     "height": 485
    },
    "id": "qKZ2D7ZQ1LHc",
    "outputId": "0c4e2f45-402f-42f5-e43d-ea2ce433606e"
   },
   "outputs": [
    {
     "data": {
      "image/png": "[encoded data removed]",
      "text/plain": [
       "<Figure size 1000x500 with 1 Axes>"
      ]
     },
     "metadata": {},
     "output_type": "display_data"
    }
   ],
   "source": [
    "import matplotlib.pyplot as plt\n",
    "\n",
    "plt.style.use('seaborn-v0_8')\n",
    "fig, ax = plt.subplots(1,1)\n",
    "fig.set_size_inches(10,5)\n",
    "\n",
    "smooth_loss = smooth(stats0[\"per_batch_loss\"], 31)\n",
    "ax.plot(stats0[\"per_batch_loss\"], c=\"blue\", label=\"Training Loss\", linewidth=3)#, alpha=0.5)\n",
    "ax.plot(smooth_loss, c=\"red\", label=\"Smoothed Loss\", linewidth=3)\n",
    "ax.legend(loc=\"best\")\n",
    "ax.set_xlabel(\"Iteration\")\n",
    "ax.set_ylabel(\"Cross Entropy Loss\")\n",
    "ax.set_title(\"Training Progress\")\n",
    "\n",
    "plt.show()"
   ]
  },
  {
   "cell_type": "code",
   "execution_count": 51,
   "metadata": {
    "colab": {
     "base_uri": "https://localhost:8080/",
     "height": 503
    },
    "id": "3371f4qk1M8-",
    "outputId": "f85c07a8-1857-4c29-9625-d09004a5b51f"
   },
   "outputs": [
    {
     "name": "stdout",
     "output_type": "stream",
     "text": [
      "Classification accuracy: 23.35%\n"
     ]
    },
    {
     "data": {
      "image/png": "[encoded data removed]",
      "text/plain": [
       "<Figure size 1500x500 with 2 Axes>"
      ]
     },
     "metadata": {},
     "output_type": "display_data"
    }
   ],
   "source": [
    "eval_plots(model0, val_loader, criterion, device, stats0)"
   ]
  },
  {
   "cell_type": "markdown",
   "metadata": {
    "id": "mo8Z7WEonayu"
   },
   "source": [
    "> GRU performs much better than LSTM with the given data. Maybe GRUs lesser complexity compared to LSTM decreases the risk of overfitting. LSTM probably has a much higher capability to pass on information through time (with its two states), which makes it much more prone to overfitting.\n",
    "> Maybe GRU performs better on data with low variability (many instances in the dataset (30 frames) are from the same video)\n",
    "> The performance with GRU is about the same as the performance with our convLSTM, however with a much higher number of parameters (about 20 times more parameters)."
   ]
  },
  {
   "cell_type": "code",
   "execution_count": 53,
   "metadata": {
    "colab": {
     "base_uri": "https://localhost:8080/",
     "height": 482
    },
    "id": "jW70mwGC1PEx",
    "outputId": "aeab40a4-5bc9-420f-e580-3c2703472aba"
   },
   "outputs": [
    {
     "name": "stdout",
     "output_type": "stream",
     "text": [
      "0:boxing, 1:handclapping, 2:handwaving, 3:jogging, 4:running, 5:walking\n",
      "Test accuracy: 23.35%\n",
      "F1 Score: 0.23%\n"
     ]
    },
    {
     "data": {
      "image/png": "[encoded data removed]",
      "text/plain": [
       "<Figure size 1800x500 with 4 Axes>"
      ]
     },
     "metadata": {},
     "output_type": "display_data"
    }
   ],
   "source": [
    "_, _, correct_labels, predicted_labels = eval_model_conf(model0, val_loader, criterion, device)\n",
    "\n",
    "import seaborn as sn\n",
    "import pandas as pd\n",
    "import matplotlib.pyplot as plt\n",
    "from sklearn.metrics import confusion_matrix, f1_score\n",
    "\n",
    "# calculate absolute confusion matrix\n",
    "confusion_matr = confusion_matrix(correct_labels, predicted_labels)#, labels=[0,1,2,3,4,5,6,7,8,9])\n",
    "df_confusion = pd.DataFrame(confusion_matr, range(confusion_matr.shape[0]), range(confusion_matr.shape[0]))\n",
    "# calculate confusion matric normalized in rows\n",
    "confusion_matr_norm = confusion_matrix(correct_labels, predicted_labels, normalize = 'true') #, labels=[0,1,2,3,4,5,6,7,8,9]\n",
    "df_confusion_norm = pd.DataFrame(confusion_matr_norm, range(confusion_matr_norm.shape[0]), range(confusion_matr_norm.shape[0]))\n",
    "\n",
    "print('0:boxing, 1:handclapping, 2:handwaving, 3:jogging, 4:running, 5:walking')\n",
    "\n",
    "fig, ax = plt.subplots(1,2)\n",
    "fig.set_size_inches(18,5)\n",
    "\n",
    "ax[0].set_xlabel(\"Prediction\")\n",
    "ax[0].set_ylabel(\"True Label\")\n",
    "ax[0].set_title(\"Confusion Matrix\")\n",
    "sn.heatmap(df_confusion, annot=True, annot_kws={\"size\": 10}, fmt=\"d\", ax=ax[0]) \n",
    "\n",
    "\n",
    "ax[1].set_xlabel(\"Prediction\")\n",
    "ax[1].set_ylabel(\"True Label\")\n",
    "ax[1].set_title(\"normalized Confusion Matrix\")\n",
    "sn.heatmap(df_confusion_norm, annot=True, annot_kws={\"size\": 10}, fmt=\".3f\", ax=ax[1]) \n",
    "\n",
    "acc = 0\n",
    "for i in range(confusion_matr.shape[0]):\n",
    "  acc = acc + confusion_matr[i,i]\n",
    "acc = acc/confusion_matr.sum()*100\n",
    "print(f\"Test accuracy: {round(acc,2)}%\")\n",
    "\n",
    "print(f\"F1 Score: {round(f1_score(correct_labels, predicted_labels, average = 'micro'),2)}%\")"
   ]
  }
 ],
 "metadata": {
  "accelerator": "GPU",
  "colab": {
   "gpuType": "T4",
   "provenance": []
  },
  "gpuClass": "standard",
  "kernelspec": {
   "display_name": "Python 3 (ipykernel)",
   "language": "python",
   "name": "python3"
  },
  "language_info": {
   "codemirror_mode": {
    "name": "ipython",
    "version": 3
   },
   "file_extension": ".py",
   "mimetype": "text/x-python",
   "name": "python",
   "nbconvert_exporter": "python",
   "pygments_lexer": "ipython3",
   "version": "3.10.9"
  }
 },
 "nbformat": 4,
 "nbformat_minor": 1
}

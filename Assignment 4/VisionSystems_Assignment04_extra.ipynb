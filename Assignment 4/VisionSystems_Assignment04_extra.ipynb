{
 "cells": [
  {
   "cell_type": "code",
   "execution_count": 1,
   "metadata": {
    "colab": {
     "base_uri": "https://localhost:8080/"
    },
    "id": "k5JzfaWpPfvA",
    "outputId": "5132868f-3bb1-4358-b482-309193af832b"
   },
   "outputs": [
    {
     "name": "stdout",
     "output_type": "stream",
     "text": [
      "2.0.1+cu118\n"
     ]
    }
   ],
   "source": [
    "import numpy as np\n",
    "import torch\n",
    "print(torch.__version__)\n",
    "\n",
    "from tqdm import tqdm\n",
    "import matplotlib.pyplot as plt\n",
    "\n",
    "from torch.utils.tensorboard import SummaryWriter"
   ]
  },
  {
   "cell_type": "code",
   "execution_count": 3,
   "metadata": {
    "id": "dAyc7jJoEkPN"
   },
   "outputs": [],
   "source": [
    "from utils import eval_model, train, smooth, save_model, load_model, model_params, eval_plots, set_random_seed, eval_model_conf\n",
    "from dataset_utils import extract_frames, KTH_dataset"
   ]
  },
  {
   "cell_type": "code",
   "execution_count": 4,
   "metadata": {
    "id": "4elqlUxcBRTl"
   },
   "outputs": [],
   "source": [
    "set_random_seed(420)"
   ]
  },
  {
   "cell_type": "code",
   "execution_count": 5,
   "metadata": {
    "id": "O_FolssxjAsG"
   },
   "outputs": [],
   "source": [
    "import torch.nn as nn\n",
    "import torchvision\n",
    "import torchvision.transforms as transforms\n",
    "import torchvision.datasets as datasets\n",
    "from torchvision import models\n",
    "\n",
    "import os\n",
    "import shutil"
   ]
  },
  {
   "cell_type": "code",
   "execution_count": 6,
   "metadata": {
    "colab": {
     "base_uri": "https://localhost:8080/"
    },
    "id": "goE8kSeVQUU3",
    "outputId": "0a2cc8dd-7c3a-4ca6-eefb-019b61a42091"
   },
   "outputs": [
    {
     "name": "stdout",
     "output_type": "stream",
     "text": [
      "cuda\n"
     ]
    }
   ],
   "source": [
    "# choose device to be used depending on availability\n",
    "device = torch.device(\"cuda\" if torch.cuda.is_available() else \"cpu\")\n",
    "print(device)"
   ]
  },
  {
   "cell_type": "markdown",
   "metadata": {
    "id": "XoNyz6Sk5-3X"
   },
   "source": [
    "### download dataset and unzip"
   ]
  },
  {
   "cell_type": "markdown",
   "metadata": {
    "id": "dYUID1T-um5J"
   },
   "source": [
    "use preloaded from google drive"
   ]
  },
  {
   "cell_type": "code",
   "execution_count": 8,
   "metadata": {
    "colab": {
     "base_uri": "https://localhost:8080/"
    },
    "id": "h0tqtdIKGxh2",
    "outputId": "a94800ec-9de9-4c59-c9ea-ae6fd4cd7b2e"
   },
   "outputs": [
    {
     "name": "stdout",
     "output_type": "stream",
     "text": [
      "Mounted at /content/gdrive\n"
     ]
    }
   ],
   "source": [
    "from google.colab import drive\n",
    "drive.mount('/content/gdrive')"
   ]
  },
  {
   "cell_type": "code",
   "execution_count": null,
   "metadata": {
    "id": "hO8EAaxT2BZd"
   },
   "outputs": [],
   "source": [
    "#!rm -r KTH"
   ]
  },
  {
   "cell_type": "code",
   "execution_count": 9,
   "metadata": {
    "colab": {
     "base_uri": "https://localhost:8080/"
    },
    "id": "bh8DJKA4INgu",
    "outputId": "1d7627f2-1e76-4ac0-d362-6250e99256ad"
   },
   "outputs": [
    {
     "name": "stdout",
     "output_type": "stream",
     "text": [
      "Archive:  /content/gdrive/MyDrive/KTH/videos/boxing.zip\n",
      "  inflating: KTH/data/videos/person01_boxing_d1_uncomp.avi  \n",
      "  inflating: KTH/data/videos/person01_boxing_d2_uncomp.avi  \n",
      "  inflating: KTH/data/videos/person01_boxing_d3_uncomp.avi  \n",
      "  inflating: KTH/data/videos/person01_boxing_d4_uncomp.avi  \n",
      "  inflating: KTH/data/videos/person02_boxing_d1_uncomp.avi  \n",
      "  inflating: KTH/data/videos/person02_boxing_d2_uncomp.avi  \n",
      "  inflating: KTH/data/videos/person02_boxing_d3_uncomp.avi  \n",
      "  inflating: KTH/data/videos/person02_boxing_d4_uncomp.avi  \n",
      "  inflating: KTH/data/videos/person03_boxing_d1_uncomp.avi  \n",
      "  inflating: KTH/data/videos/person03_boxing_d2_uncomp.avi  \n",
      "  inflating: KTH/data/videos/person03_boxing_d3_uncomp.avi  \n",
      "  inflating: KTH/data/videos/person03_boxing_d4_uncomp.avi  \n",
      "  inflating: KTH/data/videos/person04_boxing_d1_uncomp.avi  \n",
      "  inflating: KTH/data/videos/person04_boxing_d2_uncomp.avi  \n",
      "  inflating: KTH/data/videos/person04_boxing_d3_uncomp.avi  \n",
      "  inflating: KTH/data/videos/person04_boxing_d4_uncomp.avi  \n",
      "  inflating: KTH/data/videos/person05_boxing_d1_uncomp.avi  \n",
      "  inflating: KTH/data/videos/person05_boxing_d2_uncomp.avi  \n",
      "  inflating: KTH/data/videos/person05_boxing_d3_uncomp.avi  \n",
      "  inflating: KTH/data/videos/person05_boxing_d4_uncomp.avi  \n",
      "  inflating: KTH/data/videos/person06_boxing_d1_uncomp.avi  \n",
      "  inflating: KTH/data/videos/person06_boxing_d2_uncomp.avi  \n",
      "  inflating: KTH/data/videos/person06_boxing_d3_uncomp.avi  \n",
      "  inflating: KTH/data/videos/person06_boxing_d4_uncomp.avi  \n",
      "  inflating: KTH/data/videos/person07_boxing_d1_uncomp.avi  \n",
      "  inflating: KTH/data/videos/person07_boxing_d2_uncomp.avi  \n",
      "  inflating: KTH/data/videos/person07_boxing_d3_uncomp.avi  \n",
      "  inflating: KTH/data/videos/person07_boxing_d4_uncomp.avi  \n",
      "  inflating: KTH/data/videos/person08_boxing_d1_uncomp.avi  \n",
      "  inflating: KTH/data/videos/person08_boxing_d2_uncomp.avi  \n",
      "  inflating: KTH/data/videos/person08_boxing_d3_uncomp.avi  \n",
      "  inflating: KTH/data/videos/person08_boxing_d4_uncomp.avi  \n",
      "  inflating: KTH/data/videos/person09_boxing_d1_uncomp.avi  \n",
      "  inflating: KTH/data/videos/person09_boxing_d2_uncomp.avi  \n",
      "  inflating: KTH/data/videos/person09_boxing_d3_uncomp.avi  \n",
      "  inflating: KTH/data/videos/person09_boxing_d4_uncomp.avi  \n",
      "  inflating: KTH/data/videos/person10_boxing_d1_uncomp.avi  \n",
      "  inflating: KTH/data/videos/person10_boxing_d2_uncomp.avi  \n",
      "  inflating: KTH/data/videos/person10_boxing_d3_uncomp.avi  \n",
      "  inflating: KTH/data/videos/person10_boxing_d4_uncomp.avi  \n",
      "  inflating: KTH/data/videos/person11_boxing_d1_uncomp.avi  \n",
      "  inflating: KTH/data/videos/person11_boxing_d2_uncomp.avi  \n",
      "  inflating: KTH/data/videos/person11_boxing_d3_uncomp.avi  \n",
      "  inflating: KTH/data/videos/person11_boxing_d4_uncomp.avi  \n",
      "  inflating: KTH/data/videos/person12_boxing_d1_uncomp.avi  \n",
      "  inflating: KTH/data/videos/person12_boxing_d2_uncomp.avi  \n",
      "  inflating: KTH/data/videos/person12_boxing_d3_uncomp.avi  \n",
      "  inflating: KTH/data/videos/person12_boxing_d4_uncomp.avi  \n",
      "  inflating: KTH/data/videos/person13_boxing_d1_uncomp.avi  \n",
      "  inflating: KTH/data/videos/person13_boxing_d2_uncomp.avi  \n",
      "  inflating: KTH/data/videos/person13_boxing_d3_uncomp.avi  \n",
      "  inflating: KTH/data/videos/person13_boxing_d4_uncomp.avi  \n",
      "  inflating: KTH/data/videos/person14_boxing_d1_uncomp.avi  \n",
      "  inflating: KTH/data/videos/person14_boxing_d2_uncomp.avi  \n",
      "  inflating: KTH/data/videos/person14_boxing_d3_uncomp.avi  \n",
      "  inflating: KTH/data/videos/person14_boxing_d4_uncomp.avi  \n",
      "  inflating: KTH/data/videos/person15_boxing_d1_uncomp.avi  \n",
      "  inflating: KTH/data/videos/person15_boxing_d2_uncomp.avi  \n",
      "  inflating: KTH/data/videos/person15_boxing_d3_uncomp.avi  \n",
      "  inflating: KTH/data/videos/person15_boxing_d4_uncomp.avi  \n",
      "  inflating: KTH/data/videos/person16_boxing_d1_uncomp.avi  \n",
      "  inflating: KTH/data/videos/person16_boxing_d2_uncomp.avi  \n",
      "  inflating: KTH/data/videos/person16_boxing_d3_uncomp.avi  \n",
      "  inflating: KTH/data/videos/person16_boxing_d4_uncomp.avi  \n",
      "  inflating: KTH/data/videos/person17_boxing_d1_uncomp.avi  \n",
      "  inflating: KTH/data/videos/person17_boxing_d2_uncomp.avi  \n",
      "  inflating: KTH/data/videos/person17_boxing_d3_uncomp.avi  \n",
      "  inflating: KTH/data/videos/person17_boxing_d4_uncomp.avi  \n",
      "  inflating: KTH/data/videos/person18_boxing_d1_uncomp.avi  \n",
      "  inflating: KTH/data/videos/person18_boxing_d2_uncomp.avi  \n",
      "  inflating: KTH/data/videos/person18_boxing_d3_uncomp.avi  \n",
      "  inflating: KTH/data/videos/person18_boxing_d4_uncomp.avi  \n",
      "  inflating: KTH/data/videos/person19_boxing_d1_uncomp.avi  \n",
      "  inflating: KTH/data/videos/person19_boxing_d2_uncomp.avi  \n",
      "  inflating: KTH/data/videos/person19_boxing_d3_uncomp.avi  \n",
      "  inflating: KTH/data/videos/person19_boxing_d4_uncomp.avi  \n",
      "  inflating: KTH/data/videos/person20_boxing_d1_uncomp.avi  \n",
      "  inflating: KTH/data/videos/person20_boxing_d2_uncomp.avi  \n",
      "  inflating: KTH/data/videos/person20_boxing_d3_uncomp.avi  \n",
      "  inflating: KTH/data/videos/person20_boxing_d4_uncomp.avi  \n",
      "  inflating: KTH/data/videos/person21_boxing_d1_uncomp.avi  \n",
      "  inflating: KTH/data/videos/person21_boxing_d2_uncomp.avi  \n",
      "  inflating: KTH/data/videos/person21_boxing_d3_uncomp.avi  \n",
      "  inflating: KTH/data/videos/person21_boxing_d4_uncomp.avi  \n",
      "  inflating: KTH/data/videos/person22_boxing_d1_uncomp.avi  \n",
      "  inflating: KTH/data/videos/person22_boxing_d2_uncomp.avi  \n",
      "  inflating: KTH/data/videos/person22_boxing_d3_uncomp.avi  \n",
      "  inflating: KTH/data/videos/person22_boxing_d4_uncomp.avi  \n",
      "  inflating: KTH/data/videos/person23_boxing_d1_uncomp.avi  \n",
      "  inflating: KTH/data/videos/person23_boxing_d2_uncomp.avi  \n",
      "  inflating: KTH/data/videos/person23_boxing_d3_uncomp.avi  \n",
      "  inflating: KTH/data/videos/person23_boxing_d4_uncomp.avi  \n",
      "  inflating: KTH/data/videos/person24_boxing_d1_uncomp.avi  \n",
      "  inflating: KTH/data/videos/person24_boxing_d2_uncomp.avi  \n",
      "  inflating: KTH/data/videos/person24_boxing_d3_uncomp.avi  \n",
      "  inflating: KTH/data/videos/person24_boxing_d4_uncomp.avi  \n",
      "  inflating: KTH/data/videos/person25_boxing_d1_uncomp.avi  \n",
      "  inflating: KTH/data/videos/person25_boxing_d2_uncomp.avi  \n",
      "  inflating: KTH/data/videos/person25_boxing_d3_uncomp.avi  \n",
      "  inflating: KTH/data/videos/person25_boxing_d4_uncomp.avi  \n",
      "Archive:  /content/gdrive/MyDrive/KTH/videos/handclapping.zip\n",
      "  inflating: KTH/data/videos/person01_handclapping_d1_uncomp.avi  \n",
      "  inflating: KTH/data/videos/person01_handclapping_d2_uncomp.avi  \n",
      "  inflating: KTH/data/videos/person01_handclapping_d3_uncomp.avi  \n",
      "  inflating: KTH/data/videos/person01_handclapping_d4_uncomp.avi  \n",
      "  inflating: KTH/data/videos/person02_handclapping_d1_uncomp.avi  \n",
      "  inflating: KTH/data/videos/person02_handclapping_d2_uncomp.avi  \n",
      "  inflating: KTH/data/videos/person02_handclapping_d3_uncomp.avi  \n",
      "  inflating: KTH/data/videos/person02_handclapping_d4_uncomp.avi  \n",
      "  inflating: KTH/data/videos/person03_handclapping_d1_uncomp.avi  \n",
      "  inflating: KTH/data/videos/person03_handclapping_d2_uncomp.avi  \n",
      "  inflating: KTH/data/videos/person03_handclapping_d3_uncomp.avi  \n",
      "  inflating: KTH/data/videos/person03_handclapping_d4_uncomp.avi  \n",
      "  inflating: KTH/data/videos/person04_handclapping_d1_uncomp.avi  \n",
      "  inflating: KTH/data/videos/person04_handclapping_d2_uncomp.avi  \n",
      "  inflating: KTH/data/videos/person04_handclapping_d3_uncomp.avi  \n",
      "  inflating: KTH/data/videos/person04_handclapping_d4_uncomp.avi  \n",
      "  inflating: KTH/data/videos/person05_handclapping_d1_uncomp.avi  \n",
      "  inflating: KTH/data/videos/person05_handclapping_d2_uncomp.avi  \n",
      "  inflating: KTH/data/videos/person05_handclapping_d3_uncomp.avi  \n",
      "  inflating: KTH/data/videos/person05_handclapping_d4_uncomp.avi  \n",
      "  inflating: KTH/data/videos/person06_handclapping_d1_uncomp.avi  \n",
      "  inflating: KTH/data/videos/person06_handclapping_d2_uncomp.avi  \n",
      "  inflating: KTH/data/videos/person06_handclapping_d3_uncomp.avi  \n",
      "  inflating: KTH/data/videos/person06_handclapping_d4_uncomp.avi  \n",
      "  inflating: KTH/data/videos/person07_handclapping_d1_uncomp.avi  \n",
      "  inflating: KTH/data/videos/person07_handclapping_d2_uncomp.avi  \n",
      "  inflating: KTH/data/videos/person07_handclapping_d3_uncomp.avi  \n",
      "  inflating: KTH/data/videos/person07_handclapping_d4_uncomp.avi  \n",
      "  inflating: KTH/data/videos/person08_handclapping_d1_uncomp.avi  \n",
      "  inflating: KTH/data/videos/person08_handclapping_d2_uncomp.avi  \n",
      "  inflating: KTH/data/videos/person08_handclapping_d3_uncomp.avi  \n",
      "  inflating: KTH/data/videos/person08_handclapping_d4_uncomp.avi  \n",
      "  inflating: KTH/data/videos/person09_handclapping_d1_uncomp.avi  \n",
      "  inflating: KTH/data/videos/person09_handclapping_d2_uncomp.avi  \n",
      "  inflating: KTH/data/videos/person09_handclapping_d3_uncomp.avi  \n",
      "  inflating: KTH/data/videos/person09_handclapping_d4_uncomp.avi  \n",
      "  inflating: KTH/data/videos/person10_handclapping_d1_uncomp.avi  \n",
      "  inflating: KTH/data/videos/person10_handclapping_d2_uncomp.avi  \n",
      "  inflating: KTH/data/videos/person10_handclapping_d3_uncomp.avi  \n",
      "  inflating: KTH/data/videos/person10_handclapping_d4_uncomp.avi  \n",
      "  inflating: KTH/data/videos/person11_handclapping_d1_uncomp.avi  \n",
      "  inflating: KTH/data/videos/person11_handclapping_d2_uncomp.avi  \n",
      "  inflating: KTH/data/videos/person11_handclapping_d3_uncomp.avi  \n",
      "  inflating: KTH/data/videos/person11_handclapping_d4_uncomp.avi  \n",
      "  inflating: KTH/data/videos/person12_handclapping_d1_uncomp.avi  \n",
      "  inflating: KTH/data/videos/person12_handclapping_d2_uncomp.avi  \n",
      "  inflating: KTH/data/videos/person12_handclapping_d3_uncomp.avi  \n",
      "  inflating: KTH/data/videos/person12_handclapping_d4_uncomp.avi  \n",
      "  inflating: KTH/data/videos/person13_handclapping_d1_uncomp.avi  \n",
      "  inflating: KTH/data/videos/person13_handclapping_d2_uncomp.avi  \n",
      "  inflating: KTH/data/videos/person13_handclapping_d4_uncomp.avi  \n",
      "  inflating: KTH/data/videos/person14_handclapping_d1_uncomp.avi  \n",
      "  inflating: KTH/data/videos/person14_handclapping_d2_uncomp.avi  \n",
      "  inflating: KTH/data/videos/person14_handclapping_d3_uncomp.avi  \n",
      "  inflating: KTH/data/videos/person14_handclapping_d4_uncomp.avi  \n",
      "  inflating: KTH/data/videos/person15_handclapping_d1_uncomp.avi  \n",
      "  inflating: KTH/data/videos/person15_handclapping_d2_uncomp.avi  \n",
      "  inflating: KTH/data/videos/person15_handclapping_d3_uncomp.avi  \n",
      "  inflating: KTH/data/videos/person15_handclapping_d4_uncomp.avi  \n",
      "  inflating: KTH/data/videos/person16_handclapping_d1_uncomp.avi  \n",
      "  inflating: KTH/data/videos/person16_handclapping_d2_uncomp.avi  \n",
      "  inflating: KTH/data/videos/person16_handclapping_d3_uncomp.avi  \n",
      "  inflating: KTH/data/videos/person16_handclapping_d4_uncomp.avi  \n",
      "  inflating: KTH/data/videos/person17_handclapping_d1_uncomp.avi  \n",
      "  inflating: KTH/data/videos/person17_handclapping_d2_uncomp.avi  \n",
      "  inflating: KTH/data/videos/person17_handclapping_d3_uncomp.avi  \n",
      "  inflating: KTH/data/videos/person17_handclapping_d4_uncomp.avi  \n",
      "  inflating: KTH/data/videos/person18_handclapping_d1_uncomp.avi  \n",
      "  inflating: KTH/data/videos/person18_handclapping_d2_uncomp.avi  \n",
      "  inflating: KTH/data/videos/person18_handclapping_d3_uncomp.avi  \n",
      "  inflating: KTH/data/videos/person18_handclapping_d4_uncomp.avi  \n",
      "  inflating: KTH/data/videos/person19_handclapping_d1_uncomp.avi  \n",
      "  inflating: KTH/data/videos/person19_handclapping_d2_uncomp.avi  \n",
      "  inflating: KTH/data/videos/person19_handclapping_d3_uncomp.avi  \n",
      "  inflating: KTH/data/videos/person19_handclapping_d4_uncomp.avi  \n",
      "  inflating: KTH/data/videos/person20_handclapping_d1_uncomp.avi  \n",
      "  inflating: KTH/data/videos/person20_handclapping_d2_uncomp.avi  \n",
      "  inflating: KTH/data/videos/person20_handclapping_d3_uncomp.avi  \n",
      "  inflating: KTH/data/videos/person20_handclapping_d4_uncomp.avi  \n",
      "  inflating: KTH/data/videos/person21_handclapping_d1_uncomp.avi  \n",
      "  inflating: KTH/data/videos/person21_handclapping_d2_uncomp.avi  \n",
      "  inflating: KTH/data/videos/person21_handclapping_d3_uncomp.avi  \n",
      "  inflating: KTH/data/videos/person21_handclapping_d4_uncomp.avi  \n",
      "  inflating: KTH/data/videos/person22_handclapping_d1_uncomp.avi  \n",
      "  inflating: KTH/data/videos/person22_handclapping_d2_uncomp.avi  \n",
      "  inflating: KTH/data/videos/person22_handclapping_d3_uncomp.avi  \n",
      "  inflating: KTH/data/videos/person22_handclapping_d4_uncomp.avi  \n",
      "  inflating: KTH/data/videos/person23_handclapping_d1_uncomp.avi  \n",
      "  inflating: KTH/data/videos/person23_handclapping_d2_uncomp.avi  \n",
      "  inflating: KTH/data/videos/person23_handclapping_d3_uncomp.avi  \n",
      "  inflating: KTH/data/videos/person23_handclapping_d4_uncomp.avi  \n",
      "  inflating: KTH/data/videos/person24_handclapping_d1_uncomp.avi  \n",
      "  inflating: KTH/data/videos/person24_handclapping_d2_uncomp.avi  \n",
      "  inflating: KTH/data/videos/person24_handclapping_d3_uncomp.avi  \n",
      "  inflating: KTH/data/videos/person24_handclapping_d4_uncomp.avi  \n",
      "  inflating: KTH/data/videos/person25_handclapping_d1_uncomp.avi  \n",
      "  inflating: KTH/data/videos/person25_handclapping_d2_uncomp.avi  \n",
      "  inflating: KTH/data/videos/person25_handclapping_d3_uncomp.avi  \n",
      "  inflating: KTH/data/videos/person25_handclapping_d4_uncomp.avi  \n",
      "Archive:  /content/gdrive/MyDrive/KTH/videos/handwaving.zip\n",
      "  inflating: KTH/data/videos/person01_handwaving_d1_uncomp.avi  \n",
      "  inflating: KTH/data/videos/person01_handwaving_d2_uncomp.avi  \n",
      "  inflating: KTH/data/videos/person01_handwaving_d3_uncomp.avi  \n",
      "  inflating: KTH/data/videos/person01_handwaving_d4_uncomp.avi  \n",
      "  inflating: KTH/data/videos/person02_handwaving_d1_uncomp.avi  \n",
      "  inflating: KTH/data/videos/person02_handwaving_d2_uncomp.avi  \n",
      "  inflating: KTH/data/videos/person02_handwaving_d3_uncomp.avi  \n",
      "  inflating: KTH/data/videos/person02_handwaving_d4_uncomp.avi  \n",
      "  inflating: KTH/data/videos/person03_handwaving_d1_uncomp.avi  \n",
      "  inflating: KTH/data/videos/person03_handwaving_d2_uncomp.avi  \n",
      "  inflating: KTH/data/videos/person03_handwaving_d3_uncomp.avi  \n",
      "  inflating: KTH/data/videos/person03_handwaving_d4_uncomp.avi  \n",
      "  inflating: KTH/data/videos/person04_handwaving_d1_uncomp.avi  \n",
      "  inflating: KTH/data/videos/person04_handwaving_d2_uncomp.avi  \n",
      "  inflating: KTH/data/videos/person04_handwaving_d3_uncomp.avi  \n",
      "  inflating: KTH/data/videos/person04_handwaving_d4_uncomp.avi  \n",
      "  inflating: KTH/data/videos/person05_handwaving_d1_uncomp.avi  \n",
      "  inflating: KTH/data/videos/person05_handwaving_d2_uncomp.avi  \n",
      "  inflating: KTH/data/videos/person05_handwaving_d3_uncomp.avi  \n",
      "  inflating: KTH/data/videos/person05_handwaving_d4_uncomp.avi  \n",
      "  inflating: KTH/data/videos/person06_handwaving_d1_uncomp.avi  \n",
      "  inflating: KTH/data/videos/person06_handwaving_d2_uncomp.avi  \n",
      "  inflating: KTH/data/videos/person06_handwaving_d3_uncomp.avi  \n",
      "  inflating: KTH/data/videos/person06_handwaving_d4_uncomp.avi  \n",
      "  inflating: KTH/data/videos/person07_handwaving_d1_uncomp.avi  \n",
      "  inflating: KTH/data/videos/person07_handwaving_d2_uncomp.avi  \n",
      "  inflating: KTH/data/videos/person07_handwaving_d3_uncomp.avi  \n",
      "  inflating: KTH/data/videos/person07_handwaving_d4_uncomp.avi  \n",
      "  inflating: KTH/data/videos/person08_handwaving_d1_uncomp.avi  \n",
      "  inflating: KTH/data/videos/person08_handwaving_d2_uncomp.avi  \n",
      "  inflating: KTH/data/videos/person08_handwaving_d3_uncomp.avi  \n",
      "  inflating: KTH/data/videos/person08_handwaving_d4_uncomp.avi  \n",
      "  inflating: KTH/data/videos/person09_handwaving_d1_uncomp.avi  \n",
      "  inflating: KTH/data/videos/person09_handwaving_d2_uncomp.avi  \n",
      "  inflating: KTH/data/videos/person09_handwaving_d3_uncomp.avi  \n",
      "  inflating: KTH/data/videos/person09_handwaving_d4_uncomp.avi  \n",
      "  inflating: KTH/data/videos/person10_handwaving_d1_uncomp.avi  \n",
      "  inflating: KTH/data/videos/person10_handwaving_d2_uncomp.avi  \n",
      "  inflating: KTH/data/videos/person10_handwaving_d3_uncomp.avi  \n",
      "  inflating: KTH/data/videos/person10_handwaving_d4_uncomp.avi  \n",
      "  inflating: KTH/data/videos/person11_handwaving_d1_uncomp.avi  \n",
      "  inflating: KTH/data/videos/person11_handwaving_d2_uncomp.avi  \n",
      "  inflating: KTH/data/videos/person11_handwaving_d3_uncomp.avi  \n",
      "  inflating: KTH/data/videos/person11_handwaving_d4_uncomp.avi  \n",
      "  inflating: KTH/data/videos/person12_handwaving_d1_uncomp.avi  \n",
      "  inflating: KTH/data/videos/person12_handwaving_d2_uncomp.avi  \n",
      "  inflating: KTH/data/videos/person12_handwaving_d3_uncomp.avi  \n",
      "  inflating: KTH/data/videos/person12_handwaving_d4_uncomp.avi  \n",
      "  inflating: KTH/data/videos/person13_handwaving_d1_uncomp.avi  \n",
      "  inflating: KTH/data/videos/person13_handwaving_d2_uncomp.avi  \n",
      "  inflating: KTH/data/videos/person13_handwaving_d3_uncomp.avi  \n",
      "  inflating: KTH/data/videos/person13_handwaving_d4_uncomp.avi  \n",
      "  inflating: KTH/data/videos/person14_handwaving_d1_uncomp.avi  \n",
      "  inflating: KTH/data/videos/person14_handwaving_d2_uncomp.avi  \n",
      "  inflating: KTH/data/videos/person14_handwaving_d3_uncomp.avi  \n",
      "  inflating: KTH/data/videos/person14_handwaving_d4_uncomp.avi  \n",
      "  inflating: KTH/data/videos/person15_handwaving_d1_uncomp.avi  \n",
      "  inflating: KTH/data/videos/person15_handwaving_d2_uncomp.avi  \n",
      "  inflating: KTH/data/videos/person15_handwaving_d3_uncomp.avi  \n",
      "  inflating: KTH/data/videos/person15_handwaving_d4_uncomp.avi  \n",
      "  inflating: KTH/data/videos/person16_handwaving_d1_uncomp.avi  \n",
      "  inflating: KTH/data/videos/person16_handwaving_d2_uncomp.avi  \n",
      "  inflating: KTH/data/videos/person16_handwaving_d3_uncomp.avi  \n",
      "  inflating: KTH/data/videos/person16_handwaving_d4_uncomp.avi  \n",
      "  inflating: KTH/data/videos/person17_handwaving_d1_uncomp.avi  \n",
      "  inflating: KTH/data/videos/person17_handwaving_d2_uncomp.avi  \n",
      "  inflating: KTH/data/videos/person17_handwaving_d3_uncomp.avi  \n",
      "  inflating: KTH/data/videos/person17_handwaving_d4_uncomp.avi  \n",
      "  inflating: KTH/data/videos/person18_handwaving_d1_uncomp.avi  \n",
      "  inflating: KTH/data/videos/person18_handwaving_d2_uncomp.avi  \n",
      "  inflating: KTH/data/videos/person18_handwaving_d3_uncomp.avi  \n",
      "  inflating: KTH/data/videos/person18_handwaving_d4_uncomp.avi  \n",
      "  inflating: KTH/data/videos/person19_handwaving_d1_uncomp.avi  \n",
      "  inflating: KTH/data/videos/person19_handwaving_d2_uncomp.avi  \n",
      "  inflating: KTH/data/videos/person19_handwaving_d3_uncomp.avi  \n",
      "  inflating: KTH/data/videos/person19_handwaving_d4_uncomp.avi  \n",
      "  inflating: KTH/data/videos/person20_handwaving_d1_uncomp.avi  \n",
      "  inflating: KTH/data/videos/person20_handwaving_d2_uncomp.avi  \n",
      "  inflating: KTH/data/videos/person20_handwaving_d3_uncomp.avi  \n",
      "  inflating: KTH/data/videos/person20_handwaving_d4_uncomp.avi  \n",
      "  inflating: KTH/data/videos/person21_handwaving_d1_uncomp.avi  \n",
      "  inflating: KTH/data/videos/person21_handwaving_d2_uncomp.avi  \n",
      "  inflating: KTH/data/videos/person21_handwaving_d3_uncomp.avi  \n",
      "  inflating: KTH/data/videos/person21_handwaving_d4_uncomp.avi  \n",
      "  inflating: KTH/data/videos/person22_handwaving_d1_uncomp.avi  \n",
      "  inflating: KTH/data/videos/person22_handwaving_d2_uncomp.avi  \n",
      "  inflating: KTH/data/videos/person22_handwaving_d3_uncomp.avi  \n",
      "  inflating: KTH/data/videos/person22_handwaving_d4_uncomp.avi  \n",
      "  inflating: KTH/data/videos/person23_handwaving_d1_uncomp.avi  \n",
      "  inflating: KTH/data/videos/person23_handwaving_d2_uncomp.avi  \n",
      "  inflating: KTH/data/videos/person23_handwaving_d3_uncomp.avi  \n",
      "  inflating: KTH/data/videos/person23_handwaving_d4_uncomp.avi  \n",
      "  inflating: KTH/data/videos/person24_handwaving_d1_uncomp.avi  \n",
      "  inflating: KTH/data/videos/person24_handwaving_d2_uncomp.avi  \n",
      "  inflating: KTH/data/videos/person24_handwaving_d3_uncomp.avi  \n",
      "  inflating: KTH/data/videos/person24_handwaving_d4_uncomp.avi  \n",
      "  inflating: KTH/data/videos/person25_handwaving_d1_uncomp.avi  \n",
      "  inflating: KTH/data/videos/person25_handwaving_d2_uncomp.avi  \n",
      "  inflating: KTH/data/videos/person25_handwaving_d3_uncomp.avi  \n",
      "  inflating: KTH/data/videos/person25_handwaving_d4_uncomp.avi  \n",
      "Archive:  /content/gdrive/MyDrive/KTH/videos/jogging.zip\n",
      "  inflating: KTH/data/videos/person01_jogging_d1_uncomp.avi  \n",
      "  inflating: KTH/data/videos/person01_jogging_d2_uncomp.avi  \n",
      "  inflating: KTH/data/videos/person01_jogging_d3_uncomp.avi  \n",
      "  inflating: KTH/data/videos/person01_jogging_d4_uncomp.avi  \n",
      "  inflating: KTH/data/videos/person02_jogging_d1_uncomp.avi  \n",
      "  inflating: KTH/data/videos/person02_jogging_d2_uncomp.avi  \n",
      "  inflating: KTH/data/videos/person02_jogging_d3_uncomp.avi  \n",
      "  inflating: KTH/data/videos/person02_jogging_d4_uncomp.avi  \n",
      "  inflating: KTH/data/videos/person03_jogging_d1_uncomp.avi  \n",
      "  inflating: KTH/data/videos/person03_jogging_d2_uncomp.avi  \n",
      "  inflating: KTH/data/videos/person03_jogging_d3_uncomp.avi  \n",
      "  inflating: KTH/data/videos/person03_jogging_d4_uncomp.avi  \n",
      "  inflating: KTH/data/videos/person04_jogging_d1_uncomp.avi  \n",
      "  inflating: KTH/data/videos/person04_jogging_d2_uncomp.avi  \n",
      "  inflating: KTH/data/videos/person04_jogging_d3_uncomp.avi  \n",
      "  inflating: KTH/data/videos/person04_jogging_d4_uncomp.avi  \n",
      "  inflating: KTH/data/videos/person05_jogging_d1_uncomp.avi  \n",
      "  inflating: KTH/data/videos/person05_jogging_d2_uncomp.avi  \n",
      "  inflating: KTH/data/videos/person05_jogging_d3_uncomp.avi  \n",
      "  inflating: KTH/data/videos/person05_jogging_d4_uncomp.avi  \n",
      "  inflating: KTH/data/videos/person06_jogging_d1_uncomp.avi  \n",
      "  inflating: KTH/data/videos/person06_jogging_d2_uncomp.avi  \n",
      "  inflating: KTH/data/videos/person06_jogging_d3_uncomp.avi  \n",
      "  inflating: KTH/data/videos/person06_jogging_d4_uncomp.avi  \n",
      "  inflating: KTH/data/videos/person07_jogging_d1_uncomp.avi  \n",
      "  inflating: KTH/data/videos/person07_jogging_d2_uncomp.avi  \n",
      "  inflating: KTH/data/videos/person07_jogging_d3_uncomp.avi  \n",
      "  inflating: KTH/data/videos/person07_jogging_d4_uncomp.avi  \n",
      "  inflating: KTH/data/videos/person08_jogging_d1_uncomp.avi  \n",
      "  inflating: KTH/data/videos/person08_jogging_d2_uncomp.avi  \n",
      "  inflating: KTH/data/videos/person08_jogging_d3_uncomp.avi  \n",
      "  inflating: KTH/data/videos/person08_jogging_d4_uncomp.avi  \n",
      "  inflating: KTH/data/videos/person09_jogging_d1_uncomp.avi  \n",
      "  inflating: KTH/data/videos/person09_jogging_d2_uncomp.avi  \n",
      "  inflating: KTH/data/videos/person09_jogging_d3_uncomp.avi  \n",
      "  inflating: KTH/data/videos/person09_jogging_d4_uncomp.avi  \n",
      "  inflating: KTH/data/videos/person10_jogging_d1_uncomp.avi  \n",
      "  inflating: KTH/data/videos/person10_jogging_d2_uncomp.avi  \n",
      "  inflating: KTH/data/videos/person10_jogging_d3_uncomp.avi  \n",
      "  inflating: KTH/data/videos/person10_jogging_d4_uncomp.avi  \n",
      "  inflating: KTH/data/videos/person11_jogging_d1_uncomp.avi  \n",
      "  inflating: KTH/data/videos/person11_jogging_d2_uncomp.avi  \n",
      "  inflating: KTH/data/videos/person11_jogging_d3_uncomp.avi  \n",
      "  inflating: KTH/data/videos/person11_jogging_d4_uncomp.avi  \n",
      "  inflating: KTH/data/videos/person12_jogging_d1_uncomp.avi  \n",
      "  inflating: KTH/data/videos/person12_jogging_d2_uncomp.avi  \n",
      "  inflating: KTH/data/videos/person12_jogging_d3_uncomp.avi  \n",
      "  inflating: KTH/data/videos/person12_jogging_d4_uncomp.avi  \n",
      "  inflating: KTH/data/videos/person13_jogging_d1_uncomp.avi  \n",
      "  inflating: KTH/data/videos/person13_jogging_d2_uncomp.avi  \n",
      "  inflating: KTH/data/videos/person13_jogging_d3_uncomp.avi  \n",
      "  inflating: KTH/data/videos/person13_jogging_d4_uncomp.avi  \n",
      "  inflating: KTH/data/videos/person14_jogging_d1_uncomp.avi  \n",
      "  inflating: KTH/data/videos/person14_jogging_d2_uncomp.avi  \n",
      "  inflating: KTH/data/videos/person14_jogging_d3_uncomp.avi  \n",
      "  inflating: KTH/data/videos/person14_jogging_d4_uncomp.avi  \n",
      "  inflating: KTH/data/videos/person15_jogging_d1_uncomp.avi  \n",
      "  inflating: KTH/data/videos/person15_jogging_d2_uncomp.avi  \n",
      "  inflating: KTH/data/videos/person15_jogging_d3_uncomp.avi  \n",
      "  inflating: KTH/data/videos/person15_jogging_d4_uncomp.avi  \n",
      "  inflating: KTH/data/videos/person16_jogging_d1_uncomp.avi  \n",
      "  inflating: KTH/data/videos/person16_jogging_d2_uncomp.avi  \n",
      "  inflating: KTH/data/videos/person16_jogging_d3_uncomp.avi  \n",
      "  inflating: KTH/data/videos/person16_jogging_d4_uncomp.avi  \n",
      "  inflating: KTH/data/videos/person17_jogging_d1_uncomp.avi  \n",
      "  inflating: KTH/data/videos/person17_jogging_d2_uncomp.avi  \n",
      "  inflating: KTH/data/videos/person17_jogging_d3_uncomp.avi  \n",
      "  inflating: KTH/data/videos/person17_jogging_d4_uncomp.avi  \n",
      "  inflating: KTH/data/videos/person18_jogging_d1_uncomp.avi  \n",
      "  inflating: KTH/data/videos/person18_jogging_d2_uncomp.avi  \n",
      "  inflating: KTH/data/videos/person18_jogging_d3_uncomp.avi  \n",
      "  inflating: KTH/data/videos/person18_jogging_d4_uncomp.avi  \n",
      "  inflating: KTH/data/videos/person19_jogging_d1_uncomp.avi  \n",
      "  inflating: KTH/data/videos/person19_jogging_d2_uncomp.avi  \n",
      "  inflating: KTH/data/videos/person19_jogging_d3_uncomp.avi  \n",
      "  inflating: KTH/data/videos/person19_jogging_d4_uncomp.avi  \n",
      "  inflating: KTH/data/videos/person20_jogging_d1_uncomp.avi  \n",
      "  inflating: KTH/data/videos/person20_jogging_d2_uncomp.avi  \n",
      "  inflating: KTH/data/videos/person20_jogging_d3_uncomp.avi  \n",
      "  inflating: KTH/data/videos/person20_jogging_d4_uncomp.avi  \n",
      "  inflating: KTH/data/videos/person21_jogging_d1_uncomp.avi  \n",
      "  inflating: KTH/data/videos/person21_jogging_d2_uncomp.avi  \n",
      "  inflating: KTH/data/videos/person21_jogging_d3_uncomp.avi  \n",
      "  inflating: KTH/data/videos/person21_jogging_d4_uncomp.avi  \n",
      "  inflating: KTH/data/videos/person22_jogging_d1_uncomp.avi  \n",
      "  inflating: KTH/data/videos/person22_jogging_d2_uncomp.avi  \n",
      "  inflating: KTH/data/videos/person22_jogging_d3_uncomp.avi  \n",
      "  inflating: KTH/data/videos/person22_jogging_d4_uncomp.avi  \n",
      "  inflating: KTH/data/videos/person23_jogging_d1_uncomp.avi  \n",
      "  inflating: KTH/data/videos/person23_jogging_d2_uncomp.avi  \n",
      "  inflating: KTH/data/videos/person23_jogging_d3_uncomp.avi  \n",
      "  inflating: KTH/data/videos/person23_jogging_d4_uncomp.avi  \n",
      "  inflating: KTH/data/videos/person24_jogging_d1_uncomp.avi  \n",
      "  inflating: KTH/data/videos/person24_jogging_d2_uncomp.avi  \n",
      "  inflating: KTH/data/videos/person24_jogging_d3_uncomp.avi  \n",
      "  inflating: KTH/data/videos/person24_jogging_d4_uncomp.avi  \n",
      "  inflating: KTH/data/videos/person25_jogging_d1_uncomp.avi  \n",
      "  inflating: KTH/data/videos/person25_jogging_d2_uncomp.avi  \n",
      "  inflating: KTH/data/videos/person25_jogging_d3_uncomp.avi  \n",
      "  inflating: KTH/data/videos/person25_jogging_d4_uncomp.avi  \n",
      "Archive:  /content/gdrive/MyDrive/KTH/videos/running.zip\n",
      "  inflating: KTH/data/videos/person01_running_d1_uncomp.avi  \n",
      "  inflating: KTH/data/videos/person01_running_d2_uncomp.avi  \n",
      "  inflating: KTH/data/videos/person01_running_d3_uncomp.avi  \n",
      "  inflating: KTH/data/videos/person01_running_d4_uncomp.avi  \n",
      "  inflating: KTH/data/videos/person02_running_d1_uncomp.avi  \n",
      "  inflating: KTH/data/videos/person02_running_d2_uncomp.avi  \n",
      "  inflating: KTH/data/videos/person02_running_d3_uncomp.avi  \n",
      "  inflating: KTH/data/videos/person02_running_d4_uncomp.avi  \n",
      "  inflating: KTH/data/videos/person03_running_d1_uncomp.avi  \n",
      "  inflating: KTH/data/videos/person03_running_d2_uncomp.avi  \n",
      "  inflating: KTH/data/videos/person03_running_d3_uncomp.avi  \n",
      "  inflating: KTH/data/videos/person03_running_d4_uncomp.avi  \n",
      "  inflating: KTH/data/videos/person04_running_d1_uncomp.avi  \n",
      "  inflating: KTH/data/videos/person04_running_d2_uncomp.avi  \n",
      "  inflating: KTH/data/videos/person04_running_d3_uncomp.avi  \n",
      "  inflating: KTH/data/videos/person04_running_d4_uncomp.avi  \n",
      "  inflating: KTH/data/videos/person05_running_d1_uncomp.avi  \n",
      "  inflating: KTH/data/videos/person05_running_d2_uncomp.avi  \n",
      "  inflating: KTH/data/videos/person05_running_d3_uncomp.avi  \n",
      "  inflating: KTH/data/videos/person05_running_d4_uncomp.avi  \n",
      "  inflating: KTH/data/videos/person06_running_d1_uncomp.avi  \n",
      "  inflating: KTH/data/videos/person06_running_d2_uncomp.avi  \n",
      "  inflating: KTH/data/videos/person06_running_d3_uncomp.avi  \n",
      "  inflating: KTH/data/videos/person06_running_d4_uncomp.avi  \n",
      "  inflating: KTH/data/videos/person07_running_d1_uncomp.avi  \n",
      "  inflating: KTH/data/videos/person07_running_d2_uncomp.avi  \n",
      "  inflating: KTH/data/videos/person07_running_d3_uncomp.avi  \n",
      "  inflating: KTH/data/videos/person07_running_d4_uncomp.avi  \n",
      "  inflating: KTH/data/videos/person08_running_d1_uncomp.avi  \n",
      "  inflating: KTH/data/videos/person08_running_d2_uncomp.avi  \n",
      "  inflating: KTH/data/videos/person08_running_d3_uncomp.avi  \n",
      "  inflating: KTH/data/videos/person08_running_d4_uncomp.avi  \n",
      "  inflating: KTH/data/videos/person09_running_d1_uncomp.avi  \n",
      "  inflating: KTH/data/videos/person09_running_d2_uncomp.avi  \n",
      "  inflating: KTH/data/videos/person09_running_d3_uncomp.avi  \n",
      "  inflating: KTH/data/videos/person09_running_d4_uncomp.avi  \n",
      "  inflating: KTH/data/videos/person10_running_d1_uncomp.avi  \n",
      "  inflating: KTH/data/videos/person10_running_d2_uncomp.avi  \n",
      "  inflating: KTH/data/videos/person10_running_d3_uncomp.avi  \n",
      "  inflating: KTH/data/videos/person10_running_d4_uncomp.avi  \n",
      "  inflating: KTH/data/videos/person11_running_d1_uncomp.avi  \n",
      "  inflating: KTH/data/videos/person11_running_d2_uncomp.avi  \n",
      "  inflating: KTH/data/videos/person11_running_d3_uncomp.avi  \n",
      "  inflating: KTH/data/videos/person11_running_d4_uncomp.avi  \n",
      "  inflating: KTH/data/videos/person12_running_d1_uncomp.avi  \n",
      "  inflating: KTH/data/videos/person12_running_d2_uncomp.avi  \n",
      "  inflating: KTH/data/videos/person12_running_d3_uncomp.avi  \n",
      "  inflating: KTH/data/videos/person12_running_d4_uncomp.avi  \n",
      "  inflating: KTH/data/videos/person13_running_d1_uncomp.avi  \n",
      "  inflating: KTH/data/videos/person13_running_d2_uncomp.avi  \n",
      "  inflating: KTH/data/videos/person13_running_d3_uncomp.avi  \n",
      "  inflating: KTH/data/videos/person13_running_d4_uncomp.avi  \n",
      "  inflating: KTH/data/videos/person14_running_d1_uncomp.avi  \n",
      "  inflating: KTH/data/videos/person14_running_d2_uncomp.avi  \n",
      "  inflating: KTH/data/videos/person14_running_d3_uncomp.avi  \n",
      "  inflating: KTH/data/videos/person14_running_d4_uncomp.avi  \n",
      "  inflating: KTH/data/videos/person15_running_d1_uncomp.avi  \n",
      "  inflating: KTH/data/videos/person15_running_d2_uncomp.avi  \n",
      "  inflating: KTH/data/videos/person15_running_d3_uncomp.avi  \n",
      "  inflating: KTH/data/videos/person15_running_d4_uncomp.avi  \n",
      "  inflating: KTH/data/videos/person16_running_d1_uncomp.avi  \n",
      "  inflating: KTH/data/videos/person16_running_d2_uncomp.avi  \n",
      "  inflating: KTH/data/videos/person16_running_d3_uncomp.avi  \n",
      "  inflating: KTH/data/videos/person16_running_d4_uncomp.avi  \n",
      "  inflating: KTH/data/videos/person17_running_d1_uncomp.avi  \n",
      "  inflating: KTH/data/videos/person17_running_d2_uncomp.avi  \n",
      "  inflating: KTH/data/videos/person17_running_d3_uncomp.avi  \n",
      "  inflating: KTH/data/videos/person17_running_d4_uncomp.avi  \n",
      "  inflating: KTH/data/videos/person18_running_d1_uncomp.avi  \n",
      "  inflating: KTH/data/videos/person18_running_d2_uncomp.avi  \n",
      "  inflating: KTH/data/videos/person18_running_d3_uncomp.avi  \n",
      "  inflating: KTH/data/videos/person18_running_d4_uncomp.avi  \n",
      "  inflating: KTH/data/videos/person19_running_d1_uncomp.avi  \n",
      "  inflating: KTH/data/videos/person19_running_d2_uncomp.avi  \n",
      "  inflating: KTH/data/videos/person19_running_d3_uncomp.avi  \n",
      "  inflating: KTH/data/videos/person19_running_d4_uncomp.avi  \n",
      "  inflating: KTH/data/videos/person20_running_d1_uncomp.avi  \n",
      "  inflating: KTH/data/videos/person20_running_d2_uncomp.avi  \n",
      "  inflating: KTH/data/videos/person20_running_d3_uncomp.avi  \n",
      "  inflating: KTH/data/videos/person20_running_d4_uncomp.avi  \n",
      "  inflating: KTH/data/videos/person21_running_d1_uncomp.avi  \n",
      "  inflating: KTH/data/videos/person21_running_d2_uncomp.avi  \n",
      "  inflating: KTH/data/videos/person21_running_d3_uncomp.avi  \n",
      "  inflating: KTH/data/videos/person21_running_d4_uncomp.avi  \n",
      "  inflating: KTH/data/videos/person22_running_d1_uncomp.avi  \n",
      "  inflating: KTH/data/videos/person22_running_d2_uncomp.avi  \n",
      "  inflating: KTH/data/videos/person22_running_d3_uncomp.avi  \n",
      "  inflating: KTH/data/videos/person22_running_d4_uncomp.avi  \n",
      "  inflating: KTH/data/videos/person23_running_d1_uncomp.avi  \n",
      "  inflating: KTH/data/videos/person23_running_d2_uncomp.avi  \n",
      "  inflating: KTH/data/videos/person23_running_d3_uncomp.avi  \n",
      "  inflating: KTH/data/videos/person23_running_d4_uncomp.avi  \n",
      "  inflating: KTH/data/videos/person24_running_d1_uncomp.avi  \n",
      "  inflating: KTH/data/videos/person24_running_d2_uncomp.avi  \n",
      "  inflating: KTH/data/videos/person24_running_d3_uncomp.avi  \n",
      "  inflating: KTH/data/videos/person24_running_d4_uncomp.avi  \n",
      "  inflating: KTH/data/videos/person25_running_d1_uncomp.avi  \n",
      "  inflating: KTH/data/videos/person25_running_d2_uncomp.avi  \n",
      "  inflating: KTH/data/videos/person25_running_d3_uncomp.avi  \n",
      "  inflating: KTH/data/videos/person25_running_d4_uncomp.avi  \n",
      "Archive:  /content/gdrive/MyDrive/KTH/videos/walking.zip\n",
      "  inflating: KTH/data/videos/person01_walking_d1_uncomp.avi  \n",
      "  inflating: KTH/data/videos/person01_walking_d2_uncomp.avi  \n",
      "  inflating: KTH/data/videos/person01_walking_d3_uncomp.avi  \n",
      "  inflating: KTH/data/videos/person01_walking_d4_uncomp.avi  \n",
      "  inflating: KTH/data/videos/person02_walking_d1_uncomp.avi  \n",
      "  inflating: KTH/data/videos/person02_walking_d2_uncomp.avi  \n",
      "  inflating: KTH/data/videos/person02_walking_d3_uncomp.avi  \n",
      "  inflating: KTH/data/videos/person02_walking_d4_uncomp.avi  \n",
      "  inflating: KTH/data/videos/person03_walking_d1_uncomp.avi  \n",
      "  inflating: KTH/data/videos/person03_walking_d2_uncomp.avi  \n",
      "  inflating: KTH/data/videos/person03_walking_d3_uncomp.avi  \n",
      "  inflating: KTH/data/videos/person03_walking_d4_uncomp.avi  \n",
      "  inflating: KTH/data/videos/person04_walking_d1_uncomp.avi  \n",
      "  inflating: KTH/data/videos/person04_walking_d2_uncomp.avi  \n",
      "  inflating: KTH/data/videos/person04_walking_d3_uncomp.avi  \n",
      "  inflating: KTH/data/videos/person04_walking_d4_uncomp.avi  \n",
      "  inflating: KTH/data/videos/person05_walking_d1_uncomp.avi  \n",
      "  inflating: KTH/data/videos/person05_walking_d2_uncomp.avi  \n",
      "  inflating: KTH/data/videos/person05_walking_d3_uncomp.avi  \n",
      "  inflating: KTH/data/videos/person05_walking_d4_uncomp.avi  \n",
      "  inflating: KTH/data/videos/person06_walking_d1_uncomp.avi  \n",
      "  inflating: KTH/data/videos/person06_walking_d2_uncomp.avi  \n",
      "  inflating: KTH/data/videos/person06_walking_d3_uncomp.avi  \n",
      "  inflating: KTH/data/videos/person06_walking_d4_uncomp.avi  \n",
      "  inflating: KTH/data/videos/person07_walking_d1_uncomp.avi  \n",
      "  inflating: KTH/data/videos/person07_walking_d2_uncomp.avi  \n",
      "  inflating: KTH/data/videos/person07_walking_d3_uncomp.avi  \n",
      "  inflating: KTH/data/videos/person07_walking_d4_uncomp.avi  \n",
      "  inflating: KTH/data/videos/person08_walking_d1_uncomp.avi  \n",
      "  inflating: KTH/data/videos/person08_walking_d2_uncomp.avi  \n",
      "  inflating: KTH/data/videos/person08_walking_d3_uncomp.avi  \n",
      "  inflating: KTH/data/videos/person08_walking_d4_uncomp.avi  \n",
      "  inflating: KTH/data/videos/person09_walking_d1_uncomp.avi  \n",
      "  inflating: KTH/data/videos/person09_walking_d2_uncomp.avi  \n",
      "  inflating: KTH/data/videos/person09_walking_d3_uncomp.avi  \n",
      "  inflating: KTH/data/videos/person09_walking_d4_uncomp.avi  \n",
      "  inflating: KTH/data/videos/person10_walking_d1_uncomp.avi  \n",
      "  inflating: KTH/data/videos/person10_walking_d2_uncomp.avi  \n",
      "  inflating: KTH/data/videos/person10_walking_d3_uncomp.avi  \n",
      "  inflating: KTH/data/videos/person10_walking_d4_uncomp.avi  \n",
      "  inflating: KTH/data/videos/person11_walking_d1_uncomp.avi  \n",
      "  inflating: KTH/data/videos/person11_walking_d2_uncomp.avi  \n",
      "  inflating: KTH/data/videos/person11_walking_d3_uncomp.avi  \n",
      "  inflating: KTH/data/videos/person11_walking_d4_uncomp.avi  \n",
      "  inflating: KTH/data/videos/person12_walking_d1_uncomp.avi  \n",
      "  inflating: KTH/data/videos/person12_walking_d2_uncomp.avi  \n",
      "  inflating: KTH/data/videos/person12_walking_d3_uncomp.avi  \n",
      "  inflating: KTH/data/videos/person12_walking_d4_uncomp.avi  \n",
      "  inflating: KTH/data/videos/person13_walking_d1_uncomp.avi  \n",
      "  inflating: KTH/data/videos/person13_walking_d2_uncomp.avi  \n",
      "  inflating: KTH/data/videos/person13_walking_d3_uncomp.avi  \n",
      "  inflating: KTH/data/videos/person13_walking_d4_uncomp.avi  \n",
      "  inflating: KTH/data/videos/person14_walking_d1_uncomp.avi  \n",
      "  inflating: KTH/data/videos/person14_walking_d2_uncomp.avi  \n",
      "  inflating: KTH/data/videos/person14_walking_d3_uncomp.avi  \n",
      "  inflating: KTH/data/videos/person14_walking_d4_uncomp.avi  \n",
      "  inflating: KTH/data/videos/person15_walking_d1_uncomp.avi  \n",
      "  inflating: KTH/data/videos/person15_walking_d2_uncomp.avi  \n",
      "  inflating: KTH/data/videos/person15_walking_d3_uncomp.avi  \n",
      "  inflating: KTH/data/videos/person15_walking_d4_uncomp.avi  \n",
      "  inflating: KTH/data/videos/person16_walking_d1_uncomp.avi  \n",
      "  inflating: KTH/data/videos/person16_walking_d2_uncomp.avi  \n",
      "  inflating: KTH/data/videos/person16_walking_d3_uncomp.avi  \n",
      "  inflating: KTH/data/videos/person16_walking_d4_uncomp.avi  \n",
      "  inflating: KTH/data/videos/person17_walking_d1_uncomp.avi  \n",
      "  inflating: KTH/data/videos/person17_walking_d2_uncomp.avi  \n",
      "  inflating: KTH/data/videos/person17_walking_d3_uncomp.avi  \n",
      "  inflating: KTH/data/videos/person17_walking_d4_uncomp.avi  \n",
      "  inflating: KTH/data/videos/person18_walking_d1_uncomp.avi  \n",
      "  inflating: KTH/data/videos/person18_walking_d2_uncomp.avi  \n",
      "  inflating: KTH/data/videos/person18_walking_d3_uncomp.avi  \n",
      "  inflating: KTH/data/videos/person18_walking_d4_uncomp.avi  \n",
      "  inflating: KTH/data/videos/person19_walking_d1_uncomp.avi  \n",
      "  inflating: KTH/data/videos/person19_walking_d2_uncomp.avi  \n",
      "  inflating: KTH/data/videos/person19_walking_d3_uncomp.avi  \n",
      "  inflating: KTH/data/videos/person19_walking_d4_uncomp.avi  \n",
      "  inflating: KTH/data/videos/person20_walking_d1_uncomp.avi  \n",
      "  inflating: KTH/data/videos/person20_walking_d2_uncomp.avi  \n",
      "  inflating: KTH/data/videos/person20_walking_d3_uncomp.avi  \n",
      "  inflating: KTH/data/videos/person20_walking_d4_uncomp.avi  \n",
      "  inflating: KTH/data/videos/person21_walking_d1_uncomp.avi  \n",
      "  inflating: KTH/data/videos/person21_walking_d2_uncomp.avi  \n",
      "  inflating: KTH/data/videos/person21_walking_d3_uncomp.avi  \n",
      "  inflating: KTH/data/videos/person21_walking_d4_uncomp.avi  \n",
      "  inflating: KTH/data/videos/person22_walking_d1_uncomp.avi  \n",
      "  inflating: KTH/data/videos/person22_walking_d2_uncomp.avi  \n",
      "  inflating: KTH/data/videos/person22_walking_d3_uncomp.avi  \n",
      "  inflating: KTH/data/videos/person22_walking_d4_uncomp.avi  \n",
      "  inflating: KTH/data/videos/person23_walking_d1_uncomp.avi  \n",
      "  inflating: KTH/data/videos/person23_walking_d2_uncomp.avi  \n",
      "  inflating: KTH/data/videos/person23_walking_d3_uncomp.avi  \n",
      "  inflating: KTH/data/videos/person23_walking_d4_uncomp.avi  \n",
      "  inflating: KTH/data/videos/person24_walking_d1_uncomp.avi  \n",
      "  inflating: KTH/data/videos/person24_walking_d2_uncomp.avi  \n",
      "  inflating: KTH/data/videos/person24_walking_d3_uncomp.avi  \n",
      "  inflating: KTH/data/videos/person24_walking_d4_uncomp.avi  \n",
      "  inflating: KTH/data/videos/person25_walking_d1_uncomp.avi  \n",
      "  inflating: KTH/data/videos/person25_walking_d2_uncomp.avi  \n",
      "  inflating: KTH/data/videos/person25_walking_d3_uncomp.avi  \n",
      "  inflating: KTH/data/videos/person25_walking_d4_uncomp.avi  \n",
      "--2023-05-23 13:23:28--  http://www.csc.kth.se/cvap/actions/00sequences.txt\n",
      "Resolving www.csc.kth.se (www.csc.kth.se)... 130.237.28.41, 2001:6b0:1:11c2::82ed:1c29\n",
      "Connecting to www.csc.kth.se (www.csc.kth.se)|130.237.28.41|:80... connected.\n",
      "HTTP request sent, awaiting response... 301 Moved Permanently\n",
      "Location: https://www.csc.kth.se/cvap/actions/00sequences.txt [following]\n",
      "--2023-05-23 13:23:30--  https://www.csc.kth.se/cvap/actions/00sequences.txt\n",
      "Connecting to www.csc.kth.se (www.csc.kth.se)|130.237.28.41|:443... connected.\n",
      "HTTP request sent, awaiting response... 200 OK\n",
      "Length: 38292 (37K) [text/plain]\n",
      "Saving to: ‘sequences_list.txt’\n",
      "\n",
      "sequences_list.txt  100%[===================>]  37.39K  55.4KB/s    in 0.7s    \n",
      "\n",
      "2023-05-23 13:23:32 (55.4 KB/s) - ‘sequences_list.txt’ saved [38292/38292]\n",
      "\n"
     ]
    },
    {
     "data": {
      "text/plain": []
     },
     "execution_count": 9,
     "metadata": {},
     "output_type": "execute_result"
    }
   ],
   "source": [
    "%%shell\n",
    "mkdir KTH\n",
    "mkdir KTH/data\n",
    "mkdir KTH/data/videos\n",
    "\n",
    "unzip /content/gdrive/MyDrive/KTH/videos/boxing.zip -d KTH/data/videos\n",
    "unzip /content/gdrive/MyDrive/KTH/videos/handclapping.zip -d KTH/data/videos\n",
    "unzip /content/gdrive/MyDrive/KTH/videos/handwaving.zip -d KTH/data/videos\n",
    "unzip /content/gdrive/MyDrive/KTH/videos/jogging.zip -d KTH/data/videos\n",
    "unzip /content/gdrive/MyDrive/KTH/videos/running.zip -d KTH/data/videos\n",
    "unzip /content/gdrive/MyDrive/KTH/videos/walking.zip -d KTH/data/videos\n",
    "\n",
    "wget -O sequences_list.txt http://www.csc.kth.se/cvap/actions/00sequences.txt\n"
   ]
  },
  {
   "cell_type": "markdown",
   "metadata": {
    "id": "SCy_POd3utVG"
   },
   "source": [
    "### directly download and unzip"
   ]
  },
  {
   "cell_type": "code",
   "execution_count": null,
   "metadata": {
    "colab": {
     "base_uri": "https://localhost:8080/",
     "height": 142
    },
    "id": "IFivaz3G6ByO",
    "outputId": "2dc1c0be-4cda-4b49-8ef3-09c3e86baace"
   },
   "outputs": [
    {
     "data": {
      "application/vnd.google.colaboratory.intrinsic+json": {
       "type": "string"
      },
      "text/plain": [
       "'\\n%%shell\\nmkdir KTH\\nmkdir KTH/data\\nmkdir KTH/data/videos\\n\\nwget -O KTH/data/videos/boxing.zip http://www.csc.kth.se/cvap/actions/boxing.zip\\nwget -O KTH/data/videos/handclapping.zip http://www.csc.kth.se/cvap/actions/handclapping.zip\\nwget -O KTH/data/videos/handwaving.zip http://www.csc.kth.se/cvap/actions/handwaving.zip\\nwget -O KTH/data/videos/jogging.zip http://www.csc.kth.se/cvap/actions/jogging.zip\\nwget -O KTH/data/videos/running.zip http://www.csc.kth.se/cvap/actions/running.zip\\nwget -O KTH/data/videos/walking.zip http://www.csc.kth.se/cvap/actions/walking.zip\\n\\nunzip KTH/data/videos/boxing.zip -d KTH/data/videos\\nunzip KTH/data/videos/handclapping.zip -d KTH/data/videos\\nunzip KTH/data/videos/handwaving.zip -d KTH/data/videos\\nunzip KTH/data/videos/jogging.zip -d KTH/data/videos\\nunzip KTH/data/videos/running.zip -d KTH/data/videos\\nunzip KTH/data/videos/walking.zip -d KTH/data/videos\\n\\nrm KTH/data/videos/*.zip\\n'"
      ]
     },
     "execution_count": 9,
     "metadata": {},
     "output_type": "execute_result"
    }
   ],
   "source": [
    "\"\"\"\n",
    "%%shell\n",
    "mkdir KTH\n",
    "mkdir KTH/data\n",
    "mkdir KTH/data/videos\n",
    "\n",
    "wget -O KTH/data/videos/boxing.zip http://www.csc.kth.se/cvap/actions/boxing.zip\n",
    "wget -O KTH/data/videos/handclapping.zip http://www.csc.kth.se/cvap/actions/handclapping.zip\n",
    "wget -O KTH/data/videos/handwaving.zip http://www.csc.kth.se/cvap/actions/handwaving.zip\n",
    "wget -O KTH/data/videos/jogging.zip http://www.csc.kth.se/cvap/actions/jogging.zip\n",
    "wget -O KTH/data/videos/running.zip http://www.csc.kth.se/cvap/actions/running.zip\n",
    "wget -O KTH/data/videos/walking.zip http://www.csc.kth.se/cvap/actions/walking.zip\n",
    "\n",
    "unzip KTH/data/videos/boxing.zip -d KTH/data/videos\n",
    "unzip KTH/data/videos/handclapping.zip -d KTH/data/videos\n",
    "unzip KTH/data/videos/handwaving.zip -d KTH/data/videos\n",
    "unzip KTH/data/videos/jogging.zip -d KTH/data/videos\n",
    "unzip KTH/data/videos/running.zip -d KTH/data/videos\n",
    "unzip KTH/data/videos/walking.zip -d KTH/data/videos\n",
    "\n",
    "rm KTH/data/videos/*.zip\n",
    "\"\"\""
   ]
  },
  {
   "cell_type": "code",
   "execution_count": 10,
   "metadata": {
    "colab": {
     "base_uri": "https://localhost:8080/"
    },
    "id": "0MjTvtynFw5z",
    "outputId": "4d843dcf-bc15-4cba-8ce3-253e7bf0da73"
   },
   "outputs": [
    {
     "name": "stdout",
     "output_type": "stream",
     "text": [
      "Completed till video :  50\n",
      "Completed till video :  100\n",
      "Completed till video :  150\n",
      "Completed till video :  200\n",
      "Completed till video :  250\n",
      "Completed till video :  300\n",
      "Completed till video :  350\n",
      "Completed till video :  400\n",
      "Completed till video :  450\n",
      "Completed till video :  500\n",
      "Completed till video :  550\n",
      "[MESSAGE]\tFrames extracted from all videos\n",
      "[ERROR]:  KTH/data/VALIDATION/person01_boxing_d4_frame_246_370\n",
      "Completed till video :  50\n",
      "Completed till video :  100\n",
      "Completed till video :  150\n",
      "Completed till video :  200\n",
      "Completed till video :  250\n",
      "-----------------------------------------------------------\n",
      "[ERROR MESSAGE]: \n",
      "limits :  ['*missing*']\n",
      "seq_path :  KTH/data/TRAIN/person13_handclapping_d2_frame_401_523\n",
      "-----------------------------------------------------------\n",
      "Completed till video :  300\n",
      "Completed till video :  350\n",
      "Completed till video :  400\n",
      "Completed till video :  450\n",
      "Completed till video :  500\n",
      "Completed till video :  550\n",
      "Completed till video :  600\n",
      "[ALERT]\t\tTotal error count is :  1\n",
      "[MESSAGE]\tData split into train, validation and test\n"
     ]
    }
   ],
   "source": [
    "extract_frames('KTH')"
   ]
  },
  {
   "cell_type": "markdown",
   "metadata": {
    "id": "v8QpO78W_QHl"
   },
   "source": [
    "### code for 3d cnn"
   ]
  },
  {
   "cell_type": "code",
   "execution_count": 11,
   "metadata": {
    "id": "KyVZDQT0YQlo"
   },
   "outputs": [],
   "source": [
    "import torch.nn as nn\n",
    "\n",
    "# definition of 3D cnn model\n",
    "class cnn3DModel(nn.Module):\n",
    "    \"\"\"\n",
    "    input_dims = (n_frames, n_channels, width, height)\n",
    "    \"\"\"\n",
    "    def __init__(self, input_dims, output_features):\n",
    "        super().__init__()\n",
    "\n",
    "        self.input_dims = input_dims\n",
    "        self.output_features = output_features\n",
    "\n",
    "        self.cnn = nn.Sequential(\n",
    "            nn.Conv3d(in_channels=3, out_channels=16, kernel_size = (5,5,5), stride=(1,1,1), padding = (1,2,2)),\n",
    "            nn.ReLU(),\n",
    "            nn.MaxPool3d((2,2,2), stride=(2,2,2)),\n",
    "            nn.Conv3d(in_channels=16, out_channels=32, kernel_size = (3,3,3), stride=(1,1,1), padding = (0,1,1)),\n",
    "            nn.ReLU(),\n",
    "            nn.MaxPool3d((2,2,2), stride=(2,2,2)),\n",
    "            nn.Conv3d(in_channels=32, out_channels=64, kernel_size = (3,3,3), stride=(1,1,1), padding = (0,1,1)),\n",
    "            nn.ReLU(),\n",
    "            nn.MaxPool3d((2,2,2), stride=(2,2,2)),\n",
    "            nn.Conv3d(in_channels=64, out_channels=128, kernel_size = (1,3,3), stride=(1,1,1), padding = (0,1,1)),\n",
    "            nn.ReLU(),\n",
    "            nn.MaxPool3d((2,2,2), stride=(2,2,2)),\n",
    "        )\n",
    "        n_out_features = int(128* (self.input_dims[2]/16) * (self.input_dims[3]/16))\n",
    "        \n",
    "        # classifier\n",
    "        self.classifier = nn.Sequential(\n",
    "          nn.Linear(in_features=n_out_features, out_features=128),\n",
    "          nn.ReLU(),\n",
    "          nn.Linear(in_features=128, out_features=self.output_features),\n",
    "          )\n",
    "        \n",
    "        return\n",
    "    \n",
    "    def forward(self, x):\n",
    "        b_size, n_frames, n_channels, n_rows, n_cols = x.shape\n",
    "        x_t = x.transpose(1,2) # transpose to be able to use conv3d and maxpool 3d correctly\n",
    "        out = self.cnn(x_t)\n",
    "        out = out.view(b_size, -1)\n",
    "        out = self.classifier(out)\n",
    "\n",
    "        return out\n",
    "    "
   ]
  },
  {
   "cell_type": "markdown",
   "metadata": {
    "id": "Za8k2e7V5kgR"
   },
   "source": [
    "## train models and test them"
   ]
  },
  {
   "cell_type": "code",
   "execution_count": 16,
   "metadata": {
    "colab": {
     "base_uri": "https://localhost:8080/"
    },
    "id": "yN7U0CPT78LG",
    "outputId": "2f9dc34c-f1d4-4271-f59e-158fbd18f966"
   },
   "outputs": [
    {
     "name": "stdout",
     "output_type": "stream",
     "text": [
      "Train samples: 4219\n",
      "Test samples: 2248\n"
     ]
    }
   ],
   "source": [
    "train_transforms = transforms.Compose([\n",
    "               transforms.RandomHorizontalFlip(p=0.5),\n",
    "               transforms.RandomRotation(degrees=5),\n",
    "               transforms.Resize((64, 64), antialias=True),\n",
    "               ])\n",
    "\n",
    "test_transforms = transforms.Compose([\n",
    "               transforms.Resize((64, 64), antialias=True),\n",
    "               ])\n",
    "\n",
    "n_frames = 30\n",
    "\n",
    "\n",
    "train_dataset = KTH_dataset('/content/KTH/data',  transforms = train_transforms, mode = 'TRAIN', instance_len = n_frames)\n",
    "val_dataset = KTH_dataset('/content/KTH/data',  transforms = train_transforms, mode = 'VALIDATION', instance_len = n_frames)\n",
    "\n",
    "train_dataset = torch.utils.data.ConcatDataset([train_dataset, val_dataset])  # use validation set to train too, as we do not use it here in another way\n",
    "\n",
    "test_dataset = KTH_dataset('/content/KTH/data',  transforms = test_transforms, mode = 'TEST', instance_len = n_frames)\n",
    "\n",
    "\n",
    "print(f\"Train samples: {len(train_dataset)}\")\n",
    "#print(f\"Validation samples: {len(val_dataset)}\")\n",
    "print(f\"Test samples: {len(test_dataset)}\")"
   ]
  },
  {
   "cell_type": "code",
   "execution_count": 23,
   "metadata": {
    "id": "EG8ps9fL9LaR"
   },
   "outputs": [],
   "source": [
    "BATCH_SIZE = 32\n",
    "SHUFFLE_TRAIN = True\n",
    "NUM_EPOCHS = 14\n",
    "LR = 3e-4\n",
    "EVAL_FREQ = 1\n",
    "SAVE_FREQ = 2\n",
    "\n",
    "train_loader = torch.utils.data.DataLoader(train_dataset, batch_size=BATCH_SIZE, shuffle=SHUFFLE_TRAIN, num_workers=2)\n",
    "val_loader = torch.utils.data.DataLoader(test_dataset, batch_size=BATCH_SIZE, shuffle=False, num_workers=2)"
   ]
  },
  {
   "cell_type": "markdown",
   "metadata": {
    "id": "4ZRqBeQ8-eMZ"
   },
   "source": [
    "## test our own implementation"
   ]
  },
  {
   "cell_type": "code",
   "execution_count": 24,
   "metadata": {
    "colab": {
     "base_uri": "https://localhost:8080/"
    },
    "id": "fOyAlxf--jCM",
    "outputId": "3c728028-0c5e-4d7a-ecc2-a7682812f06d"
   },
   "outputs": [
    {
     "data": {
      "text/plain": [
       "cnn3DModel(\n",
       "  (cnn): Sequential(\n",
       "    (0): Conv3d(3, 16, kernel_size=(5, 5, 5), stride=(1, 1, 1), padding=(1, 2, 2))\n",
       "    (1): ReLU()\n",
       "    (2): MaxPool3d(kernel_size=(2, 2, 2), stride=(2, 2, 2), padding=0, dilation=1, ceil_mode=False)\n",
       "    (3): Conv3d(16, 32, kernel_size=(3, 3, 3), stride=(1, 1, 1), padding=(0, 1, 1))\n",
       "    (4): ReLU()\n",
       "    (5): MaxPool3d(kernel_size=(2, 2, 2), stride=(2, 2, 2), padding=0, dilation=1, ceil_mode=False)\n",
       "    (6): Conv3d(32, 64, kernel_size=(3, 3, 3), stride=(1, 1, 1), padding=(0, 1, 1))\n",
       "    (7): ReLU()\n",
       "    (8): MaxPool3d(kernel_size=(2, 2, 2), stride=(2, 2, 2), padding=0, dilation=1, ceil_mode=False)\n",
       "    (9): Conv3d(64, 128, kernel_size=(1, 3, 3), stride=(1, 1, 1), padding=(0, 1, 1))\n",
       "    (10): ReLU()\n",
       "    (11): MaxPool3d(kernel_size=(2, 2, 2), stride=(2, 2, 2), padding=0, dilation=1, ceil_mode=False)\n",
       "  )\n",
       "  (classifier): Sequential(\n",
       "    (0): Linear(in_features=2048, out_features=128, bias=True)\n",
       "    (1): ReLU()\n",
       "    (2): Linear(in_features=128, out_features=6, bias=True)\n",
       "  )\n",
       ")"
      ]
     },
     "execution_count": 24,
     "metadata": {},
     "output_type": "execute_result"
    }
   ],
   "source": [
    "cnn_model = cnn3DModel(input_dims = (30,3,64,64), output_features = 6)\n",
    "cnn_model.to(device)"
   ]
  },
  {
   "cell_type": "code",
   "execution_count": 25,
   "metadata": {
    "colab": {
     "base_uri": "https://localhost:8080/"
    },
    "id": "Od910iAf_AB1",
    "outputId": "fd5ca538-d0c6-479f-a44e-e71933efb4e8"
   },
   "outputs": [
    {
     "name": "stdout",
     "output_type": "stream",
     "text": [
      "The model has 412134 parameters.\n"
     ]
    }
   ],
   "source": [
    "print(f\"The model has {model_params(cnn_model)} parameters.\")"
   ]
  },
  {
   "cell_type": "markdown",
   "metadata": {},
   "source": [
    "> This model has more trainable parameters compared to our convLSTM (here 412134 compared to 323606 for our cLSTM). This is 3/4 of the current model, but not a huge difference. (about same order of magnitude)"
   ]
  },
  {
   "cell_type": "code",
   "execution_count": 26,
   "metadata": {
    "id": "0bI4MWl8-goN"
   },
   "outputs": [],
   "source": [
    "# classification loss function\n",
    "criterion = nn.CrossEntropyLoss()\n",
    "\n",
    "# Observe that all parameters are being optimized\n",
    "optimizer0 = torch.optim.Adam(cnn_model.parameters(), lr=LR)\n",
    "\n",
    "# Decay LR by a factor of 0.1 every X epochs\n",
    "scheduler = torch.optim.lr_scheduler.StepLR(optimizer0, step_size=12, gamma=0.2)"
   ]
  },
  {
   "cell_type": "code",
   "execution_count": 27,
   "metadata": {
    "colab": {
     "base_uri": "https://localhost:8080/"
    },
    "id": "xcm370uD-_i3",
    "outputId": "dd9878c0-25d7-44cb-e835-1eb7eb510761"
   },
   "outputs": [
    {
     "name": "stdout",
     "output_type": "stream",
     "text": [
      "Epoch -1: valid_loss 1.80148 valid_acc 10.99 | lr 0.0003\n"
     ]
    },
    {
     "name": "stderr",
     "output_type": "stream",
     "text": [
      "100%|██████████| 132/132 [03:00<00:00,  1.37s/it]\n"
     ]
    },
    {
     "name": "stdout",
     "output_type": "stream",
     "text": [
      "Epoch 1: train_loss 1.64009 | valid_loss 1.28884 valid_acc 34.56| lr 0.0003\n"
     ]
    },
    {
     "name": "stderr",
     "output_type": "stream",
     "text": [
      "100%|██████████| 132/132 [03:00<00:00,  1.37s/it]\n"
     ]
    },
    {
     "name": "stdout",
     "output_type": "stream",
     "text": [
      "Epoch 2: train_loss 1.10320 | valid_loss 0.97610 valid_acc 50.53| lr 0.0003\n"
     ]
    },
    {
     "name": "stderr",
     "output_type": "stream",
     "text": [
      "100%|██████████| 132/132 [03:01<00:00,  1.37s/it]\n"
     ]
    },
    {
     "name": "stdout",
     "output_type": "stream",
     "text": [
      "Epoch 3: train_loss 0.87781 | valid_loss 0.89520 valid_acc 55.78| lr 0.0003\n"
     ]
    },
    {
     "name": "stderr",
     "output_type": "stream",
     "text": [
      "100%|██████████| 132/132 [03:01<00:00,  1.37s/it]\n"
     ]
    },
    {
     "name": "stdout",
     "output_type": "stream",
     "text": [
      "Epoch 4: train_loss 0.68186 | valid_loss 0.79620 valid_acc 62.54| lr 0.0003\n"
     ]
    },
    {
     "name": "stderr",
     "output_type": "stream",
     "text": [
      "100%|██████████| 132/132 [02:54<00:00,  1.32s/it]\n"
     ]
    },
    {
     "name": "stdout",
     "output_type": "stream",
     "text": [
      "Epoch 5: train_loss 0.52726 | valid_loss 0.71475 valid_acc 67.04| lr 0.0003\n"
     ]
    },
    {
     "name": "stderr",
     "output_type": "stream",
     "text": [
      "100%|██████████| 132/132 [02:56<00:00,  1.34s/it]\n"
     ]
    },
    {
     "name": "stdout",
     "output_type": "stream",
     "text": [
      "Epoch 6: train_loss 0.42629 | valid_loss 0.63130 valid_acc 74.60| lr 0.0003\n"
     ]
    },
    {
     "name": "stderr",
     "output_type": "stream",
     "text": [
      "100%|██████████| 132/132 [02:54<00:00,  1.32s/it]\n"
     ]
    },
    {
     "name": "stdout",
     "output_type": "stream",
     "text": [
      "Epoch 7: train_loss 0.38487 | valid_loss 0.63192 valid_acc 71.31| lr 0.0003\n"
     ]
    },
    {
     "name": "stderr",
     "output_type": "stream",
     "text": [
      "100%|██████████| 132/132 [02:55<00:00,  1.33s/it]\n"
     ]
    },
    {
     "name": "stdout",
     "output_type": "stream",
     "text": [
      "Epoch 8: train_loss 0.31103 | valid_loss 0.55047 valid_acc 77.62| lr 0.0003\n"
     ]
    },
    {
     "name": "stderr",
     "output_type": "stream",
     "text": [
      "100%|██████████| 132/132 [02:51<00:00,  1.30s/it]\n"
     ]
    },
    {
     "name": "stdout",
     "output_type": "stream",
     "text": [
      "Epoch 9: train_loss 0.28938 | valid_loss 0.49086 valid_acc 80.65| lr 0.0003\n"
     ]
    },
    {
     "name": "stderr",
     "output_type": "stream",
     "text": [
      "100%|██████████| 132/132 [02:58<00:00,  1.35s/it]\n"
     ]
    },
    {
     "name": "stdout",
     "output_type": "stream",
     "text": [
      "Epoch 10: train_loss 0.25385 | valid_loss 0.53292 valid_acc 79.09| lr 0.0003\n"
     ]
    },
    {
     "name": "stderr",
     "output_type": "stream",
     "text": [
      "100%|██████████| 132/132 [02:56<00:00,  1.34s/it]\n"
     ]
    },
    {
     "name": "stdout",
     "output_type": "stream",
     "text": [
      "Epoch 11: train_loss 0.21705 | valid_loss 0.54758 valid_acc 79.23| lr 0.0003\n"
     ]
    },
    {
     "name": "stderr",
     "output_type": "stream",
     "text": [
      "100%|██████████| 132/132 [02:52<00:00,  1.31s/it]\n"
     ]
    },
    {
     "name": "stdout",
     "output_type": "stream",
     "text": [
      "Epoch 12: train_loss 0.22797 | valid_loss 0.52029 valid_acc 79.76| lr 0.0003\n"
     ]
    },
    {
     "name": "stderr",
     "output_type": "stream",
     "text": [
      "100%|██████████| 132/132 [02:57<00:00,  1.34s/it]\n"
     ]
    },
    {
     "name": "stdout",
     "output_type": "stream",
     "text": [
      "Epoch 13: train_loss 0.15755 | valid_loss 0.48441 valid_acc 81.85| lr 5.9999999999999995e-05\n"
     ]
    },
    {
     "name": "stderr",
     "output_type": "stream",
     "text": [
      "100%|██████████| 132/132 [02:58<00:00,  1.35s/it]\n"
     ]
    },
    {
     "name": "stdout",
     "output_type": "stream",
     "text": [
      "Epoch 14: train_loss 0.13967 | valid_loss 0.49320 valid_acc 82.25| lr 5.9999999999999995e-05\n",
      "--- 3312.2805869579315 seconds ---\n"
     ]
    }
   ],
   "source": [
    "import time\n",
    "start_time = time.time()\n",
    "stats0, model0 = train(cnn_model, NUM_EPOCHS, train_loader, None, val_loader, optimizer0, criterion, EVAL_FREQ, SAVE_FREQ, '/content', device, scheduler, twriter = None, loadpath = None, stats = None)\n",
    "print(\"--- %s seconds ---\" % (time.time() - start_time))"
   ]
  },
  {
   "cell_type": "code",
   "execution_count": 28,
   "metadata": {
    "colab": {
     "base_uri": "https://localhost:8080/",
     "height": 485
    },
    "id": "Pt8eXDTaVEqV",
    "outputId": "e7958b39-62e6-4d9c-808f-433abab39f34"
   },
   "outputs": [
    {
     "data": {
      "image/png": "[encoded data removed]",
      "text/plain": [
       "<Figure size 1000x500 with 1 Axes>"
      ]
     },
     "metadata": {},
     "output_type": "display_data"
    }
   ],
   "source": [
    "import matplotlib.pyplot as plt\n",
    "\n",
    "plt.style.use('seaborn-v0_8')\n",
    "fig, ax = plt.subplots(1,1)\n",
    "fig.set_size_inches(10,5)\n",
    "\n",
    "smooth_loss = smooth(stats0[\"per_batch_loss\"], 31)\n",
    "ax.plot(stats0[\"per_batch_loss\"], c=\"blue\", label=\"Training Loss\", linewidth=3)#, alpha=0.5)\n",
    "ax.plot(smooth_loss, c=\"red\", label=\"Smoothed Loss\", linewidth=3)\n",
    "ax.legend(loc=\"best\")\n",
    "ax.set_xlabel(\"Iteration\")\n",
    "ax.set_ylabel(\"Cross Entropy Loss\")\n",
    "ax.set_title(\"Training Progress\")\n",
    "\n",
    "plt.show()"
   ]
  },
  {
   "cell_type": "code",
   "execution_count": 29,
   "metadata": {
    "colab": {
     "base_uri": "https://localhost:8080/",
     "height": 402
    },
    "id": "AiaEvrDYCQmZ",
    "outputId": "ee86e65d-15b9-4d1e-8528-99fbcf844064"
   },
   "outputs": [
    {
     "name": "stdout",
     "output_type": "stream",
     "text": [
      "Classification accuracy: 82.25%\n"
     ]
    },
    {
     "data": {
      "image/png": "[encoded data removed]",
      "text/plain": [
       "<Figure size 1500x500 with 2 Axes>"
      ]
     },
     "metadata": {},
     "output_type": "display_data"
    }
   ],
   "source": [
    "eval_plots(model0, val_loader, criterion, device, stats0)"
   ]
  },
  {
   "cell_type": "markdown",
   "metadata": {},
   "source": [
    "> The loss and accuracy curves for the 3dCNN look pretty similar to the curve of the convLSTM. However here the loss goes slightly lower and the accuracy goes slightly higher.\n",
    "\n",
    "> The accuracy here is higher with 82.25% compared to 77.09%. This might be, because of the higher number of parameters."
   ]
  },
  {
   "cell_type": "code",
   "execution_count": 30,
   "metadata": {
    "colab": {
     "base_uri": "https://localhost:8080/",
     "height": 366
    },
    "id": "IZGvJ7gCVHzB",
    "outputId": "92bf8b6a-61ed-4b8a-917f-1d254b46ed5f"
   },
   "outputs": [
    {
     "name": "stdout",
     "output_type": "stream",
     "text": [
      "0:boxing, 1:handclapping, 2:handwaving, 3:jogging, 4:running, 5:walking\n",
      "Test accuracy: 82.25%\n"
     ]
    },
    {
     "data": {
      "image/png": "[encoded data removed]",
      "text/plain": [
       "<Figure size 1800x500 with 4 Axes>"
      ]
     },
     "metadata": {},
     "output_type": "display_data"
    }
   ],
   "source": [
    "_, _, correct_labels, predicted_labels = eval_model_conf(model0, val_loader, criterion, device)\n",
    "\n",
    "import seaborn as sn\n",
    "import pandas as pd\n",
    "import matplotlib.pyplot as plt\n",
    "from sklearn.metrics import confusion_matrix\n",
    "\n",
    "# calculate absolute confusion matrix\n",
    "confusion_matr = confusion_matrix(correct_labels, predicted_labels)#, labels=[0,1,2,3,4,5,6,7,8,9])\n",
    "df_confusion = pd.DataFrame(confusion_matr, range(confusion_matr.shape[0]), range(confusion_matr.shape[0]))\n",
    "# calculate confusion matric normalized in rows\n",
    "confusion_matr_norm = confusion_matrix(correct_labels, predicted_labels, normalize = 'true') #, labels=[0,1,2,3,4,5,6,7,8,9]\n",
    "df_confusion_norm = pd.DataFrame(confusion_matr_norm, range(confusion_matr_norm.shape[0]), range(confusion_matr_norm.shape[0]))\n",
    "\n",
    "print('0:boxing, 1:handclapping, 2:handwaving, 3:jogging, 4:running, 5:walking')\n",
    "\n",
    "fig, ax = plt.subplots(1,2)\n",
    "fig.set_size_inches(18,5)\n",
    "\n",
    "ax[0].set_xlabel(\"Prediction\")\n",
    "ax[0].set_ylabel(\"True Label\")\n",
    "ax[0].set_title(\"Confusion Matrix\")\n",
    "sn.heatmap(df_confusion, annot=True, annot_kws={\"size\": 10}, fmt=\"d\", ax=ax[0]) \n",
    "\n",
    "\n",
    "ax[1].set_xlabel(\"Prediction\")\n",
    "ax[1].set_ylabel(\"True Label\")\n",
    "ax[1].set_title(\"normalized Confusion Matrix\")\n",
    "sn.heatmap(df_confusion_norm, annot=True, annot_kws={\"size\": 10}, fmt=\".3f\", ax=ax[1]) \n",
    "\n",
    "acc = 0\n",
    "for i in range(confusion_matr.shape[0]):\n",
    "  acc = acc + confusion_matr[i,i]\n",
    "acc = acc/confusion_matr.sum()*100\n",
    "print(f\"Test accuracy: {round(acc,2)}%\")"
   ]
  },
  {
   "cell_type": "markdown",
   "metadata": {},
   "source": [
    "The confusion matrix looks also similar to the confusion matrix of the convLSTM. But jogging is confused less with walking and clapping and waving is also confused less. Running and jogging is confused slightly more."
   ]
  }
 ],
 "metadata": {
  "accelerator": "GPU",
  "colab": {
   "gpuType": "T4",
   "provenance": []
  },
  "gpuClass": "standard",
  "kernelspec": {
   "display_name": "Python 3 (ipykernel)",
   "language": "python",
   "name": "python3"
  },
  "language_info": {
   "codemirror_mode": {
    "name": "ipython",
    "version": 3
   },
   "file_extension": ".py",
   "mimetype": "text/x-python",
   "name": "python",
   "nbconvert_exporter": "python",
   "pygments_lexer": "ipython3",
   "version": "3.10.9"
  }
 },
 "nbformat": 4,
 "nbformat_minor": 1
}

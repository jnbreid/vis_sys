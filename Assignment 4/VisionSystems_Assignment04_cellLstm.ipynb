{
 "cells": [
  {
   "cell_type": "code",
   "execution_count": 1,
   "metadata": {
    "colab": {
     "base_uri": "https://localhost:8080/"
    },
    "id": "k5JzfaWpPfvA",
    "outputId": "8f970fee-4811-4872-8dec-3cc6d523bc46"
   },
   "outputs": [
    {
     "name": "stdout",
     "output_type": "stream",
     "text": [
      "2.0.1+cu118\n"
     ]
    }
   ],
   "source": [
    "import numpy as np\n",
    "import torch\n",
    "print(torch.__version__)\n",
    "\n",
    "from tqdm import tqdm\n",
    "import matplotlib.pyplot as plt\n",
    "\n",
    "from torch.utils.tensorboard import SummaryWriter"
   ]
  },
  {
   "cell_type": "code",
   "execution_count": 2,
   "metadata": {
    "id": "dAyc7jJoEkPN"
   },
   "outputs": [],
   "source": [
    "from utils import eval_model, train, smooth, save_model, load_model, model_params, eval_plots, set_random_seed, eval_model_conf\n",
    "from dataset_utils import extract_frames"
   ]
  },
  {
   "cell_type": "code",
   "execution_count": null,
   "metadata": {
    "id": "4elqlUxcBRTl"
   },
   "outputs": [],
   "source": [
    "set_random_seed(420)"
   ]
  },
  {
   "cell_type": "code",
   "execution_count": 3,
   "metadata": {
    "id": "O_FolssxjAsG"
   },
   "outputs": [],
   "source": [
    "import torch.nn as nn\n",
    "import torchvision\n",
    "import torchvision.transforms as transforms\n",
    "import torchvision.datasets as datasets\n",
    "from torchvision import models\n",
    "\n",
    "import os\n",
    "import shutil"
   ]
  },
  {
   "cell_type": "code",
   "execution_count": 4,
   "metadata": {
    "colab": {
     "base_uri": "https://localhost:8080/"
    },
    "id": "goE8kSeVQUU3",
    "outputId": "2374ecee-6cc4-47dc-d3bc-1a949cf40e1f"
   },
   "outputs": [
    {
     "name": "stdout",
     "output_type": "stream",
     "text": [
      "cuda\n"
     ]
    }
   ],
   "source": [
    "# choose device to be used depending on availability\n",
    "device = torch.device(\"cuda\" if torch.cuda.is_available() else \"cpu\")\n",
    "print(device)"
   ]
  },
  {
   "cell_type": "markdown",
   "metadata": {
    "id": "XoNyz6Sk5-3X"
   },
   "source": [
    "### download dataset and unzip"
   ]
  },
  {
   "cell_type": "markdown",
   "metadata": {
    "id": "dYUID1T-um5J"
   },
   "source": [
    "use preloaded from google drive"
   ]
  },
  {
   "cell_type": "code",
   "execution_count": 5,
   "metadata": {
    "colab": {
     "base_uri": "https://localhost:8080/"
    },
    "id": "h0tqtdIKGxh2",
    "outputId": "ea4d42dd-ca2f-4010-f676-6d1a9b937366"
   },
   "outputs": [
    {
     "name": "stdout",
     "output_type": "stream",
     "text": [
      "Mounted at /content/gdrive\n"
     ]
    }
   ],
   "source": [
    "from google.colab import drive\n",
    "drive.mount('/content/gdrive')"
   ]
  },
  {
   "cell_type": "code",
   "execution_count": 6,
   "metadata": {
    "colab": {
     "base_uri": "https://localhost:8080/"
    },
    "id": "bh8DJKA4INgu",
    "outputId": "7e9a07a0-cf0c-4f47-9e8f-deb505a0ad3b"
   },
   "outputs": [
    {
     "name": "stdout",
     "output_type": "stream",
     "text": [
      "Archive:  /content/gdrive/MyDrive/KTH/videos/boxing.zip\n",
      "  inflating: KTH/data/videos/person01_boxing_d1_uncomp.avi  \n",
      "  inflating: KTH/data/videos/person01_boxing_d2_uncomp.avi  \n",
      "  inflating: KTH/data/videos/person01_boxing_d3_uncomp.avi  \n",
      "  inflating: KTH/data/videos/person01_boxing_d4_uncomp.avi  \n",
      "  inflating: KTH/data/videos/person02_boxing_d1_uncomp.avi  \n",
      "  inflating: KTH/data/videos/person02_boxing_d2_uncomp.avi  \n",
      "  inflating: KTH/data/videos/person02_boxing_d3_uncomp.avi  \n",
      "  inflating: KTH/data/videos/person02_boxing_d4_uncomp.avi  \n",
      "  inflating: KTH/data/videos/person03_boxing_d1_uncomp.avi  \n",
      "  inflating: KTH/data/videos/person03_boxing_d2_uncomp.avi  \n",
      "  inflating: KTH/data/videos/person03_boxing_d3_uncomp.avi  \n",
      "  inflating: KTH/data/videos/person03_boxing_d4_uncomp.avi  \n",
      "  inflating: KTH/data/videos/person04_boxing_d1_uncomp.avi  \n",
      "  inflating: KTH/data/videos/person04_boxing_d2_uncomp.avi  \n",
      "  inflating: KTH/data/videos/person04_boxing_d3_uncomp.avi  \n",
      "  inflating: KTH/data/videos/person04_boxing_d4_uncomp.avi  \n",
      "  inflating: KTH/data/videos/person05_boxing_d1_uncomp.avi  \n",
      "  inflating: KTH/data/videos/person05_boxing_d2_uncomp.avi  \n",
      "  inflating: KTH/data/videos/person05_boxing_d3_uncomp.avi  \n",
      "  inflating: KTH/data/videos/person05_boxing_d4_uncomp.avi  \n",
      "  inflating: KTH/data/videos/person06_boxing_d1_uncomp.avi  \n",
      "  inflating: KTH/data/videos/person06_boxing_d2_uncomp.avi  \n",
      "  inflating: KTH/data/videos/person06_boxing_d3_uncomp.avi  \n",
      "  inflating: KTH/data/videos/person06_boxing_d4_uncomp.avi  \n",
      "  inflating: KTH/data/videos/person07_boxing_d1_uncomp.avi  \n",
      "  inflating: KTH/data/videos/person07_boxing_d2_uncomp.avi  \n",
      "  inflating: KTH/data/videos/person07_boxing_d3_uncomp.avi  \n",
      "  inflating: KTH/data/videos/person07_boxing_d4_uncomp.avi  \n",
      "  inflating: KTH/data/videos/person08_boxing_d1_uncomp.avi  \n",
      "  inflating: KTH/data/videos/person08_boxing_d2_uncomp.avi  \n",
      "  inflating: KTH/data/videos/person08_boxing_d3_uncomp.avi  \n",
      "  inflating: KTH/data/videos/person08_boxing_d4_uncomp.avi  \n",
      "  inflating: KTH/data/videos/person09_boxing_d1_uncomp.avi  \n",
      "  inflating: KTH/data/videos/person09_boxing_d2_uncomp.avi  \n",
      "  inflating: KTH/data/videos/person09_boxing_d3_uncomp.avi  \n",
      "  inflating: KTH/data/videos/person09_boxing_d4_uncomp.avi  \n",
      "  inflating: KTH/data/videos/person10_boxing_d1_uncomp.avi  \n",
      "  inflating: KTH/data/videos/person10_boxing_d2_uncomp.avi  \n",
      "  inflating: KTH/data/videos/person10_boxing_d3_uncomp.avi  \n",
      "  inflating: KTH/data/videos/person10_boxing_d4_uncomp.avi  \n",
      "  inflating: KTH/data/videos/person11_boxing_d1_uncomp.avi  \n",
      "  inflating: KTH/data/videos/person11_boxing_d2_uncomp.avi  \n",
      "  inflating: KTH/data/videos/person11_boxing_d3_uncomp.avi  \n",
      "  inflating: KTH/data/videos/person11_boxing_d4_uncomp.avi  \n",
      "  inflating: KTH/data/videos/person12_boxing_d1_uncomp.avi  \n",
      "  inflating: KTH/data/videos/person12_boxing_d2_uncomp.avi  \n",
      "  inflating: KTH/data/videos/person12_boxing_d3_uncomp.avi  \n",
      "  inflating: KTH/data/videos/person12_boxing_d4_uncomp.avi  \n",
      "  inflating: KTH/data/videos/person13_boxing_d1_uncomp.avi  \n",
      "  inflating: KTH/data/videos/person13_boxing_d2_uncomp.avi  \n",
      "  inflating: KTH/data/videos/person13_boxing_d3_uncomp.avi  \n",
      "  inflating: KTH/data/videos/person13_boxing_d4_uncomp.avi  \n",
      "  inflating: KTH/data/videos/person14_boxing_d1_uncomp.avi  \n",
      "  inflating: KTH/data/videos/person14_boxing_d2_uncomp.avi  \n",
      "  inflating: KTH/data/videos/person14_boxing_d3_uncomp.avi  \n",
      "  inflating: KTH/data/videos/person14_boxing_d4_uncomp.avi  \n",
      "  inflating: KTH/data/videos/person15_boxing_d1_uncomp.avi  \n",
      "  inflating: KTH/data/videos/person15_boxing_d2_uncomp.avi  \n",
      "  inflating: KTH/data/videos/person15_boxing_d3_uncomp.avi  \n",
      "  inflating: KTH/data/videos/person15_boxing_d4_uncomp.avi  \n",
      "  inflating: KTH/data/videos/person16_boxing_d1_uncomp.avi  \n",
      "  inflating: KTH/data/videos/person16_boxing_d2_uncomp.avi  \n",
      "  inflating: KTH/data/videos/person16_boxing_d3_uncomp.avi  \n",
      "  inflating: KTH/data/videos/person16_boxing_d4_uncomp.avi  \n",
      "  inflating: KTH/data/videos/person17_boxing_d1_uncomp.avi  \n",
      "  inflating: KTH/data/videos/person17_boxing_d2_uncomp.avi  \n",
      "  inflating: KTH/data/videos/person17_boxing_d3_uncomp.avi  \n",
      "  inflating: KTH/data/videos/person17_boxing_d4_uncomp.avi  \n",
      "  inflating: KTH/data/videos/person18_boxing_d1_uncomp.avi  \n",
      "  inflating: KTH/data/videos/person18_boxing_d2_uncomp.avi  \n",
      "  inflating: KTH/data/videos/person18_boxing_d3_uncomp.avi  \n",
      "  inflating: KTH/data/videos/person18_boxing_d4_uncomp.avi  \n",
      "  inflating: KTH/data/videos/person19_boxing_d1_uncomp.avi  \n",
      "  inflating: KTH/data/videos/person19_boxing_d2_uncomp.avi  \n",
      "  inflating: KTH/data/videos/person19_boxing_d3_uncomp.avi  \n",
      "  inflating: KTH/data/videos/person19_boxing_d4_uncomp.avi  \n",
      "  inflating: KTH/data/videos/person20_boxing_d1_uncomp.avi  \n",
      "  inflating: KTH/data/videos/person20_boxing_d2_uncomp.avi  \n",
      "  inflating: KTH/data/videos/person20_boxing_d3_uncomp.avi  \n",
      "  inflating: KTH/data/videos/person20_boxing_d4_uncomp.avi  \n",
      "  inflating: KTH/data/videos/person21_boxing_d1_uncomp.avi  \n",
      "  inflating: KTH/data/videos/person21_boxing_d2_uncomp.avi  \n",
      "  inflating: KTH/data/videos/person21_boxing_d3_uncomp.avi  \n",
      "  inflating: KTH/data/videos/person21_boxing_d4_uncomp.avi  \n",
      "  inflating: KTH/data/videos/person22_boxing_d1_uncomp.avi  \n",
      "  inflating: KTH/data/videos/person22_boxing_d2_uncomp.avi  \n",
      "  inflating: KTH/data/videos/person22_boxing_d3_uncomp.avi  \n",
      "  inflating: KTH/data/videos/person22_boxing_d4_uncomp.avi  \n",
      "  inflating: KTH/data/videos/person23_boxing_d1_uncomp.avi  \n",
      "  inflating: KTH/data/videos/person23_boxing_d2_uncomp.avi  \n",
      "  inflating: KTH/data/videos/person23_boxing_d3_uncomp.avi  \n",
      "  inflating: KTH/data/videos/person23_boxing_d4_uncomp.avi  \n",
      "  inflating: KTH/data/videos/person24_boxing_d1_uncomp.avi  \n",
      "  inflating: KTH/data/videos/person24_boxing_d2_uncomp.avi  \n",
      "  inflating: KTH/data/videos/person24_boxing_d3_uncomp.avi  \n",
      "  inflating: KTH/data/videos/person24_boxing_d4_uncomp.avi  \n",
      "  inflating: KTH/data/videos/person25_boxing_d1_uncomp.avi  \n",
      "  inflating: KTH/data/videos/person25_boxing_d2_uncomp.avi  \n",
      "  inflating: KTH/data/videos/person25_boxing_d3_uncomp.avi  \n",
      "  inflating: KTH/data/videos/person25_boxing_d4_uncomp.avi  \n",
      "Archive:  /content/gdrive/MyDrive/KTH/videos/handclapping.zip\n",
      "  inflating: KTH/data/videos/person01_handclapping_d1_uncomp.avi  \n",
      "  inflating: KTH/data/videos/person01_handclapping_d2_uncomp.avi  \n",
      "  inflating: KTH/data/videos/person01_handclapping_d3_uncomp.avi  \n",
      "  inflating: KTH/data/videos/person01_handclapping_d4_uncomp.avi  \n",
      "  inflating: KTH/data/videos/person02_handclapping_d1_uncomp.avi  \n",
      "  inflating: KTH/data/videos/person02_handclapping_d2_uncomp.avi  \n",
      "  inflating: KTH/data/videos/person02_handclapping_d3_uncomp.avi  \n",
      "  inflating: KTH/data/videos/person02_handclapping_d4_uncomp.avi  \n",
      "  inflating: KTH/data/videos/person03_handclapping_d1_uncomp.avi  \n",
      "  inflating: KTH/data/videos/person03_handclapping_d2_uncomp.avi  \n",
      "  inflating: KTH/data/videos/person03_handclapping_d3_uncomp.avi  \n",
      "  inflating: KTH/data/videos/person03_handclapping_d4_uncomp.avi  \n",
      "  inflating: KTH/data/videos/person04_handclapping_d1_uncomp.avi  \n",
      "  inflating: KTH/data/videos/person04_handclapping_d2_uncomp.avi  \n",
      "  inflating: KTH/data/videos/person04_handclapping_d3_uncomp.avi  \n",
      "  inflating: KTH/data/videos/person04_handclapping_d4_uncomp.avi  \n",
      "  inflating: KTH/data/videos/person05_handclapping_d1_uncomp.avi  \n",
      "  inflating: KTH/data/videos/person05_handclapping_d2_uncomp.avi  \n",
      "  inflating: KTH/data/videos/person05_handclapping_d3_uncomp.avi  \n",
      "  inflating: KTH/data/videos/person05_handclapping_d4_uncomp.avi  \n",
      "  inflating: KTH/data/videos/person06_handclapping_d1_uncomp.avi  \n",
      "  inflating: KTH/data/videos/person06_handclapping_d2_uncomp.avi  \n",
      "  inflating: KTH/data/videos/person06_handclapping_d3_uncomp.avi  \n",
      "  inflating: KTH/data/videos/person06_handclapping_d4_uncomp.avi  \n",
      "  inflating: KTH/data/videos/person07_handclapping_d1_uncomp.avi  \n",
      "  inflating: KTH/data/videos/person07_handclapping_d2_uncomp.avi  \n",
      "  inflating: KTH/data/videos/person07_handclapping_d3_uncomp.avi  \n",
      "  inflating: KTH/data/videos/person07_handclapping_d4_uncomp.avi  \n",
      "  inflating: KTH/data/videos/person08_handclapping_d1_uncomp.avi  \n",
      "  inflating: KTH/data/videos/person08_handclapping_d2_uncomp.avi  \n",
      "  inflating: KTH/data/videos/person08_handclapping_d3_uncomp.avi  \n",
      "  inflating: KTH/data/videos/person08_handclapping_d4_uncomp.avi  \n",
      "  inflating: KTH/data/videos/person09_handclapping_d1_uncomp.avi  \n",
      "  inflating: KTH/data/videos/person09_handclapping_d2_uncomp.avi  \n",
      "  inflating: KTH/data/videos/person09_handclapping_d3_uncomp.avi  \n",
      "  inflating: KTH/data/videos/person09_handclapping_d4_uncomp.avi  \n",
      "  inflating: KTH/data/videos/person10_handclapping_d1_uncomp.avi  \n",
      "  inflating: KTH/data/videos/person10_handclapping_d2_uncomp.avi  \n",
      "  inflating: KTH/data/videos/person10_handclapping_d3_uncomp.avi  \n",
      "  inflating: KTH/data/videos/person10_handclapping_d4_uncomp.avi  \n",
      "  inflating: KTH/data/videos/person11_handclapping_d1_uncomp.avi  \n",
      "  inflating: KTH/data/videos/person11_handclapping_d2_uncomp.avi  \n",
      "  inflating: KTH/data/videos/person11_handclapping_d3_uncomp.avi  \n",
      "  inflating: KTH/data/videos/person11_handclapping_d4_uncomp.avi  \n",
      "  inflating: KTH/data/videos/person12_handclapping_d1_uncomp.avi  \n",
      "  inflating: KTH/data/videos/person12_handclapping_d2_uncomp.avi  \n",
      "  inflating: KTH/data/videos/person12_handclapping_d3_uncomp.avi  \n",
      "  inflating: KTH/data/videos/person12_handclapping_d4_uncomp.avi  \n",
      "  inflating: KTH/data/videos/person13_handclapping_d1_uncomp.avi  \n",
      "  inflating: KTH/data/videos/person13_handclapping_d2_uncomp.avi  \n",
      "  inflating: KTH/data/videos/person13_handclapping_d4_uncomp.avi  \n",
      "  inflating: KTH/data/videos/person14_handclapping_d1_uncomp.avi  \n",
      "  inflating: KTH/data/videos/person14_handclapping_d2_uncomp.avi  \n",
      "  inflating: KTH/data/videos/person14_handclapping_d3_uncomp.avi  \n",
      "  inflating: KTH/data/videos/person14_handclapping_d4_uncomp.avi  \n",
      "  inflating: KTH/data/videos/person15_handclapping_d1_uncomp.avi  \n",
      "  inflating: KTH/data/videos/person15_handclapping_d2_uncomp.avi  \n",
      "  inflating: KTH/data/videos/person15_handclapping_d3_uncomp.avi  \n",
      "  inflating: KTH/data/videos/person15_handclapping_d4_uncomp.avi  \n",
      "  inflating: KTH/data/videos/person16_handclapping_d1_uncomp.avi  \n",
      "  inflating: KTH/data/videos/person16_handclapping_d2_uncomp.avi  \n",
      "  inflating: KTH/data/videos/person16_handclapping_d3_uncomp.avi  \n",
      "  inflating: KTH/data/videos/person16_handclapping_d4_uncomp.avi  \n",
      "  inflating: KTH/data/videos/person17_handclapping_d1_uncomp.avi  \n",
      "  inflating: KTH/data/videos/person17_handclapping_d2_uncomp.avi  \n",
      "  inflating: KTH/data/videos/person17_handclapping_d3_uncomp.avi  \n",
      "  inflating: KTH/data/videos/person17_handclapping_d4_uncomp.avi  \n",
      "  inflating: KTH/data/videos/person18_handclapping_d1_uncomp.avi  \n",
      "  inflating: KTH/data/videos/person18_handclapping_d2_uncomp.avi  \n",
      "  inflating: KTH/data/videos/person18_handclapping_d3_uncomp.avi  \n",
      "  inflating: KTH/data/videos/person18_handclapping_d4_uncomp.avi  \n",
      "  inflating: KTH/data/videos/person19_handclapping_d1_uncomp.avi  \n",
      "  inflating: KTH/data/videos/person19_handclapping_d2_uncomp.avi  \n",
      "  inflating: KTH/data/videos/person19_handclapping_d3_uncomp.avi  \n",
      "  inflating: KTH/data/videos/person19_handclapping_d4_uncomp.avi  \n",
      "  inflating: KTH/data/videos/person20_handclapping_d1_uncomp.avi  \n",
      "  inflating: KTH/data/videos/person20_handclapping_d2_uncomp.avi  \n",
      "  inflating: KTH/data/videos/person20_handclapping_d3_uncomp.avi  \n",
      "  inflating: KTH/data/videos/person20_handclapping_d4_uncomp.avi  \n",
      "  inflating: KTH/data/videos/person21_handclapping_d1_uncomp.avi  \n",
      "  inflating: KTH/data/videos/person21_handclapping_d2_uncomp.avi  \n",
      "  inflating: KTH/data/videos/person21_handclapping_d3_uncomp.avi  \n",
      "  inflating: KTH/data/videos/person21_handclapping_d4_uncomp.avi  \n",
      "  inflating: KTH/data/videos/person22_handclapping_d1_uncomp.avi  \n",
      "  inflating: KTH/data/videos/person22_handclapping_d2_uncomp.avi  \n",
      "  inflating: KTH/data/videos/person22_handclapping_d3_uncomp.avi  \n",
      "  inflating: KTH/data/videos/person22_handclapping_d4_uncomp.avi  \n",
      "  inflating: KTH/data/videos/person23_handclapping_d1_uncomp.avi  \n",
      "  inflating: KTH/data/videos/person23_handclapping_d2_uncomp.avi  \n",
      "  inflating: KTH/data/videos/person23_handclapping_d3_uncomp.avi  \n",
      "  inflating: KTH/data/videos/person23_handclapping_d4_uncomp.avi  \n",
      "  inflating: KTH/data/videos/person24_handclapping_d1_uncomp.avi  \n",
      "  inflating: KTH/data/videos/person24_handclapping_d2_uncomp.avi  \n",
      "  inflating: KTH/data/videos/person24_handclapping_d3_uncomp.avi  \n",
      "  inflating: KTH/data/videos/person24_handclapping_d4_uncomp.avi  \n",
      "  inflating: KTH/data/videos/person25_handclapping_d1_uncomp.avi  \n",
      "  inflating: KTH/data/videos/person25_handclapping_d2_uncomp.avi  \n",
      "  inflating: KTH/data/videos/person25_handclapping_d3_uncomp.avi  \n",
      "  inflating: KTH/data/videos/person25_handclapping_d4_uncomp.avi  \n",
      "Archive:  /content/gdrive/MyDrive/KTH/videos/handwaving.zip\n",
      "  inflating: KTH/data/videos/person01_handwaving_d1_uncomp.avi  \n",
      "  inflating: KTH/data/videos/person01_handwaving_d2_uncomp.avi  \n",
      "  inflating: KTH/data/videos/person01_handwaving_d3_uncomp.avi  \n",
      "  inflating: KTH/data/videos/person01_handwaving_d4_uncomp.avi  \n",
      "  inflating: KTH/data/videos/person02_handwaving_d1_uncomp.avi  \n",
      "  inflating: KTH/data/videos/person02_handwaving_d2_uncomp.avi  \n",
      "  inflating: KTH/data/videos/person02_handwaving_d3_uncomp.avi  \n",
      "  inflating: KTH/data/videos/person02_handwaving_d4_uncomp.avi  \n",
      "  inflating: KTH/data/videos/person03_handwaving_d1_uncomp.avi  \n",
      "  inflating: KTH/data/videos/person03_handwaving_d2_uncomp.avi  \n",
      "  inflating: KTH/data/videos/person03_handwaving_d3_uncomp.avi  \n",
      "  inflating: KTH/data/videos/person03_handwaving_d4_uncomp.avi  \n",
      "  inflating: KTH/data/videos/person04_handwaving_d1_uncomp.avi  \n",
      "  inflating: KTH/data/videos/person04_handwaving_d2_uncomp.avi  \n",
      "  inflating: KTH/data/videos/person04_handwaving_d3_uncomp.avi  \n",
      "  inflating: KTH/data/videos/person04_handwaving_d4_uncomp.avi  \n",
      "  inflating: KTH/data/videos/person05_handwaving_d1_uncomp.avi  \n",
      "  inflating: KTH/data/videos/person05_handwaving_d2_uncomp.avi  \n",
      "  inflating: KTH/data/videos/person05_handwaving_d3_uncomp.avi  \n",
      "  inflating: KTH/data/videos/person05_handwaving_d4_uncomp.avi  \n",
      "  inflating: KTH/data/videos/person06_handwaving_d1_uncomp.avi  \n",
      "  inflating: KTH/data/videos/person06_handwaving_d2_uncomp.avi  \n",
      "  inflating: KTH/data/videos/person06_handwaving_d3_uncomp.avi  \n",
      "  inflating: KTH/data/videos/person06_handwaving_d4_uncomp.avi  \n",
      "  inflating: KTH/data/videos/person07_handwaving_d1_uncomp.avi  \n",
      "  inflating: KTH/data/videos/person07_handwaving_d2_uncomp.avi  \n",
      "  inflating: KTH/data/videos/person07_handwaving_d3_uncomp.avi  \n",
      "  inflating: KTH/data/videos/person07_handwaving_d4_uncomp.avi  \n",
      "  inflating: KTH/data/videos/person08_handwaving_d1_uncomp.avi  \n",
      "  inflating: KTH/data/videos/person08_handwaving_d2_uncomp.avi  \n",
      "  inflating: KTH/data/videos/person08_handwaving_d3_uncomp.avi  \n",
      "  inflating: KTH/data/videos/person08_handwaving_d4_uncomp.avi  \n",
      "  inflating: KTH/data/videos/person09_handwaving_d1_uncomp.avi  \n",
      "  inflating: KTH/data/videos/person09_handwaving_d2_uncomp.avi  \n",
      "  inflating: KTH/data/videos/person09_handwaving_d3_uncomp.avi  \n",
      "  inflating: KTH/data/videos/person09_handwaving_d4_uncomp.avi  \n",
      "  inflating: KTH/data/videos/person10_handwaving_d1_uncomp.avi  \n",
      "  inflating: KTH/data/videos/person10_handwaving_d2_uncomp.avi  \n",
      "  inflating: KTH/data/videos/person10_handwaving_d3_uncomp.avi  \n",
      "  inflating: KTH/data/videos/person10_handwaving_d4_uncomp.avi  \n",
      "  inflating: KTH/data/videos/person11_handwaving_d1_uncomp.avi  \n",
      "  inflating: KTH/data/videos/person11_handwaving_d2_uncomp.avi  \n",
      "  inflating: KTH/data/videos/person11_handwaving_d3_uncomp.avi  \n",
      "  inflating: KTH/data/videos/person11_handwaving_d4_uncomp.avi  \n",
      "  inflating: KTH/data/videos/person12_handwaving_d1_uncomp.avi  \n",
      "  inflating: KTH/data/videos/person12_handwaving_d2_uncomp.avi  \n",
      "  inflating: KTH/data/videos/person12_handwaving_d3_uncomp.avi  \n",
      "  inflating: KTH/data/videos/person12_handwaving_d4_uncomp.avi  \n",
      "  inflating: KTH/data/videos/person13_handwaving_d1_uncomp.avi  \n",
      "  inflating: KTH/data/videos/person13_handwaving_d2_uncomp.avi  \n",
      "  inflating: KTH/data/videos/person13_handwaving_d3_uncomp.avi  \n",
      "  inflating: KTH/data/videos/person13_handwaving_d4_uncomp.avi  \n",
      "  inflating: KTH/data/videos/person14_handwaving_d1_uncomp.avi  \n",
      "  inflating: KTH/data/videos/person14_handwaving_d2_uncomp.avi  \n",
      "  inflating: KTH/data/videos/person14_handwaving_d3_uncomp.avi  \n",
      "  inflating: KTH/data/videos/person14_handwaving_d4_uncomp.avi  \n",
      "  inflating: KTH/data/videos/person15_handwaving_d1_uncomp.avi  \n",
      "  inflating: KTH/data/videos/person15_handwaving_d2_uncomp.avi  \n",
      "  inflating: KTH/data/videos/person15_handwaving_d3_uncomp.avi  \n",
      "  inflating: KTH/data/videos/person15_handwaving_d4_uncomp.avi  \n",
      "  inflating: KTH/data/videos/person16_handwaving_d1_uncomp.avi  \n",
      "  inflating: KTH/data/videos/person16_handwaving_d2_uncomp.avi  \n",
      "  inflating: KTH/data/videos/person16_handwaving_d3_uncomp.avi  \n",
      "  inflating: KTH/data/videos/person16_handwaving_d4_uncomp.avi  \n",
      "  inflating: KTH/data/videos/person17_handwaving_d1_uncomp.avi  \n",
      "  inflating: KTH/data/videos/person17_handwaving_d2_uncomp.avi  \n",
      "  inflating: KTH/data/videos/person17_handwaving_d3_uncomp.avi  \n",
      "  inflating: KTH/data/videos/person17_handwaving_d4_uncomp.avi  \n",
      "  inflating: KTH/data/videos/person18_handwaving_d1_uncomp.avi  \n",
      "  inflating: KTH/data/videos/person18_handwaving_d2_uncomp.avi  \n",
      "  inflating: KTH/data/videos/person18_handwaving_d3_uncomp.avi  \n",
      "  inflating: KTH/data/videos/person18_handwaving_d4_uncomp.avi  \n",
      "  inflating: KTH/data/videos/person19_handwaving_d1_uncomp.avi  \n",
      "  inflating: KTH/data/videos/person19_handwaving_d2_uncomp.avi  \n",
      "  inflating: KTH/data/videos/person19_handwaving_d3_uncomp.avi  \n",
      "  inflating: KTH/data/videos/person19_handwaving_d4_uncomp.avi  \n",
      "  inflating: KTH/data/videos/person20_handwaving_d1_uncomp.avi  \n",
      "  inflating: KTH/data/videos/person20_handwaving_d2_uncomp.avi  \n",
      "  inflating: KTH/data/videos/person20_handwaving_d3_uncomp.avi  \n",
      "  inflating: KTH/data/videos/person20_handwaving_d4_uncomp.avi  \n",
      "  inflating: KTH/data/videos/person21_handwaving_d1_uncomp.avi  \n",
      "  inflating: KTH/data/videos/person21_handwaving_d2_uncomp.avi  \n",
      "  inflating: KTH/data/videos/person21_handwaving_d3_uncomp.avi  \n",
      "  inflating: KTH/data/videos/person21_handwaving_d4_uncomp.avi  \n",
      "  inflating: KTH/data/videos/person22_handwaving_d1_uncomp.avi  \n",
      "  inflating: KTH/data/videos/person22_handwaving_d2_uncomp.avi  \n",
      "  inflating: KTH/data/videos/person22_handwaving_d3_uncomp.avi  \n",
      "  inflating: KTH/data/videos/person22_handwaving_d4_uncomp.avi  \n",
      "  inflating: KTH/data/videos/person23_handwaving_d1_uncomp.avi  \n",
      "  inflating: KTH/data/videos/person23_handwaving_d2_uncomp.avi  \n",
      "  inflating: KTH/data/videos/person23_handwaving_d3_uncomp.avi  \n",
      "  inflating: KTH/data/videos/person23_handwaving_d4_uncomp.avi  \n",
      "  inflating: KTH/data/videos/person24_handwaving_d1_uncomp.avi  \n",
      "  inflating: KTH/data/videos/person24_handwaving_d2_uncomp.avi  \n",
      "  inflating: KTH/data/videos/person24_handwaving_d3_uncomp.avi  \n",
      "  inflating: KTH/data/videos/person24_handwaving_d4_uncomp.avi  \n",
      "  inflating: KTH/data/videos/person25_handwaving_d1_uncomp.avi  \n",
      "  inflating: KTH/data/videos/person25_handwaving_d2_uncomp.avi  \n",
      "  inflating: KTH/data/videos/person25_handwaving_d3_uncomp.avi  \n",
      "  inflating: KTH/data/videos/person25_handwaving_d4_uncomp.avi  \n",
      "Archive:  /content/gdrive/MyDrive/KTH/videos/jogging.zip\n",
      "  inflating: KTH/data/videos/person01_jogging_d1_uncomp.avi  \n",
      "  inflating: KTH/data/videos/person01_jogging_d2_uncomp.avi  \n",
      "  inflating: KTH/data/videos/person01_jogging_d3_uncomp.avi  \n",
      "  inflating: KTH/data/videos/person01_jogging_d4_uncomp.avi  \n",
      "  inflating: KTH/data/videos/person02_jogging_d1_uncomp.avi  \n",
      "  inflating: KTH/data/videos/person02_jogging_d2_uncomp.avi  \n",
      "  inflating: KTH/data/videos/person02_jogging_d3_uncomp.avi  \n",
      "  inflating: KTH/data/videos/person02_jogging_d4_uncomp.avi  \n",
      "  inflating: KTH/data/videos/person03_jogging_d1_uncomp.avi  \n",
      "  inflating: KTH/data/videos/person03_jogging_d2_uncomp.avi  \n",
      "  inflating: KTH/data/videos/person03_jogging_d3_uncomp.avi  \n",
      "  inflating: KTH/data/videos/person03_jogging_d4_uncomp.avi  \n",
      "  inflating: KTH/data/videos/person04_jogging_d1_uncomp.avi  \n",
      "  inflating: KTH/data/videos/person04_jogging_d2_uncomp.avi  \n",
      "  inflating: KTH/data/videos/person04_jogging_d3_uncomp.avi  \n",
      "  inflating: KTH/data/videos/person04_jogging_d4_uncomp.avi  \n",
      "  inflating: KTH/data/videos/person05_jogging_d1_uncomp.avi  \n",
      "  inflating: KTH/data/videos/person05_jogging_d2_uncomp.avi  \n",
      "  inflating: KTH/data/videos/person05_jogging_d3_uncomp.avi  \n",
      "  inflating: KTH/data/videos/person05_jogging_d4_uncomp.avi  \n",
      "  inflating: KTH/data/videos/person06_jogging_d1_uncomp.avi  \n",
      "  inflating: KTH/data/videos/person06_jogging_d2_uncomp.avi  \n",
      "  inflating: KTH/data/videos/person06_jogging_d3_uncomp.avi  \n",
      "  inflating: KTH/data/videos/person06_jogging_d4_uncomp.avi  \n",
      "  inflating: KTH/data/videos/person07_jogging_d1_uncomp.avi  \n",
      "  inflating: KTH/data/videos/person07_jogging_d2_uncomp.avi  \n",
      "  inflating: KTH/data/videos/person07_jogging_d3_uncomp.avi  \n",
      "  inflating: KTH/data/videos/person07_jogging_d4_uncomp.avi  \n",
      "  inflating: KTH/data/videos/person08_jogging_d1_uncomp.avi  \n",
      "  inflating: KTH/data/videos/person08_jogging_d2_uncomp.avi  \n",
      "  inflating: KTH/data/videos/person08_jogging_d3_uncomp.avi  \n",
      "  inflating: KTH/data/videos/person08_jogging_d4_uncomp.avi  \n",
      "  inflating: KTH/data/videos/person09_jogging_d1_uncomp.avi  \n",
      "  inflating: KTH/data/videos/person09_jogging_d2_uncomp.avi  \n",
      "  inflating: KTH/data/videos/person09_jogging_d3_uncomp.avi  \n",
      "  inflating: KTH/data/videos/person09_jogging_d4_uncomp.avi  \n",
      "  inflating: KTH/data/videos/person10_jogging_d1_uncomp.avi  \n",
      "  inflating: KTH/data/videos/person10_jogging_d2_uncomp.avi  \n",
      "  inflating: KTH/data/videos/person10_jogging_d3_uncomp.avi  \n",
      "  inflating: KTH/data/videos/person10_jogging_d4_uncomp.avi  \n",
      "  inflating: KTH/data/videos/person11_jogging_d1_uncomp.avi  \n",
      "  inflating: KTH/data/videos/person11_jogging_d2_uncomp.avi  \n",
      "  inflating: KTH/data/videos/person11_jogging_d3_uncomp.avi  \n",
      "  inflating: KTH/data/videos/person11_jogging_d4_uncomp.avi  \n",
      "  inflating: KTH/data/videos/person12_jogging_d1_uncomp.avi  \n",
      "  inflating: KTH/data/videos/person12_jogging_d2_uncomp.avi  \n",
      "  inflating: KTH/data/videos/person12_jogging_d3_uncomp.avi  \n",
      "  inflating: KTH/data/videos/person12_jogging_d4_uncomp.avi  \n",
      "  inflating: KTH/data/videos/person13_jogging_d1_uncomp.avi  \n",
      "  inflating: KTH/data/videos/person13_jogging_d2_uncomp.avi  \n",
      "  inflating: KTH/data/videos/person13_jogging_d3_uncomp.avi  \n",
      "  inflating: KTH/data/videos/person13_jogging_d4_uncomp.avi  \n",
      "  inflating: KTH/data/videos/person14_jogging_d1_uncomp.avi  \n",
      "  inflating: KTH/data/videos/person14_jogging_d2_uncomp.avi  \n",
      "  inflating: KTH/data/videos/person14_jogging_d3_uncomp.avi  \n",
      "  inflating: KTH/data/videos/person14_jogging_d4_uncomp.avi  \n",
      "  inflating: KTH/data/videos/person15_jogging_d1_uncomp.avi  \n",
      "  inflating: KTH/data/videos/person15_jogging_d2_uncomp.avi  \n",
      "  inflating: KTH/data/videos/person15_jogging_d3_uncomp.avi  \n",
      "  inflating: KTH/data/videos/person15_jogging_d4_uncomp.avi  \n",
      "  inflating: KTH/data/videos/person16_jogging_d1_uncomp.avi  \n",
      "  inflating: KTH/data/videos/person16_jogging_d2_uncomp.avi  \n",
      "  inflating: KTH/data/videos/person16_jogging_d3_uncomp.avi  \n",
      "  inflating: KTH/data/videos/person16_jogging_d4_uncomp.avi  \n",
      "  inflating: KTH/data/videos/person17_jogging_d1_uncomp.avi  \n",
      "  inflating: KTH/data/videos/person17_jogging_d2_uncomp.avi  \n",
      "  inflating: KTH/data/videos/person17_jogging_d3_uncomp.avi  \n",
      "  inflating: KTH/data/videos/person17_jogging_d4_uncomp.avi  \n",
      "  inflating: KTH/data/videos/person18_jogging_d1_uncomp.avi  \n",
      "  inflating: KTH/data/videos/person18_jogging_d2_uncomp.avi  \n",
      "  inflating: KTH/data/videos/person18_jogging_d3_uncomp.avi  \n",
      "  inflating: KTH/data/videos/person18_jogging_d4_uncomp.avi  \n",
      "  inflating: KTH/data/videos/person19_jogging_d1_uncomp.avi  \n",
      "  inflating: KTH/data/videos/person19_jogging_d2_uncomp.avi  \n",
      "  inflating: KTH/data/videos/person19_jogging_d3_uncomp.avi  \n",
      "  inflating: KTH/data/videos/person19_jogging_d4_uncomp.avi  \n",
      "  inflating: KTH/data/videos/person20_jogging_d1_uncomp.avi  \n",
      "  inflating: KTH/data/videos/person20_jogging_d2_uncomp.avi  \n",
      "  inflating: KTH/data/videos/person20_jogging_d3_uncomp.avi  \n",
      "  inflating: KTH/data/videos/person20_jogging_d4_uncomp.avi  \n",
      "  inflating: KTH/data/videos/person21_jogging_d1_uncomp.avi  \n",
      "  inflating: KTH/data/videos/person21_jogging_d2_uncomp.avi  \n",
      "  inflating: KTH/data/videos/person21_jogging_d3_uncomp.avi  \n",
      "  inflating: KTH/data/videos/person21_jogging_d4_uncomp.avi  \n",
      "  inflating: KTH/data/videos/person22_jogging_d1_uncomp.avi  \n",
      "  inflating: KTH/data/videos/person22_jogging_d2_uncomp.avi  \n",
      "  inflating: KTH/data/videos/person22_jogging_d3_uncomp.avi  \n",
      "  inflating: KTH/data/videos/person22_jogging_d4_uncomp.avi  \n",
      "  inflating: KTH/data/videos/person23_jogging_d1_uncomp.avi  \n",
      "  inflating: KTH/data/videos/person23_jogging_d2_uncomp.avi  \n",
      "  inflating: KTH/data/videos/person23_jogging_d3_uncomp.avi  \n",
      "  inflating: KTH/data/videos/person23_jogging_d4_uncomp.avi  \n",
      "  inflating: KTH/data/videos/person24_jogging_d1_uncomp.avi  \n",
      "  inflating: KTH/data/videos/person24_jogging_d2_uncomp.avi  \n",
      "  inflating: KTH/data/videos/person24_jogging_d3_uncomp.avi  \n",
      "  inflating: KTH/data/videos/person24_jogging_d4_uncomp.avi  \n",
      "  inflating: KTH/data/videos/person25_jogging_d1_uncomp.avi  \n",
      "  inflating: KTH/data/videos/person25_jogging_d2_uncomp.avi  \n",
      "  inflating: KTH/data/videos/person25_jogging_d3_uncomp.avi  \n",
      "  inflating: KTH/data/videos/person25_jogging_d4_uncomp.avi  \n",
      "Archive:  /content/gdrive/MyDrive/KTH/videos/running.zip\n",
      "  inflating: KTH/data/videos/person01_running_d1_uncomp.avi  \n",
      "  inflating: KTH/data/videos/person01_running_d2_uncomp.avi  \n",
      "  inflating: KTH/data/videos/person01_running_d3_uncomp.avi  \n",
      "  inflating: KTH/data/videos/person01_running_d4_uncomp.avi  \n",
      "  inflating: KTH/data/videos/person02_running_d1_uncomp.avi  \n",
      "  inflating: KTH/data/videos/person02_running_d2_uncomp.avi  \n",
      "  inflating: KTH/data/videos/person02_running_d3_uncomp.avi  \n",
      "  inflating: KTH/data/videos/person02_running_d4_uncomp.avi  \n",
      "  inflating: KTH/data/videos/person03_running_d1_uncomp.avi  \n",
      "  inflating: KTH/data/videos/person03_running_d2_uncomp.avi  \n",
      "  inflating: KTH/data/videos/person03_running_d3_uncomp.avi  \n",
      "  inflating: KTH/data/videos/person03_running_d4_uncomp.avi  \n",
      "  inflating: KTH/data/videos/person04_running_d1_uncomp.avi  \n",
      "  inflating: KTH/data/videos/person04_running_d2_uncomp.avi  \n",
      "  inflating: KTH/data/videos/person04_running_d3_uncomp.avi  \n",
      "  inflating: KTH/data/videos/person04_running_d4_uncomp.avi  \n",
      "  inflating: KTH/data/videos/person05_running_d1_uncomp.avi  \n",
      "  inflating: KTH/data/videos/person05_running_d2_uncomp.avi  \n",
      "  inflating: KTH/data/videos/person05_running_d3_uncomp.avi  \n",
      "  inflating: KTH/data/videos/person05_running_d4_uncomp.avi  \n",
      "  inflating: KTH/data/videos/person06_running_d1_uncomp.avi  \n",
      "  inflating: KTH/data/videos/person06_running_d2_uncomp.avi  \n",
      "  inflating: KTH/data/videos/person06_running_d3_uncomp.avi  \n",
      "  inflating: KTH/data/videos/person06_running_d4_uncomp.avi  \n",
      "  inflating: KTH/data/videos/person07_running_d1_uncomp.avi  \n",
      "  inflating: KTH/data/videos/person07_running_d2_uncomp.avi  \n",
      "  inflating: KTH/data/videos/person07_running_d3_uncomp.avi  \n",
      "  inflating: KTH/data/videos/person07_running_d4_uncomp.avi  \n",
      "  inflating: KTH/data/videos/person08_running_d1_uncomp.avi  \n",
      "  inflating: KTH/data/videos/person08_running_d2_uncomp.avi  \n",
      "  inflating: KTH/data/videos/person08_running_d3_uncomp.avi  \n",
      "  inflating: KTH/data/videos/person08_running_d4_uncomp.avi  \n",
      "  inflating: KTH/data/videos/person09_running_d1_uncomp.avi  \n",
      "  inflating: KTH/data/videos/person09_running_d2_uncomp.avi  \n",
      "  inflating: KTH/data/videos/person09_running_d3_uncomp.avi  \n",
      "  inflating: KTH/data/videos/person09_running_d4_uncomp.avi  \n",
      "  inflating: KTH/data/videos/person10_running_d1_uncomp.avi  \n",
      "  inflating: KTH/data/videos/person10_running_d2_uncomp.avi  \n",
      "  inflating: KTH/data/videos/person10_running_d3_uncomp.avi  \n",
      "  inflating: KTH/data/videos/person10_running_d4_uncomp.avi  \n",
      "  inflating: KTH/data/videos/person11_running_d1_uncomp.avi  \n",
      "  inflating: KTH/data/videos/person11_running_d2_uncomp.avi  \n",
      "  inflating: KTH/data/videos/person11_running_d3_uncomp.avi  \n",
      "  inflating: KTH/data/videos/person11_running_d4_uncomp.avi  \n",
      "  inflating: KTH/data/videos/person12_running_d1_uncomp.avi  \n",
      "  inflating: KTH/data/videos/person12_running_d2_uncomp.avi  \n",
      "  inflating: KTH/data/videos/person12_running_d3_uncomp.avi  \n",
      "  inflating: KTH/data/videos/person12_running_d4_uncomp.avi  \n",
      "  inflating: KTH/data/videos/person13_running_d1_uncomp.avi  \n",
      "  inflating: KTH/data/videos/person13_running_d2_uncomp.avi  \n",
      "  inflating: KTH/data/videos/person13_running_d3_uncomp.avi  \n",
      "  inflating: KTH/data/videos/person13_running_d4_uncomp.avi  \n",
      "  inflating: KTH/data/videos/person14_running_d1_uncomp.avi  \n",
      "  inflating: KTH/data/videos/person14_running_d2_uncomp.avi  \n",
      "  inflating: KTH/data/videos/person14_running_d3_uncomp.avi  \n",
      "  inflating: KTH/data/videos/person14_running_d4_uncomp.avi  \n",
      "  inflating: KTH/data/videos/person15_running_d1_uncomp.avi  \n",
      "  inflating: KTH/data/videos/person15_running_d2_uncomp.avi  \n",
      "  inflating: KTH/data/videos/person15_running_d3_uncomp.avi  \n",
      "  inflating: KTH/data/videos/person15_running_d4_uncomp.avi  \n",
      "  inflating: KTH/data/videos/person16_running_d1_uncomp.avi  \n",
      "  inflating: KTH/data/videos/person16_running_d2_uncomp.avi  \n",
      "  inflating: KTH/data/videos/person16_running_d3_uncomp.avi  \n",
      "  inflating: KTH/data/videos/person16_running_d4_uncomp.avi  \n",
      "  inflating: KTH/data/videos/person17_running_d1_uncomp.avi  \n",
      "  inflating: KTH/data/videos/person17_running_d2_uncomp.avi  \n",
      "  inflating: KTH/data/videos/person17_running_d3_uncomp.avi  \n",
      "  inflating: KTH/data/videos/person17_running_d4_uncomp.avi  \n",
      "  inflating: KTH/data/videos/person18_running_d1_uncomp.avi  \n",
      "  inflating: KTH/data/videos/person18_running_d2_uncomp.avi  \n",
      "  inflating: KTH/data/videos/person18_running_d3_uncomp.avi  \n",
      "  inflating: KTH/data/videos/person18_running_d4_uncomp.avi  \n",
      "  inflating: KTH/data/videos/person19_running_d1_uncomp.avi  \n",
      "  inflating: KTH/data/videos/person19_running_d2_uncomp.avi  \n",
      "  inflating: KTH/data/videos/person19_running_d3_uncomp.avi  \n",
      "  inflating: KTH/data/videos/person19_running_d4_uncomp.avi  \n",
      "  inflating: KTH/data/videos/person20_running_d1_uncomp.avi  \n",
      "  inflating: KTH/data/videos/person20_running_d2_uncomp.avi  \n",
      "  inflating: KTH/data/videos/person20_running_d3_uncomp.avi  \n",
      "  inflating: KTH/data/videos/person20_running_d4_uncomp.avi  \n",
      "  inflating: KTH/data/videos/person21_running_d1_uncomp.avi  \n",
      "  inflating: KTH/data/videos/person21_running_d2_uncomp.avi  \n",
      "  inflating: KTH/data/videos/person21_running_d3_uncomp.avi  \n",
      "  inflating: KTH/data/videos/person21_running_d4_uncomp.avi  \n",
      "  inflating: KTH/data/videos/person22_running_d1_uncomp.avi  \n",
      "  inflating: KTH/data/videos/person22_running_d2_uncomp.avi  \n",
      "  inflating: KTH/data/videos/person22_running_d3_uncomp.avi  \n",
      "  inflating: KTH/data/videos/person22_running_d4_uncomp.avi  \n",
      "  inflating: KTH/data/videos/person23_running_d1_uncomp.avi  \n",
      "  inflating: KTH/data/videos/person23_running_d2_uncomp.avi  \n",
      "  inflating: KTH/data/videos/person23_running_d3_uncomp.avi  \n",
      "  inflating: KTH/data/videos/person23_running_d4_uncomp.avi  \n",
      "  inflating: KTH/data/videos/person24_running_d1_uncomp.avi  \n",
      "  inflating: KTH/data/videos/person24_running_d2_uncomp.avi  \n",
      "  inflating: KTH/data/videos/person24_running_d3_uncomp.avi  \n",
      "  inflating: KTH/data/videos/person24_running_d4_uncomp.avi  \n",
      "  inflating: KTH/data/videos/person25_running_d1_uncomp.avi  \n",
      "  inflating: KTH/data/videos/person25_running_d2_uncomp.avi  \n",
      "  inflating: KTH/data/videos/person25_running_d3_uncomp.avi  \n",
      "  inflating: KTH/data/videos/person25_running_d4_uncomp.avi  \n",
      "Archive:  /content/gdrive/MyDrive/KTH/videos/walking.zip\n",
      "  inflating: KTH/data/videos/person01_walking_d1_uncomp.avi  \n",
      "  inflating: KTH/data/videos/person01_walking_d2_uncomp.avi  \n",
      "  inflating: KTH/data/videos/person01_walking_d3_uncomp.avi  \n",
      "  inflating: KTH/data/videos/person01_walking_d4_uncomp.avi  \n",
      "  inflating: KTH/data/videos/person02_walking_d1_uncomp.avi  \n",
      "  inflating: KTH/data/videos/person02_walking_d2_uncomp.avi  \n",
      "  inflating: KTH/data/videos/person02_walking_d3_uncomp.avi  \n",
      "  inflating: KTH/data/videos/person02_walking_d4_uncomp.avi  \n",
      "  inflating: KTH/data/videos/person03_walking_d1_uncomp.avi  \n",
      "  inflating: KTH/data/videos/person03_walking_d2_uncomp.avi  \n",
      "  inflating: KTH/data/videos/person03_walking_d3_uncomp.avi  \n",
      "  inflating: KTH/data/videos/person03_walking_d4_uncomp.avi  \n",
      "  inflating: KTH/data/videos/person04_walking_d1_uncomp.avi  \n",
      "  inflating: KTH/data/videos/person04_walking_d2_uncomp.avi  \n",
      "  inflating: KTH/data/videos/person04_walking_d3_uncomp.avi  \n",
      "  inflating: KTH/data/videos/person04_walking_d4_uncomp.avi  \n",
      "  inflating: KTH/data/videos/person05_walking_d1_uncomp.avi  \n",
      "  inflating: KTH/data/videos/person05_walking_d2_uncomp.avi  \n",
      "  inflating: KTH/data/videos/person05_walking_d3_uncomp.avi  \n",
      "  inflating: KTH/data/videos/person05_walking_d4_uncomp.avi  \n",
      "  inflating: KTH/data/videos/person06_walking_d1_uncomp.avi  \n",
      "  inflating: KTH/data/videos/person06_walking_d2_uncomp.avi  \n",
      "  inflating: KTH/data/videos/person06_walking_d3_uncomp.avi  \n",
      "  inflating: KTH/data/videos/person06_walking_d4_uncomp.avi  \n",
      "  inflating: KTH/data/videos/person07_walking_d1_uncomp.avi  \n",
      "  inflating: KTH/data/videos/person07_walking_d2_uncomp.avi  \n",
      "  inflating: KTH/data/videos/person07_walking_d3_uncomp.avi  \n",
      "  inflating: KTH/data/videos/person07_walking_d4_uncomp.avi  \n",
      "  inflating: KTH/data/videos/person08_walking_d1_uncomp.avi  \n",
      "  inflating: KTH/data/videos/person08_walking_d2_uncomp.avi  \n",
      "  inflating: KTH/data/videos/person08_walking_d3_uncomp.avi  \n",
      "  inflating: KTH/data/videos/person08_walking_d4_uncomp.avi  \n",
      "  inflating: KTH/data/videos/person09_walking_d1_uncomp.avi  \n",
      "  inflating: KTH/data/videos/person09_walking_d2_uncomp.avi  \n",
      "  inflating: KTH/data/videos/person09_walking_d3_uncomp.avi  \n",
      "  inflating: KTH/data/videos/person09_walking_d4_uncomp.avi  \n",
      "  inflating: KTH/data/videos/person10_walking_d1_uncomp.avi  \n",
      "  inflating: KTH/data/videos/person10_walking_d2_uncomp.avi  \n",
      "  inflating: KTH/data/videos/person10_walking_d3_uncomp.avi  \n",
      "  inflating: KTH/data/videos/person10_walking_d4_uncomp.avi  \n",
      "  inflating: KTH/data/videos/person11_walking_d1_uncomp.avi  \n",
      "  inflating: KTH/data/videos/person11_walking_d2_uncomp.avi  \n",
      "  inflating: KTH/data/videos/person11_walking_d3_uncomp.avi  \n",
      "  inflating: KTH/data/videos/person11_walking_d4_uncomp.avi  \n",
      "  inflating: KTH/data/videos/person12_walking_d1_uncomp.avi  \n",
      "  inflating: KTH/data/videos/person12_walking_d2_uncomp.avi  \n",
      "  inflating: KTH/data/videos/person12_walking_d3_uncomp.avi  \n",
      "  inflating: KTH/data/videos/person12_walking_d4_uncomp.avi  \n",
      "  inflating: KTH/data/videos/person13_walking_d1_uncomp.avi  \n",
      "  inflating: KTH/data/videos/person13_walking_d2_uncomp.avi  \n",
      "  inflating: KTH/data/videos/person13_walking_d3_uncomp.avi  \n",
      "  inflating: KTH/data/videos/person13_walking_d4_uncomp.avi  \n",
      "  inflating: KTH/data/videos/person14_walking_d1_uncomp.avi  \n",
      "  inflating: KTH/data/videos/person14_walking_d2_uncomp.avi  \n",
      "  inflating: KTH/data/videos/person14_walking_d3_uncomp.avi  \n",
      "  inflating: KTH/data/videos/person14_walking_d4_uncomp.avi  \n",
      "  inflating: KTH/data/videos/person15_walking_d1_uncomp.avi  \n",
      "  inflating: KTH/data/videos/person15_walking_d2_uncomp.avi  \n",
      "  inflating: KTH/data/videos/person15_walking_d3_uncomp.avi  \n",
      "  inflating: KTH/data/videos/person15_walking_d4_uncomp.avi  \n",
      "  inflating: KTH/data/videos/person16_walking_d1_uncomp.avi  \n",
      "  inflating: KTH/data/videos/person16_walking_d2_uncomp.avi  \n",
      "  inflating: KTH/data/videos/person16_walking_d3_uncomp.avi  \n",
      "  inflating: KTH/data/videos/person16_walking_d4_uncomp.avi  \n",
      "  inflating: KTH/data/videos/person17_walking_d1_uncomp.avi  \n",
      "  inflating: KTH/data/videos/person17_walking_d2_uncomp.avi  \n",
      "  inflating: KTH/data/videos/person17_walking_d3_uncomp.avi  \n",
      "  inflating: KTH/data/videos/person17_walking_d4_uncomp.avi  \n",
      "  inflating: KTH/data/videos/person18_walking_d1_uncomp.avi  \n",
      "  inflating: KTH/data/videos/person18_walking_d2_uncomp.avi  \n",
      "  inflating: KTH/data/videos/person18_walking_d3_uncomp.avi  \n",
      "  inflating: KTH/data/videos/person18_walking_d4_uncomp.avi  \n",
      "  inflating: KTH/data/videos/person19_walking_d1_uncomp.avi  \n",
      "  inflating: KTH/data/videos/person19_walking_d2_uncomp.avi  \n",
      "  inflating: KTH/data/videos/person19_walking_d3_uncomp.avi  \n",
      "  inflating: KTH/data/videos/person19_walking_d4_uncomp.avi  \n",
      "  inflating: KTH/data/videos/person20_walking_d1_uncomp.avi  \n",
      "  inflating: KTH/data/videos/person20_walking_d2_uncomp.avi  \n",
      "  inflating: KTH/data/videos/person20_walking_d3_uncomp.avi  \n",
      "  inflating: KTH/data/videos/person20_walking_d4_uncomp.avi  \n",
      "  inflating: KTH/data/videos/person21_walking_d1_uncomp.avi  \n",
      "  inflating: KTH/data/videos/person21_walking_d2_uncomp.avi  \n",
      "  inflating: KTH/data/videos/person21_walking_d3_uncomp.avi  \n",
      "  inflating: KTH/data/videos/person21_walking_d4_uncomp.avi  \n",
      "  inflating: KTH/data/videos/person22_walking_d1_uncomp.avi  \n",
      "  inflating: KTH/data/videos/person22_walking_d2_uncomp.avi  \n",
      "  inflating: KTH/data/videos/person22_walking_d3_uncomp.avi  \n",
      "  inflating: KTH/data/videos/person22_walking_d4_uncomp.avi  \n",
      "  inflating: KTH/data/videos/person23_walking_d1_uncomp.avi  \n",
      "  inflating: KTH/data/videos/person23_walking_d2_uncomp.avi  \n",
      "  inflating: KTH/data/videos/person23_walking_d3_uncomp.avi  \n",
      "  inflating: KTH/data/videos/person23_walking_d4_uncomp.avi  \n",
      "  inflating: KTH/data/videos/person24_walking_d1_uncomp.avi  \n",
      "  inflating: KTH/data/videos/person24_walking_d2_uncomp.avi  \n",
      "  inflating: KTH/data/videos/person24_walking_d3_uncomp.avi  \n",
      "  inflating: KTH/data/videos/person24_walking_d4_uncomp.avi  \n",
      "  inflating: KTH/data/videos/person25_walking_d1_uncomp.avi  \n",
      "  inflating: KTH/data/videos/person25_walking_d2_uncomp.avi  \n",
      "  inflating: KTH/data/videos/person25_walking_d3_uncomp.avi  \n",
      "  inflating: KTH/data/videos/person25_walking_d4_uncomp.avi  \n",
      "--2023-05-23 23:03:11--  http://www.csc.kth.se/cvap/actions/00sequences.txt\n",
      "Resolving www.csc.kth.se (www.csc.kth.se)... 130.237.28.41, 2001:6b0:1:11c2::82ed:1c29\n",
      "Connecting to www.csc.kth.se (www.csc.kth.se)|130.237.28.41|:80... connected.\n",
      "HTTP request sent, awaiting response... 301 Moved Permanently\n",
      "Location: https://www.csc.kth.se/cvap/actions/00sequences.txt [following]\n",
      "--2023-05-23 23:03:11--  https://www.csc.kth.se/cvap/actions/00sequences.txt\n",
      "Connecting to www.csc.kth.se (www.csc.kth.se)|130.237.28.41|:443... connected.\n",
      "HTTP request sent, awaiting response... 200 OK\n",
      "Length: 38292 (37K) [text/plain]\n",
      "Saving to: ‘sequences_list.txt’\n",
      "\n",
      "sequences_list.txt  100%[===================>]  37.39K   151KB/s    in 0.2s    \n",
      "\n",
      "2023-05-23 23:03:12 (151 KB/s) - ‘sequences_list.txt’ saved [38292/38292]\n",
      "\n"
     ]
    },
    {
     "data": {
      "text/plain": []
     },
     "execution_count": 6,
     "metadata": {},
     "output_type": "execute_result"
    }
   ],
   "source": [
    "%%shell\n",
    "mkdir KTH\n",
    "mkdir KTH/data\n",
    "mkdir KTH/data/videos\n",
    "\n",
    "unzip /content/gdrive/MyDrive/KTH/videos/boxing.zip -d KTH/data/videos\n",
    "unzip /content/gdrive/MyDrive/KTH/videos/handclapping.zip -d KTH/data/videos\n",
    "unzip /content/gdrive/MyDrive/KTH/videos/handwaving.zip -d KTH/data/videos\n",
    "unzip /content/gdrive/MyDrive/KTH/videos/jogging.zip -d KTH/data/videos\n",
    "unzip /content/gdrive/MyDrive/KTH/videos/running.zip -d KTH/data/videos\n",
    "unzip /content/gdrive/MyDrive/KTH/videos/walking.zip -d KTH/data/videos\n",
    "\n",
    "wget -O sequences_list.txt http://www.csc.kth.se/cvap/actions/00sequences.txt\n"
   ]
  },
  {
   "cell_type": "markdown",
   "metadata": {
    "id": "SCy_POd3utVG"
   },
   "source": [
    "### directly download and unzip"
   ]
  },
  {
   "cell_type": "code",
   "execution_count": null,
   "metadata": {
    "colab": {
     "base_uri": "https://localhost:8080/",
     "height": 142
    },
    "id": "IFivaz3G6ByO",
    "outputId": "328a0289-2c9b-4321-a623-c8ddc0e63f02"
   },
   "outputs": [
    {
     "data": {
      "application/vnd.google.colaboratory.intrinsic+json": {
       "type": "string"
      },
      "text/plain": [
       "'\\n%%shell\\nmkdir KTH\\nmkdir KTH/data\\nmkdir KTH/data/videos\\n\\nwget -O KTH/data/videos/boxing.zip http://www.csc.kth.se/cvap/actions/boxing.zip\\nwget -O KTH/data/videos/handclapping.zip http://www.csc.kth.se/cvap/actions/handclapping.zip\\nwget -O KTH/data/videos/handwaving.zip http://www.csc.kth.se/cvap/actions/handwaving.zip\\nwget -O KTH/data/videos/jogging.zip http://www.csc.kth.se/cvap/actions/jogging.zip\\nwget -O KTH/data/videos/running.zip http://www.csc.kth.se/cvap/actions/running.zip\\nwget -O KTH/data/videos/walking.zip http://www.csc.kth.se/cvap/actions/walking.zip\\n\\nunzip KTH/data/videos/boxing.zip -d KTH/data/videos\\nunzip KTH/data/videos/handclapping.zip -d KTH/data/videos\\nunzip KTH/data/videos/handwaving.zip -d KTH/data/videos\\nunzip KTH/data/videos/jogging.zip -d KTH/data/videos\\nunzip KTH/data/videos/running.zip -d KTH/data/videos\\nunzip KTH/data/videos/walking.zip -d KTH/data/videos\\n\\nrm KTH/data/videos/*.zip\\n'"
      ]
     },
     "execution_count": 8,
     "metadata": {},
     "output_type": "execute_result"
    }
   ],
   "source": [
    "\"\"\"\n",
    "%%shell\n",
    "mkdir KTH\n",
    "mkdir KTH/data\n",
    "mkdir KTH/data/videos\n",
    "\n",
    "wget -O KTH/data/videos/boxing.zip http://www.csc.kth.se/cvap/actions/boxing.zip\n",
    "wget -O KTH/data/videos/handclapping.zip http://www.csc.kth.se/cvap/actions/handclapping.zip\n",
    "wget -O KTH/data/videos/handwaving.zip http://www.csc.kth.se/cvap/actions/handwaving.zip\n",
    "wget -O KTH/data/videos/jogging.zip http://www.csc.kth.se/cvap/actions/jogging.zip\n",
    "wget -O KTH/data/videos/running.zip http://www.csc.kth.se/cvap/actions/running.zip\n",
    "wget -O KTH/data/videos/walking.zip http://www.csc.kth.se/cvap/actions/walking.zip\n",
    "\n",
    "unzip KTH/data/videos/boxing.zip -d KTH/data/videos\n",
    "unzip KTH/data/videos/handclapping.zip -d KTH/data/videos\n",
    "unzip KTH/data/videos/handwaving.zip -d KTH/data/videos\n",
    "unzip KTH/data/videos/jogging.zip -d KTH/data/videos\n",
    "unzip KTH/data/videos/running.zip -d KTH/data/videos\n",
    "unzip KTH/data/videos/walking.zip -d KTH/data/videos\n",
    "\n",
    "rm KTH/data/videos/*.zip\n",
    "\"\"\""
   ]
  },
  {
   "cell_type": "code",
   "execution_count": 7,
   "metadata": {
    "colab": {
     "base_uri": "https://localhost:8080/"
    },
    "id": "0MjTvtynFw5z",
    "outputId": "6a073ac3-5db0-4eb7-f174-10619f29c712"
   },
   "outputs": [
    {
     "name": "stdout",
     "output_type": "stream",
     "text": [
      "Completed till video :  50\n",
      "Completed till video :  100\n",
      "Completed till video :  150\n",
      "Completed till video :  200\n",
      "Completed till video :  250\n",
      "Completed till video :  300\n",
      "Completed till video :  350\n",
      "Completed till video :  400\n",
      "Completed till video :  450\n",
      "Completed till video :  500\n",
      "Completed till video :  550\n",
      "[MESSAGE]\tFrames extracted from all videos\n",
      "[ERROR]:  KTH/data/VALIDATION/person01_boxing_d4_frame_246_370\n",
      "Completed till video :  50\n",
      "Completed till video :  100\n",
      "Completed till video :  150\n",
      "Completed till video :  200\n",
      "Completed till video :  250\n",
      "-----------------------------------------------------------\n",
      "[ERROR MESSAGE]: \n",
      "limits :  ['*missing*']\n",
      "seq_path :  KTH/data/TRAIN/person13_handclapping_d2_frame_401_523\n",
      "-----------------------------------------------------------\n",
      "Completed till video :  300\n",
      "Completed till video :  350\n",
      "Completed till video :  400\n",
      "Completed till video :  450\n",
      "Completed till video :  500\n",
      "Completed till video :  550\n",
      "Completed till video :  600\n",
      "[ALERT]\t\tTotal error count is :  1\n",
      "[MESSAGE]\tData split into train, validation and test\n"
     ]
    }
   ],
   "source": [
    "extract_frames('KTH')"
   ]
  },
  {
   "cell_type": "markdown",
   "metadata": {
    "id": "p1JT4T2Em6m3"
   },
   "source": [
    "### dataset class"
   ]
  },
  {
   "cell_type": "code",
   "execution_count": 8,
   "metadata": {
    "id": "KYX7lsnCnWrk"
   },
   "outputs": [],
   "source": [
    "import os\n",
    "import random\n",
    "from PIL import Image\n",
    "\n",
    "class KTH_dataset(torch.utils.data.Dataset):\n",
    "\n",
    "  def __init__(self, DATA_PATH,  transforms = None, mode = 'TRAIN', instance_len = 20):\n",
    "    self.instances = []\n",
    "    self.inst_class = []\n",
    "    self.path = DATA_PATH\n",
    "    self.mode = mode\n",
    "    self.transforms = transforms\n",
    "    self.instance_len = instance_len\n",
    "\n",
    "    self.mapping = {'boxing':0, 'handclapping':1, 'handwaving':2, 'jogging':3, 'running':4, 'walking':5}\n",
    "\n",
    "    all_vids = os.listdir(self.path + '/' + self.mode)\n",
    "\n",
    "    # find all directories for wanted dataset part, and load all file names in these directories\n",
    "    for vid in all_vids:\n",
    "      frames = os.listdir(self.path + '/' + self.mode + '/' + vid)\n",
    "      frames.sort() # sort to make sure that frames in correct order\n",
    "      current_instance = []\n",
    "\n",
    "      # split in parts of frames\n",
    "      for i in range(int(len(frames)/self.instance_len)):\n",
    "        current_instance = frames[i*self.instance_len: i*self.instance_len + self.instance_len]\n",
    "\n",
    "        current_instance = [(self.path + '/' + self.mode + '/' + vid + '/' + item) for item in current_instance]\n",
    "\n",
    "        self.instances.append(current_instance)\n",
    "\n",
    "        self.inst_class.append(int(self.mapping[vid.split('_')[1]]))\n",
    "\n",
    "\n",
    "  def __getitem__(self, x):\n",
    "    instance_img = self.instances[x]\n",
    "    label = torch.tensor(self.inst_class[x])\n",
    "\n",
    "    tens_list = []\n",
    "\n",
    "    # load image and transform to tensor to be able to apply other transforms directly\n",
    "    for inst in instance_img:\n",
    "      image = Image.open(inst).convert(\"RGB\")\n",
    "      inst_tensor = transforms.ToTensor()(image)\n",
    "      tens_list.append(inst_tensor)\n",
    "      \n",
    "    inst_tensor = torch.stack(tens_list, dim=0)\n",
    "\n",
    "    if self.transforms != None: # apply other transforms. is directly applied at once on all images/channels\n",
    "      inst_tensor = self.transforms(inst_tensor)\n",
    "\n",
    "    return inst_tensor, label\n",
    "\n",
    "  def __len__(self):\n",
    "    return len(self.instances)\n"
   ]
  },
  {
   "cell_type": "code",
   "execution_count": null,
   "metadata": {
    "id": "2up5exb3-4PI"
   },
   "outputs": [],
   "source": [
    "train_transforms = transforms.Compose([\n",
    "               transforms.RandomHorizontalFlip(p=0.5),\n",
    "               transforms.RandomRotation(degrees=5),\n",
    "               transforms.Resize((64, 64), antialias=True),\n",
    "               ])\n",
    "\n",
    "test_transforms = transforms.Compose([\n",
    "               transforms.Resize((64, 64), antialias=True),\n",
    "               ])\n",
    "\n",
    "n_frames = 30\n",
    "\n",
    "\n",
    "train_dataset = KTH_dataset('/content/KTH/data',  transforms = train_transforms, mode = 'TRAIN', instance_len = n_frames)\n",
    "val_dataset = KTH_dataset('/content/KTH/data',  transforms = train_transforms, mode = 'VALIDATION', instance_len = n_frames)\n",
    "\n",
    "# use validation set to train too, as we do not use it here in another way\n",
    "train_dataset = torch.utils.data.ConcatDataset([train_dataset, val_dataset])  \n",
    "\n",
    "test_dataset = KTH_dataset('/content/KTH/data',  transforms = test_transforms, mode = 'TEST', instance_len = n_frames)\n",
    "\n",
    "\n",
    "print(f\"Train samples: {len(train_dataset)}\")\n",
    "#print(f\"Validation samples: {len(val_dataset)}\")\n",
    "print(f\"Test samples: {len(test_dataset)}\")"
   ]
  },
  {
   "cell_type": "markdown",
   "metadata": {
    "id": "04uRJoLkVIcn"
   },
   "source": [
    "# model with lstm from pytorch"
   ]
  },
  {
   "cell_type": "code",
   "execution_count": 10,
   "metadata": {
    "id": "pIDk3IuSVOZq"
   },
   "outputs": [],
   "source": [
    "# model to use lstm implementation from pytorch (nearly the same as the model above, but uses nn.LSTM)\n",
    "class LSTMModel(nn.Module):\n",
    "    def __init__(self, input_dims, emb_dims, output_features, num_layers=1, kernel_size = 3, hidden_dim = 3328):\n",
    "        super().__init__()\n",
    "\n",
    "        self.input_dims = input_dims\n",
    "        self.emb_dims = emb_dims\n",
    "\n",
    "        self.output_features = output_features\n",
    "        self.num_layers = num_layers\n",
    "        self.kernel_size = kernel_size\n",
    "        \n",
    "\n",
    "        # embedding cnn\n",
    "        self.encoder = nn.Sequential(\n",
    "          nn.Conv3d(in_channels=self.input_dims[1], out_channels=16, kernel_size = (1,self.kernel_size,self.kernel_size), stride=(1,1,1), padding = (0,int(self.kernel_size/2),int(self.kernel_size/2))),\n",
    "          nn.ReLU(),\n",
    "          nn.MaxPool3d((1,2,2), stride=(1,2,2)),\n",
    "          nn.Dropout(p=0.5),\n",
    "          nn.Conv3d(in_channels=16, out_channels=self.emb_dims[0], kernel_size = (1,self.kernel_size,self.kernel_size), stride=(1,1,1), padding = (0,int(self.kernel_size/2),int(self.kernel_size/2))),\n",
    "          nn.ReLU(),\n",
    "          nn.MaxPool3d((1,2,2), stride=(1,2,2)),\n",
    "          nn.Dropout(p=0.5),\n",
    "          )\n",
    "        \n",
    "        emb_inp = emb_dims[0]*emb_dims[1]*emb_dims[2]\n",
    "\n",
    "        # LSTM layer\n",
    "\n",
    "        h = []\n",
    "        c = []\n",
    "        for i in range(num_layers):\n",
    "          h.append(nn.Parameter(\n",
    "                torch.randn(1,hidden_dim).requires_grad_())\n",
    "            )\n",
    "          c.append(nn.Parameter(\n",
    "                torch.randn(1,hidden_dim).requires_grad_())\n",
    "            )\n",
    "        self.h = nn.ParameterList(h)\n",
    "        self.c = nn.ParameterList(c)\n",
    "        \n",
    "        lstms = []\n",
    "        for i in range(num_layers):\n",
    "            in_size = emb_inp if i == 0 else hidden_dim\n",
    "            lstms.append( nn.LSTMCell(input_size=in_size, hidden_size=hidden_dim) )\n",
    "        self.lstm = nn.ModuleList(lstms)\n",
    "        \n",
    "        # classifier\n",
    "        self.classifier = nn.Sequential(\n",
    "          nn.Dropout(p=0.5),\n",
    "          nn.Linear(in_features=hidden_dim, out_features=64),\n",
    "          nn.ReLU(),\n",
    "          nn.Linear(in_features=64, out_features=self.output_features),\n",
    "          )\n",
    "        \n",
    "        return\n",
    "    \n",
    "    def forward(self, x):\n",
    "        b_size, n_frames, n_channels, n_rows, n_cols = x.shape\n",
    "\n",
    "        x_t = x.transpose(1,2) # transpose to be able to use conv3d and maxpool 3d correctly\n",
    "\n",
    "        out = self.encoder(x_t)\n",
    "\n",
    "        out = out.transpose(1,2)  # transpose for lstm layers\n",
    "        out = out.reshape(b_size, n_frames, -1)\n",
    "\n",
    "\n",
    "        for j in range(self.num_layers):\n",
    "          c_stacked = self.h[j].repeat(b_size,1) # vector which is batch size times c stacked\n",
    "          h_stacked = self.c[j].repeat(b_size,1)\n",
    "\n",
    "          h_l = [h_stacked]\n",
    "          c_l = [c_stacked]\n",
    "          for i in range(out.shape[1]):\n",
    "            input = out[:,i,:]\n",
    "            ht, ct = self.lstm[j](input, (h_l[-1], c_l[-1]))\n",
    "            h_l.append(ht)\n",
    "            c_l.append(ct)\n",
    "\n",
    "          out = torch.stack(h_l[1:len(h_l)])  # dont take init value for h in output\n",
    "          out = out.reshape((b_size, n_frames,-1))\n",
    "\n",
    "\n",
    "        out = self.classifier(out[:, -1, :])  # output of lstm layer\n",
    "\n",
    "        return out\n",
    "    "
   ]
  },
  {
   "cell_type": "code",
   "execution_count": 11,
   "metadata": {
    "colab": {
     "base_uri": "https://localhost:8080/"
    },
    "id": "SdS6wIjEhS_q",
    "outputId": "6025f051-0d0f-4314-9198-f95c1c0059ea"
   },
   "outputs": [
    {
     "data": {
      "text/plain": [
       "LSTMModel(\n",
       "  (encoder): Sequential(\n",
       "    (0): Conv3d(3, 16, kernel_size=(1, 5, 5), stride=(1, 1, 1), padding=(0, 2, 2))\n",
       "    (1): ReLU()\n",
       "    (2): MaxPool3d(kernel_size=(1, 2, 2), stride=(1, 2, 2), padding=0, dilation=1, ceil_mode=False)\n",
       "    (3): Dropout(p=0.5, inplace=False)\n",
       "    (4): Conv3d(16, 16, kernel_size=(1, 5, 5), stride=(1, 1, 1), padding=(0, 2, 2))\n",
       "    (5): ReLU()\n",
       "    (6): MaxPool3d(kernel_size=(1, 2, 2), stride=(1, 2, 2), padding=0, dilation=1, ceil_mode=False)\n",
       "    (7): Dropout(p=0.5, inplace=False)\n",
       "  )\n",
       "  (h): ParameterList(  (0): Parameter containing: [torch.float32 of size 1x3328 (GPU 0)])\n",
       "  (c): ParameterList(  (0): Parameter containing: [torch.float32 of size 1x3328 (GPU 0)])\n",
       "  (lstm): ModuleList(\n",
       "    (0): LSTMCell(4096, 3328)\n",
       "  )\n",
       "  (classifier): Sequential(\n",
       "    (0): Dropout(p=0.5, inplace=False)\n",
       "    (1): Linear(in_features=3328, out_features=64, bias=True)\n",
       "    (2): ReLU()\n",
       "    (3): Linear(in_features=64, out_features=6, bias=True)\n",
       "  )\n",
       ")"
      ]
     },
     "execution_count": 11,
     "metadata": {},
     "output_type": "execute_result"
    }
   ],
   "source": [
    "torch_lstm = LSTMModel(input_dims = (n_frames, 3,64,64), emb_dims = (16,16,16), output_features = 6, num_layers=1, kernel_size = 5, hidden_dim = 3328)\n",
    "torch_lstm.to(device)"
   ]
  },
  {
   "cell_type": "code",
   "execution_count": 12,
   "metadata": {
    "colab": {
     "base_uri": "https://localhost:8080/"
    },
    "id": "cSbgDMBlh5KI",
    "outputId": "9d1d259c-bd56-41a7-db35-20b908ad0c10"
   },
   "outputs": [
    {
     "name": "stdout",
     "output_type": "stream",
     "text": [
      "The model has 99082646 parameters.\n"
     ]
    }
   ],
   "source": [
    "print(f\"The model has {model_params(torch_lstm)} parameters.\")"
   ]
  },
  {
   "cell_type": "markdown",
   "metadata": {
    "id": "8HQwiyduQqnk"
   },
   "source": [
    "This model has much more parameters compared to our model. (323606 and 99082646). This is the case, as the input and output of the lstm and convlstm are similar, but the lstm uses dense layers instead of convolutions. "
   ]
  },
  {
   "cell_type": "code",
   "execution_count": 13,
   "metadata": {
    "id": "8F5Jf-CoFrTV"
   },
   "outputs": [],
   "source": [
    "BATCH_SIZE = 32\n",
    "SHUFFLE_TRAIN = True\n",
    "NUM_EPOCHS = 14\n",
    "LR = 6e-4\n",
    "EVAL_FREQ = 1\n",
    "SAVE_FREQ = 2\n",
    "\n",
    "\n",
    "train_loader = torch.utils.data.DataLoader(train_dataset, batch_size=BATCH_SIZE, shuffle=SHUFFLE_TRAIN, num_workers=2)\n",
    "val_loader = torch.utils.data.DataLoader(test_dataset, batch_size=BATCH_SIZE, shuffle=False, num_workers=2)"
   ]
  },
  {
   "cell_type": "code",
   "execution_count": 14,
   "metadata": {
    "id": "xrLPbLKNh7ug"
   },
   "outputs": [],
   "source": [
    "# classification loss function\n",
    "criterion = nn.CrossEntropyLoss()\n",
    "\n",
    "# Observe that all parameters are being optimized\n",
    "optimizer0 = torch.optim.Adam(torch_lstm.parameters(), lr=LR)\n",
    "\n",
    "# Decay LR by a factor of 0.1 every X epochs\n",
    "scheduler = torch.optim.lr_scheduler.StepLR(optimizer0, step_size=7, gamma=0.5)"
   ]
  },
  {
   "cell_type": "code",
   "execution_count": 15,
   "metadata": {
    "colab": {
     "base_uri": "https://localhost:8080/"
    },
    "id": "D2VgatRHiCOb",
    "outputId": "2b24ca0b-3c9b-46bb-b47b-7240dab43740"
   },
   "outputs": [
    {
     "name": "stdout",
     "output_type": "stream",
     "text": [
      "Epoch -1: valid_loss 1.81692 valid_acc 19.80 | lr 0.0006\n"
     ]
    },
    {
     "name": "stderr",
     "output_type": "stream",
     "text": [
      "100%|██████████| 132/132 [03:28<00:00,  1.58s/it]\n"
     ]
    },
    {
     "name": "stdout",
     "output_type": "stream",
     "text": [
      "Epoch 1: train_loss 1.74496 | valid_loss 1.73058 valid_acc 23.35| lr 0.0006\n"
     ]
    },
    {
     "name": "stderr",
     "output_type": "stream",
     "text": [
      "100%|██████████| 132/132 [03:22<00:00,  1.54s/it]\n"
     ]
    },
    {
     "name": "stdout",
     "output_type": "stream",
     "text": [
      "Epoch 2: train_loss 1.73286 | valid_loss 1.73300 valid_acc 23.53| lr 0.0006\n"
     ]
    },
    {
     "name": "stderr",
     "output_type": "stream",
     "text": [
      "100%|██████████| 132/132 [03:09<00:00,  1.44s/it]\n"
     ]
    },
    {
     "name": "stdout",
     "output_type": "stream",
     "text": [
      "Epoch 3: train_loss 1.73156 | valid_loss 1.72999 valid_acc 23.35| lr 0.0006\n"
     ]
    },
    {
     "name": "stderr",
     "output_type": "stream",
     "text": [
      "100%|██████████| 132/132 [03:21<00:00,  1.53s/it]\n"
     ]
    },
    {
     "name": "stdout",
     "output_type": "stream",
     "text": [
      "Epoch 4: train_loss 1.73118 | valid_loss 1.73415 valid_acc 19.53| lr 0.0006\n"
     ]
    },
    {
     "name": "stderr",
     "output_type": "stream",
     "text": [
      "100%|██████████| 132/132 [03:12<00:00,  1.46s/it]\n"
     ]
    },
    {
     "name": "stdout",
     "output_type": "stream",
     "text": [
      "Epoch 5: train_loss 1.73241 | valid_loss 1.73040 valid_acc 23.35| lr 0.0006\n"
     ]
    },
    {
     "name": "stderr",
     "output_type": "stream",
     "text": [
      "100%|██████████| 132/132 [03:11<00:00,  1.45s/it]\n"
     ]
    },
    {
     "name": "stdout",
     "output_type": "stream",
     "text": [
      "Epoch 6: train_loss 1.73021 | valid_loss 1.73257 valid_acc 23.35| lr 0.0006\n"
     ]
    },
    {
     "name": "stderr",
     "output_type": "stream",
     "text": [
      "100%|██████████| 132/132 [03:28<00:00,  1.58s/it]\n"
     ]
    },
    {
     "name": "stdout",
     "output_type": "stream",
     "text": [
      "Epoch 7: train_loss 1.73176 | valid_loss 1.73655 valid_acc 23.04| lr 0.0006\n"
     ]
    },
    {
     "name": "stderr",
     "output_type": "stream",
     "text": [
      "100%|██████████| 132/132 [03:14<00:00,  1.47s/it]\n"
     ]
    },
    {
     "name": "stdout",
     "output_type": "stream",
     "text": [
      "Epoch 8: train_loss 1.73004 | valid_loss 1.73053 valid_acc 23.35| lr 0.0003\n"
     ]
    },
    {
     "name": "stderr",
     "output_type": "stream",
     "text": [
      "100%|██████████| 132/132 [03:13<00:00,  1.46s/it]\n"
     ]
    },
    {
     "name": "stdout",
     "output_type": "stream",
     "text": [
      "Epoch 9: train_loss 1.72822 | valid_loss 1.73058 valid_acc 23.53| lr 0.0003\n"
     ]
    },
    {
     "name": "stderr",
     "output_type": "stream",
     "text": [
      "100%|██████████| 132/132 [03:15<00:00,  1.48s/it]\n"
     ]
    },
    {
     "name": "stdout",
     "output_type": "stream",
     "text": [
      "Epoch 10: train_loss 1.72726 | valid_loss 1.73012 valid_acc 23.53| lr 0.0003\n"
     ]
    },
    {
     "name": "stderr",
     "output_type": "stream",
     "text": [
      "100%|██████████| 132/132 [03:15<00:00,  1.48s/it]\n"
     ]
    },
    {
     "name": "stdout",
     "output_type": "stream",
     "text": [
      "Epoch 11: train_loss 1.72973 | valid_loss 1.73027 valid_acc 23.35| lr 0.0003\n"
     ]
    },
    {
     "name": "stderr",
     "output_type": "stream",
     "text": [
      "100%|██████████| 132/132 [03:14<00:00,  1.47s/it]\n"
     ]
    },
    {
     "name": "stdout",
     "output_type": "stream",
     "text": [
      "Epoch 12: train_loss 1.72837 | valid_loss 1.73009 valid_acc 23.35| lr 0.0003\n"
     ]
    },
    {
     "name": "stderr",
     "output_type": "stream",
     "text": [
      "100%|██████████| 132/132 [03:08<00:00,  1.43s/it]\n"
     ]
    },
    {
     "name": "stdout",
     "output_type": "stream",
     "text": [
      "Epoch 13: train_loss 1.72837 | valid_loss 1.73041 valid_acc 23.35| lr 0.0003\n"
     ]
    },
    {
     "name": "stderr",
     "output_type": "stream",
     "text": [
      "100%|██████████| 132/132 [03:05<00:00,  1.41s/it]\n"
     ]
    },
    {
     "name": "stdout",
     "output_type": "stream",
     "text": [
      "Epoch 14: train_loss 1.72881 | valid_loss 1.73008 valid_acc 23.35| lr 0.0003\n",
      "--- 3681.867115020752 seconds ---\n"
     ]
    }
   ],
   "source": [
    "import time\n",
    "start_time = time.time()\n",
    "stats0, model0 = train(torch_lstm, NUM_EPOCHS, train_loader, None, val_loader, optimizer0, criterion, EVAL_FREQ, SAVE_FREQ, '/content', device, scheduler, twriter = None, loadpath = None, stats = None)\n",
    "print(\"--- %s seconds ---\" % (time.time() - start_time))"
   ]
  },
  {
   "cell_type": "code",
   "execution_count": 16,
   "metadata": {
    "colab": {
     "base_uri": "https://localhost:8080/",
     "height": 478
    },
    "id": "6OjAIq1RiFKJ",
    "outputId": "c6a47951-162e-4e2f-ae74-5a5be3e4efa6"
   },
   "outputs": [
    {
     "data": {
      "image/png": "[encoded data removed]",
      "text/plain": [
       "<Figure size 1000x500 with 1 Axes>"
      ]
     },
     "metadata": {},
     "output_type": "display_data"
    }
   ],
   "source": [
    "import matplotlib.pyplot as plt\n",
    "\n",
    "plt.style.use('seaborn-v0_8')\n",
    "fig, ax = plt.subplots(1,1)\n",
    "fig.set_size_inches(10,5)\n",
    "\n",
    "smooth_loss = smooth(stats0[\"per_batch_loss\"], 31)\n",
    "ax.plot(stats0[\"per_batch_loss\"], c=\"blue\", label=\"Training Loss\", linewidth=3)#, alpha=0.5)\n",
    "ax.plot(smooth_loss, c=\"red\", label=\"Smoothed Loss\", linewidth=3)\n",
    "ax.legend(loc=\"best\")\n",
    "ax.set_xlabel(\"Iteration\")\n",
    "ax.set_ylabel(\"Cross Entropy Loss\")\n",
    "ax.set_title(\"Training Progress\")\n",
    "\n",
    "plt.show()"
   ]
  },
  {
   "cell_type": "code",
   "execution_count": 17,
   "metadata": {
    "colab": {
     "base_uri": "https://localhost:8080/",
     "height": 349
    },
    "id": "oDyD459jiGXS",
    "outputId": "842c67f0-7d6d-44d7-cc02-386dc726547c"
   },
   "outputs": [
    {
     "name": "stdout",
     "output_type": "stream",
     "text": [
      "Classification accuracy: 23.35%\n"
     ]
    },
    {
     "data": {
      "image/png": "[encoded data removed]",
      "text/plain": [
       "<Figure size 1500x500 with 2 Axes>"
      ]
     },
     "metadata": {},
     "output_type": "display_data"
    }
   ],
   "source": [
    "eval_plots(model0, val_loader, criterion, device, stats0)"
   ]
  },
  {
   "cell_type": "code",
   "execution_count": 18,
   "metadata": {
    "colab": {
     "base_uri": "https://localhost:8080/",
     "height": 339
    },
    "id": "zVMedpIniIQ6",
    "outputId": "ce25b5dd-4240-41c2-a8f9-ca0c78ddeaa0"
   },
   "outputs": [
    {
     "name": "stdout",
     "output_type": "stream",
     "text": [
      "0:boxing, 1:handclapping, 2:handwaving, 3:jogging, 4:running, 5:walking\n",
      "Test accuracy: 23.35%\n",
      "F1 Score: 0.23%\n"
     ]
    },
    {
     "data": {
      "image/png": "[encoded data removed]",
      "text/plain": [
       "<Figure size 1800x500 with 4 Axes>"
      ]
     },
     "metadata": {},
     "output_type": "display_data"
    }
   ],
   "source": [
    "_, _, correct_labels, predicted_labels = eval_model_conf(model0, val_loader, criterion, device)\n",
    "\n",
    "import seaborn as sn\n",
    "import pandas as pd\n",
    "import matplotlib.pyplot as plt\n",
    "from sklearn.metrics import confusion_matrix, f1_score\n",
    "\n",
    "# calculate absolute confusion matrix\n",
    "confusion_matr = confusion_matrix(correct_labels, predicted_labels)#, labels=[0,1,2,3,4,5,6,7,8,9])\n",
    "df_confusion = pd.DataFrame(confusion_matr, range(confusion_matr.shape[0]), range(confusion_matr.shape[0]))\n",
    "# calculate confusion matric normalized in rows\n",
    "confusion_matr_norm = confusion_matrix(correct_labels, predicted_labels, normalize = 'true') #, labels=[0,1,2,3,4,5,6,7,8,9]\n",
    "df_confusion_norm = pd.DataFrame(confusion_matr_norm, range(confusion_matr_norm.shape[0]), range(confusion_matr_norm.shape[0]))\n",
    "\n",
    "print('0:boxing, 1:handclapping, 2:handwaving, 3:jogging, 4:running, 5:walking')\n",
    "\n",
    "fig, ax = plt.subplots(1,2)\n",
    "fig.set_size_inches(18,5)\n",
    "\n",
    "ax[0].set_xlabel(\"Prediction\")\n",
    "ax[0].set_ylabel(\"True Label\")\n",
    "ax[0].set_title(\"Confusion Matrix\")\n",
    "sn.heatmap(df_confusion, annot=True, annot_kws={\"size\": 10}, fmt=\"d\", ax=ax[0]) \n",
    "\n",
    "\n",
    "ax[1].set_xlabel(\"Prediction\")\n",
    "ax[1].set_ylabel(\"True Label\")\n",
    "ax[1].set_title(\"normalized Confusion Matrix\")\n",
    "sn.heatmap(df_confusion_norm, annot=True, annot_kws={\"size\": 10}, fmt=\".3f\", ax=ax[1]) \n",
    "\n",
    "acc = 0\n",
    "for i in range(confusion_matr.shape[0]):\n",
    "  acc = acc + confusion_matr[i,i]\n",
    "acc = acc/confusion_matr.sum()*100\n",
    "print(f\"Test accuracy: {round(acc,2)}%\")\n",
    "\n",
    "print(f\"F1 Score: {round(f1_score(correct_labels, predicted_labels, average ='micro'),2)}%\")"
   ]
  },
  {
   "cell_type": "markdown",
   "metadata": {
    "id": "6yr9tnW1gf_d"
   },
   "source": [
    ">The F1 score mirrors the resulting accuracy.\n",
    "\n",
    "> The confusion matrix also looks similar to our convLSTM, with confusion between gestures using the arms and running, jogging, and walking. However here these gestures are confused much more often."
   ]
  }
 ],
 "metadata": {
  "accelerator": "GPU",
  "colab": {
   "gpuType": "T4",
   "provenance": []
  },
  "gpuClass": "standard",
  "kernelspec": {
   "display_name": "Python 3 (ipykernel)",
   "language": "python",
   "name": "python3"
  },
  "language_info": {
   "codemirror_mode": {
    "name": "ipython",
    "version": 3
   },
   "file_extension": ".py",
   "mimetype": "text/x-python",
   "name": "python",
   "nbconvert_exporter": "python",
   "pygments_lexer": "ipython3",
   "version": "3.10.9"
  }
 },
 "nbformat": 4,
 "nbformat_minor": 1
}

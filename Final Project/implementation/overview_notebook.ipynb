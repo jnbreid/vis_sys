{
 "cells": [
  {
   "cell_type": "markdown",
   "metadata": {
    "id": "Uhl_02EX5K2-"
   },
   "source": [
    "# Lab CudaVision SS23 - MA-INF 4308 - Overview Notebook\n",
    "\n",
    "*   Jon Breid\n"
   ]
  },
  {
   "cell_type": "markdown",
   "metadata": {
    "id": "fSAjJhi071ny"
   },
   "source": [
    "Directory Structure:\n",
    "\n",
    "```\n",
    "├── overview_notebook_data\n",
    "│   ├── models\n",
    "│   ├── tboard_logs\n",
    "│   │   ├── angle_RMix\n",
    "│   │   ├── angle_STMix\n",
    "│   │   ├── euklid_RMix\n",
    "│   │   └──  euklid_STMix\n",
    "│   └──  Visualization\n",
    "├── utils\n",
    "│   ├── dataset_utils.py\n",
    "│   ├── eval.py\n",
    "│   ├── h3m_utils.py\n",
    "│   ├── train.py\n",
    "│   ├── utils.py\n",
    "│   └──  visualize.py\n",
    "├── model_architecutre.py\n",
    "└──  README.md\n",
    "```\n",
    "\n",
    "\n",
    "When downloading notebooks from google colab, animated visuals are not included, therefore mp4 files of visualizations can be downloaded from https://drive.google.com/drive/folders/1DkQOK1ne8Mg1eYfegKg-L_efz02Su77H?usp=drive_link\n",
    "Model files are also in this drive directory."
   ]
  },
  {
   "cell_type": "markdown",
   "metadata": {
    "id": "-lpKZmJA5usK"
   },
   "source": [
    "## Importing Required Modules"
   ]
  },
  {
   "cell_type": "code",
   "execution_count": 27,
   "metadata": {
    "id": "df6iLE82-Q5f"
   },
   "outputs": [],
   "source": [
    "import torch\n",
    "from torch.utils.data import DataLoader\n",
    "import numpy as np\n",
    "\n",
    "\n",
    "from utils.dataset_utils import Human36, AISData\n",
    "from model_architecture import RectMotionMixerCNN, MotionMixerCNN\n",
    "from utils.utils import model_params, smooth, save_model, load_model_stats, load_model, set_random_seed, mpjpe_error\n",
    "from utils.train import Trainer\n",
    "from utils.eval import eval_model\n",
    "from utils.visualize import viz_figure, vis_one_prediction"
   ]
  },
  {
   "cell_type": "markdown",
   "metadata": {
    "id": "9TTVZqu4564W"
   },
   "source": [
    "## Train and validation Datasets and Dataloader"
   ]
  },
  {
   "cell_type": "markdown",
   "metadata": {
    "id": "8oib2zBz59vf"
   },
   "source": [
    "### Human3.6m Dataset\n",
    "\n",
    "The data of the Human3.6m Dataset can be loaded in exponential map format or as three dimensional euklidean coordinates. The number of seed frames is always 10. The number of prediction frames 10 (or 25 in the test dataset for testing).\n",
    "\n",
    "The initialization of the dataset can take a few minutes.\n",
    "\n",
    "\n",
    "**The whole dataset is loaded into the RAM for faster training.**"
   ]
  },
  {
   "cell_type": "markdown",
   "metadata": {
    "id": "jechNUJvNzlE"
   },
   "source": [
    "##### Loading Data in angular representation"
   ]
  },
  {
   "cell_type": "code",
   "execution_count": 8,
   "metadata": {
    "id": "OMjsb_W9IlwF"
   },
   "outputs": [],
   "source": [
    "path = '/content/drive/MyDrive/FinalProject/h3.6m' # this needs to be the path to the 'h3.6m' directory (in the original form it was downloaded)\n",
    "prediction_len = 10"
   ]
  },
  {
   "cell_type": "code",
   "execution_count": 9,
   "metadata": {
    "colab": {
     "base_uri": "https://localhost:8080/"
    },
    "id": "n6YhcD7bIecQ",
    "outputId": "d643de8c-d693-480c-c8db-9c3cecb4a682"
   },
   "outputs": [
    {
     "name": "stdout",
     "output_type": "stream",
     "text": [
      "The train dataset consists of 9183 items, the validation dataset of 2466 items and the test_dataset of 1443.\n"
     ]
    }
   ],
   "source": [
    "valid_dataset_a = Human36(path, d_mode = 'valid', data_format = 'exp_map', seed_length = 10, prediction_length = 10)\n",
    "train_dataset_a = Human36(path, d_mode = 'train', data_format = 'exp_map', seed_length = 10, prediction_length = 10)\n",
    "test_dataset_a = Human36(path, d_mode = 'test', data_format = 'exp_map', seed_length = 10, prediction_length = prediction_len)\n",
    "\n",
    "print(f'The train dataset consists of {train_dataset_a.__len__()} items, the validation dataset of {valid_dataset_a.__len__()} items and the test_dataset of {test_dataset_a.__len__()}.')"
   ]
  },
  {
   "cell_type": "code",
   "execution_count": 10,
   "metadata": {
    "id": "UTVmcwcHIs1u"
   },
   "outputs": [],
   "source": [
    "from torch.utils.data import DataLoader\n",
    "\n",
    "train_loader_a = DataLoader(train_dataset_a, batch_size=64, shuffle=True)\n",
    "valid_loader_a = DataLoader(valid_dataset_a, batch_size=64, shuffle=False)\n",
    "test_loader_a = DataLoader(test_dataset_a, batch_size=64, shuffle=False, num_workers=0)"
   ]
  },
  {
   "cell_type": "markdown",
   "metadata": {
    "id": "yt2ysWmnOqFn"
   },
   "source": [
    "###### Loading Data in in three dimensional euklidean space"
   ]
  },
  {
   "cell_type": "code",
   "execution_count": 11,
   "metadata": {
    "id": "dIPulUU5OxTw"
   },
   "outputs": [],
   "source": [
    "path = '/content/drive/MyDrive/FinalProject/h3.6m'\n",
    "prediction_len = 10"
   ]
  },
  {
   "cell_type": "code",
   "execution_count": 12,
   "metadata": {
    "colab": {
     "base_uri": "https://localhost:8080/"
    },
    "id": "SX7qA_HQVskN",
    "outputId": "feed9afe-4f79-4ce1-d700-ac3a86a28746"
   },
   "outputs": [
    {
     "name": "stderr",
     "output_type": "stream",
     "text": [
      "/content/utils/dataset_utils.py:92: UserWarning: To copy construct from a tensor, it is recommended to use sourceTensor.clone().detach() or sourceTensor.clone().detach().requires_grad_(True), rather than torch.tensor(sourceTensor).\n",
      "  self.data_list[i] = torch.tensor(xyz).float()\n"
     ]
    }
   ],
   "source": [
    "valid_dataset_e = Human36(path, d_mode = 'valid', data_format = 'coord_3d', seed_length = 10, prediction_length = 10)\n",
    "train_dataset_e = Human36(path, d_mode = 'train', data_format = 'coord_3d', seed_length = 10, prediction_length = 10)\n",
    "test_dataset_e = Human36(path, d_mode = 'test', data_format = 'coord_3d', seed_length = 10, prediction_length = prediction_len)"
   ]
  },
  {
   "cell_type": "code",
   "execution_count": 13,
   "metadata": {
    "id": "z4iwb5QYV-pm"
   },
   "outputs": [],
   "source": [
    "train_loader_e = DataLoader(train_dataset_e, batch_size=64, shuffle=True)\n",
    "valid_loader_e = DataLoader(valid_dataset_e, batch_size=64, shuffle=False)\n",
    "test_loader_e = DataLoader(test_dataset_e, batch_size=64, shuffle=False, num_workers=0)"
   ]
  },
  {
   "cell_type": "markdown",
   "metadata": {
    "id": "RcmvX5yRJbRm"
   },
   "source": [
    "##### Some visualizations for the Human3.6m Dataset.\n",
    "\n",
    "In the following part a random item from the test dataset is visualized.\n",
    "\n",
    "The output for the angular data and the euklidean data is identical.\n",
    "\n",
    " The video of the sequence is saved in 'human36m_viz_euklid.mp4' and 'human36m_viz_angle.mp4'.\n",
    "\n",
    "\n",
    " (mp4 files are attached in an extra directory and not in this notebook as google colab does not save them in notebooks. )"
   ]
  },
  {
   "cell_type": "code",
   "execution_count": null,
   "metadata": {
    "id": "vE7yybieJlZt"
   },
   "outputs": [],
   "source": [
    "test_item = test_dataset_e.__getitem__(129) # get a random item from one of the datasets\n",
    "\n",
    "save_path = 'human36m_viz_euklid.mp4'\n",
    "\n",
    "anim = viz_figure(test_item[0], test_item[1], pred_frames = None, save_path= save_path, angles = False)"
   ]
  },
  {
   "cell_type": "code",
   "execution_count": null,
   "metadata": {
    "id": "vrhHYNUeWSVj"
   },
   "outputs": [],
   "source": [
    "test_item = test_dataset_a.__getitem__(129) # get a random item from one of the datasets\n",
    "\n",
    "save_path = 'human36m_viz_angle.mp4'\n",
    "\n",
    "anim = viz_figure(test_item[0], test_item[1], pred_frames = None, save_path= save_path, angles = True)"
   ]
  },
  {
   "cell_type": "markdown",
   "metadata": {
    "id": "X3S3H3uV4t03"
   },
   "source": [
    "#### Some example images from the Human3.6m dataset.\n",
    "\n",
    "\n"
   ]
  },
  {
   "cell_type": "markdown",
   "metadata": {
    "id": "KtxG_czQ6DYN"
   },
   "source": [
    "### AIS Data\n",
    "\n",
    "The sequences for extra validation are always loaded as three dimensional euklidean coordinates."
   ]
  },
  {
   "cell_type": "code",
   "execution_count": 16,
   "metadata": {
    "id": "S03lPz3LLSEK"
   },
   "outputs": [],
   "source": [
    "prediction_len = 10"
   ]
  },
  {
   "cell_type": "code",
   "execution_count": 17,
   "metadata": {
    "colab": {
     "base_uri": "https://localhost:8080/"
    },
    "id": "bynct27dK7rd",
    "outputId": "92d15b46-7173-4e0c-f75b-f45e39f44c79"
   },
   "outputs": [
    {
     "name": "stdout",
     "output_type": "stream",
     "text": [
      "The AIS test dataset consists of 836 items.\n"
     ]
    }
   ],
   "source": [
    "ais_data_path = '/content/drive/MyDrive/FinalProject/VisionLabSS23_3DPoses' # needs to be the directory of the AIS data\n",
    "AIS_test_data = AISData(data_path = ais_data_path, seed_length = 10, prediction_length = prediction_len)\n",
    "AIS_test_loader = DataLoader(AIS_test_data, batch_size=64, shuffle=False, num_workers=0)\n",
    "\n",
    "print(f'The AIS test dataset consists of {AIS_test_data.__len__()} items.')"
   ]
  },
  {
   "cell_type": "markdown",
   "metadata": {
    "id": "mwpcYkfHLfJX"
   },
   "source": [
    "#### Some visualizations for the extra data.\n",
    "\n",
    "The visualization is saved in 'AIS_viz.mp4'"
   ]
  },
  {
   "cell_type": "code",
   "execution_count": null,
   "metadata": {
    "id": "yyDvrrTLLj0V"
   },
   "outputs": [],
   "source": [
    "ais_test_item = AIS_test_data.__getitem__(145) # get a random item from one of the datasets\n",
    "\n",
    "save_path = 'AIS_viz.mp4'\n",
    "\n",
    "anim = viz_figure(ais_test_item[0], ais_test_item[1], pred_frames = None, save_path= save_path, angles = False)"
   ]
  },
  {
   "cell_type": "markdown",
   "metadata": {
    "id": "-eAU02KQ6IXv"
   },
   "source": [
    "## Initialize Models and Training\n",
    "\n",
    "In the following the best model for angular and euklidean data representation are initialized, for each a *Convolutional STMixer* and a *Convolutional Rectangular Mixer*."
   ]
  },
  {
   "cell_type": "markdown",
   "metadata": {
    "id": "5NNq_Lmj6ZRn"
   },
   "source": [
    "### Convolutional STMixer"
   ]
  },
  {
   "cell_type": "markdown",
   "metadata": {
    "id": "biqnp2Q9Mm1Q"
   },
   "source": [
    "#### Angular data"
   ]
  },
  {
   "cell_type": "code",
   "execution_count": 19,
   "metadata": {
    "colab": {
     "base_uri": "https://localhost:8080/"
    },
    "id": "vcjn6nHaNJha",
    "outputId": "7db7f082-6d1f-4917-ee17-b739be1f0034"
   },
   "outputs": [
    {
     "name": "stdout",
     "output_type": "stream",
     "text": [
      "The model has 342945 parameter.\n"
     ]
    }
   ],
   "source": [
    "angle_STMix = MotionMixerCNN(input_size_spatial = 51,\n",
    "               input_size_temporal = 10,\n",
    "               embedding_size = 128,\n",
    "               n_block = 5,\n",
    "               n_output = 10,\n",
    "               n_temp_layers = 3,\n",
    "               n_spatial_layers = 3, # pos 3\n",
    "               temp_kernel_size = 9, # 4\n",
    "               spatial_kernel_size = 51, # 5\n",
    "               hidden_size = 32) # 6\n",
    "\n",
    "print(f\"The model has {model_params(angle_STMix)} parameter.\")"
   ]
  },
  {
   "cell_type": "markdown",
   "metadata": {
    "id": "CyGaSE2UU7GX"
   },
   "source": [
    "#### Euklidean data format"
   ]
  },
  {
   "cell_type": "code",
   "execution_count": 20,
   "metadata": {
    "colab": {
     "base_uri": "https://localhost:8080/"
    },
    "id": "4_JoixELVA6Y",
    "outputId": "9044963e-f51b-4083-bcc3-9ec9a796af65"
   },
   "outputs": [
    {
     "name": "stdout",
     "output_type": "stream",
     "text": [
      "The model has 342945 parameter.\n"
     ]
    }
   ],
   "source": [
    "euklid_STMix = MotionMixerCNN(input_size_spatial = 51,\n",
    "               input_size_temporal = 10, # not in config_string\n",
    "               embedding_size = 128, # pos 0\n",
    "               n_block = 5, # pos 1\n",
    "               n_output = 10, # not important\n",
    "               n_temp_layers = 3, # pos 2\n",
    "               n_spatial_layers = 3, # pos 3\n",
    "               temp_kernel_size = 9, # 4\n",
    "               spatial_kernel_size = 51, # 5\n",
    "               hidden_size = 32) # 6\n",
    "\n",
    "print(f\"The model has {model_params(euklid_STMix)} parameter.\")"
   ]
  },
  {
   "cell_type": "markdown",
   "metadata": {
    "id": "nqmSrXdd6e5I"
   },
   "source": [
    "### Convolutional RectangularMixer"
   ]
  },
  {
   "cell_type": "markdown",
   "metadata": {
    "id": "LJlbKkmxVP7S"
   },
   "source": [
    "#### Angular data"
   ]
  },
  {
   "cell_type": "code",
   "execution_count": 51,
   "metadata": {
    "colab": {
     "base_uri": "https://localhost:8080/"
    },
    "id": "F1YnSjlqVR-o",
    "outputId": "03297483-73b6-48ad-d076-9b13d68460e1"
   },
   "outputs": [
    {
     "name": "stdout",
     "output_type": "stream",
     "text": [
      "The model has 749340 parameter.\n"
     ]
    }
   ],
   "source": [
    "angle_RMix = RectMotionMixerCNN(input_size_spatial = 51,\n",
    "                                input_size_temporal = 10,\n",
    "                                embedding_size = 128,\n",
    "                                n_block = 5,\n",
    "                                n_output = 10,\n",
    "                                n_layers = 3,\n",
    "                                kernel_size = (9,15),\n",
    "                                hidden_size = 32)\n",
    "\n",
    "print(f\"The model has {model_params(angle_RMix)} parameter.\")"
   ]
  },
  {
   "cell_type": "markdown",
   "metadata": {
    "id": "bMJdvlyeVRUC"
   },
   "source": [
    "#### Euklidean data format"
   ]
  },
  {
   "cell_type": "code",
   "execution_count": 22,
   "metadata": {
    "colab": {
     "base_uri": "https://localhost:8080/"
    },
    "id": "TBj9Xqw6VgZm",
    "outputId": "4e402539-795a-41e3-9289-52f1641bcc8f"
   },
   "outputs": [
    {
     "name": "stdout",
     "output_type": "stream",
     "text": [
      "The model has 455580 parameter.\n"
     ]
    }
   ],
   "source": [
    "euklid_RMix= RectMotionMixerCNN(input_size_spatial = 51,\n",
    "                                input_size_temporal = 10,\n",
    "                                embedding_size = 128,\n",
    "                                n_block = 5,\n",
    "                                n_output = 10,\n",
    "                                n_layers = 3,\n",
    "                                kernel_size = (9,9),\n",
    "                                hidden_size = 32)\n",
    "\n",
    "print(f\"The model has {model_params(euklid_RMix)} parameter.\")"
   ]
  },
  {
   "cell_type": "markdown",
   "metadata": {
    "id": "SZaF11CO6tcS"
   },
   "source": [
    "## Train Models"
   ]
  },
  {
   "cell_type": "markdown",
   "metadata": {
    "id": "LkTXJ3Q7WoL9"
   },
   "source": [
    "##### First load tensorboard writer and create a directory for the log files.\n",
    "Without a writer the trainer does not work.\n",
    "\n"
   ]
  },
  {
   "cell_type": "code",
   "execution_count": 23,
   "metadata": {
    "id": "Skx-jG4tXZsB"
   },
   "outputs": [],
   "source": [
    "config = 'angle_STMix' # or 'angle_RMix' or 'euklid_STMix' or 'euklid_RMix'"
   ]
  },
  {
   "cell_type": "code",
   "execution_count": 24,
   "metadata": {
    "id": "Tal2WqhnWwmj"
   },
   "outputs": [],
   "source": [
    "import os\n",
    "import shutil\n",
    "from torch.utils.tensorboard import SummaryWriter\n",
    "\n",
    "data_path  = \"overview_notebook_data/tboard_logs\"\n",
    "\n",
    "TBOARD_LOGS = os.path.join(os.getcwd(), data_path, config)\n",
    "if not os.path.exists(TBOARD_LOGS):\n",
    "    os.makedirs(TBOARD_LOGS)\n",
    "\n",
    "shutil.rmtree(TBOARD_LOGS)\n",
    "writer = SummaryWriter(TBOARD_LOGS)"
   ]
  },
  {
   "cell_type": "markdown",
   "metadata": {
    "id": "EvLeKM5w0K3M"
   },
   "source": [
    "### Train with 3D Euclidean Data"
   ]
  },
  {
   "cell_type": "markdown",
   "metadata": {
    "id": "7lelg5lh8oCn"
   },
   "source": [
    "Execute only one of the two cells below, depending on which model you want to train."
   ]
  },
  {
   "cell_type": "code",
   "execution_count": 31,
   "metadata": {
    "id": "KGqVUH-J8hgf"
   },
   "outputs": [],
   "source": [
    "model_e = euklid_RMix"
   ]
  },
  {
   "cell_type": "code",
   "execution_count": 25,
   "metadata": {
    "id": "tLRiCczO8kHP"
   },
   "outputs": [],
   "source": [
    "model_e = euklid_STMix"
   ]
  },
  {
   "cell_type": "code",
   "execution_count": 32,
   "metadata": {
    "id": "eguioW5EXVc3"
   },
   "outputs": [],
   "source": [
    "SAVE_PATH = '/content/overview_notebook_data/models/' + config\n",
    "\n",
    "if not os.path.exists(SAVE_PATH):\n",
    "  os.makedirs(SAVE_PATH)\n",
    "\n",
    "trainer = Trainer(model = model_e,\n",
    "                    NUM_EPOCHS  = 61,\n",
    "                    train_loader = train_loader_e,\n",
    "                    valid_loader = valid_loader_e,\n",
    "                    EVAL_FREQ = 5,\n",
    "                    SAVE_FREQ = 10,\n",
    "                    criterion = mpjpe_error, # or torch.nn.MSELoss() for angular data\n",
    "                    savepath = SAVE_PATH,\n",
    "                    writer = writer,\n",
    "                    lr = 1e-2,\n",
    "                    gamma = 0.1,\n",
    "                    step_size = 10,\n",
    "                    loadpath = None,\n",
    "                    input_format = 'coord_3d')"
   ]
  },
  {
   "cell_type": "code",
   "execution_count": null,
   "metadata": {
    "id": "utMSZxjwX7Nw"
   },
   "outputs": [],
   "source": [
    "stats, model =  trainer.train() # start the training."
   ]
  },
  {
   "cell_type": "markdown",
   "metadata": {
    "id": "WEn8C9km0QFs"
   },
   "source": [
    "### Train with Exponental Map Data"
   ]
  },
  {
   "cell_type": "markdown",
   "metadata": {
    "id": "CtnqWwRp8wcg"
   },
   "source": [
    "Execute only one of the two cells below, depending on which model you want to train."
   ]
  },
  {
   "cell_type": "code",
   "execution_count": 34,
   "metadata": {
    "id": "ZqTk_snJ8C0F"
   },
   "outputs": [],
   "source": [
    "model_a = angle_RMix"
   ]
  },
  {
   "cell_type": "code",
   "execution_count": 38,
   "metadata": {
    "id": "7e7pxC0z8cEz"
   },
   "outputs": [],
   "source": [
    "model_a = angle_STMix"
   ]
  },
  {
   "cell_type": "code",
   "execution_count": 39,
   "metadata": {
    "id": "S8PnaMyp0WAM"
   },
   "outputs": [],
   "source": [
    "SAVE_PATH = 'overview_notebook_data/models/' + config\n",
    "\n",
    "if not os.path.exists(SAVE_PATH):\n",
    "  os.makedirs(SAVE_PATH)\n",
    "\n",
    "trainer = Trainer(model = model_a,\n",
    "                    NUM_EPOCHS  = 61,\n",
    "                    train_loader = train_loader_a,\n",
    "                    valid_loader = valid_loader_a,\n",
    "                    EVAL_FREQ = 5,\n",
    "                    SAVE_FREQ = 10,\n",
    "                    criterion = torch.nn.MSELoss(), # or torch.nn.MSELoss() for angular data\n",
    "                    savepath = SAVE_PATH,\n",
    "                    writer = writer,\n",
    "                    lr = 1e-2,\n",
    "                    gamma = 0.1,\n",
    "                    step_size = 10,\n",
    "                    loadpath = None)"
   ]
  },
  {
   "cell_type": "code",
   "execution_count": null,
   "metadata": {
    "id": "A9eG7tCy0kMG"
   },
   "outputs": [],
   "source": [
    "stats, model = trainer.train()"
   ]
  },
  {
   "cell_type": "markdown",
   "metadata": {
    "id": "g9f2jg8V71wq"
   },
   "source": [
    "### Train stats"
   ]
  },
  {
   "cell_type": "markdown",
   "metadata": {
    "id": "hBaKqElBYKZk"
   },
   "source": [
    "Training stats are recorded with Tensorboard and can be viewd with the commands.\n",
    "\n",
    "%load_ext tensorboard #(is only needed for google colab.)\n",
    "\n",
    "%tensorboard --logdir PATH_TO_LOG/"
   ]
  },
  {
   "cell_type": "code",
   "execution_count": null,
   "metadata": {
    "id": "V3n3lhbx-LVH"
   },
   "outputs": [],
   "source": [
    "%load_ext tensorboard\n",
    "%tensorboard --logdir overview_notebook_data/tboard_logs # this has to be the directory containing the log files"
   ]
  },
  {
   "cell_type": "markdown",
   "metadata": {
    "id": "-6bHXVmeE0b6"
   },
   "source": [
    "All loss curves and metric curves on the validation dataset look as one would expect, except the curve when training the model using CRMixer layers, where it does not look like the loss converges."
   ]
  },
  {
   "cell_type": "markdown",
   "metadata": {
    "id": "qV1aGIVd7M3r"
   },
   "source": [
    "### Load Model Weights\n",
    "\n",
    "Load the weights for the best models for each variant."
   ]
  },
  {
   "cell_type": "code",
   "execution_count": 42,
   "metadata": {
    "id": "FJq32hT2Siks"
   },
   "outputs": [],
   "source": [
    "device = device = torch.device(\"cuda\" if torch.cuda.is_available() else \"cpu\")"
   ]
  },
  {
   "cell_type": "markdown",
   "metadata": {
    "id": "zt_HpmGOS0pu"
   },
   "source": [
    "Load the best model using a *Convolutional STMixer* trained with exponential map data format."
   ]
  },
  {
   "cell_type": "code",
   "execution_count": 49,
   "metadata": {
    "colab": {
     "base_uri": "https://localhost:8080/"
    },
    "id": "CPnWFOwhYBB6",
    "outputId": "d51c000d-f088-44fe-fd5a-3706361e07c4"
   },
   "outputs": [
    {
     "data": {
      "text/plain": [
       "MotionMixerCNN(\n",
       "  (poseEmbedding): PoseEmbedding(\n",
       "    (fc_W0): Conv1d(51, 128, kernel_size=(1,), stride=(1,))\n",
       "  )\n",
       "  (mixer): Sequential(\n",
       "    (0): STMixerBlock(\n",
       "      (spatial_mixer): SpatialMixCNN(\n",
       "        (cnn_block): CNNMixer(\n",
       "          (layers): Sequential(\n",
       "            (0): Conv2d(1, 32, kernel_size=(1, 51), stride=(1, 1), padding=(0, 25))\n",
       "            (1): GELU(approximate='none')\n",
       "            (2): Dropout(p=0.1, inplace=False)\n",
       "            (3): Conv2d(32, 32, kernel_size=(1, 51), stride=(1, 1), padding=(0, 25))\n",
       "            (4): GELU(approximate='none')\n",
       "            (5): Dropout(p=0.1, inplace=False)\n",
       "            (6): Conv2d(32, 1, kernel_size=(1, 51), stride=(1, 1), padding=(0, 25))\n",
       "            (7): GELU(approximate='none')\n",
       "            (8): Dropout(p=0.1, inplace=False)\n",
       "          )\n",
       "        )\n",
       "      )\n",
       "      (SEblock): SEBlock(\n",
       "        (squeeze): AdaptiveAvgPool1d(output_size=1)\n",
       "        (excite): Sequential(\n",
       "          (0): Linear(in_features=10, out_features=1, bias=False)\n",
       "          (1): ReLU()\n",
       "          (2): Linear(in_features=1, out_features=10, bias=False)\n",
       "          (3): Sigmoid()\n",
       "        )\n",
       "      )\n",
       "      (temporal_mixer): TemporalMixCNN(\n",
       "        (cnn_block): CNNMixer(\n",
       "          (layers): Sequential(\n",
       "            (0): Conv2d(1, 32, kernel_size=(1, 9), stride=(1, 1), padding=(0, 4))\n",
       "            (1): GELU(approximate='none')\n",
       "            (2): Dropout(p=0.1, inplace=False)\n",
       "            (3): Conv2d(32, 32, kernel_size=(1, 9), stride=(1, 1), padding=(0, 4))\n",
       "            (4): GELU(approximate='none')\n",
       "            (5): Dropout(p=0.1, inplace=False)\n",
       "            (6): Conv2d(32, 1, kernel_size=(1, 9), stride=(1, 1), padding=(0, 4))\n",
       "            (7): GELU(approximate='none')\n",
       "            (8): Dropout(p=0.1, inplace=False)\n",
       "          )\n",
       "        )\n",
       "      )\n",
       "      (LayerNorm1): LayerNorm((128,), eps=1e-05, elementwise_affine=True)\n",
       "      (LayerNorm2): LayerNorm((128,), eps=1e-05, elementwise_affine=True)\n",
       "    )\n",
       "    (1): STMixerBlock(\n",
       "      (spatial_mixer): SpatialMixCNN(\n",
       "        (cnn_block): CNNMixer(\n",
       "          (layers): Sequential(\n",
       "            (0): Conv2d(1, 32, kernel_size=(1, 51), stride=(1, 1), padding=(0, 25))\n",
       "            (1): GELU(approximate='none')\n",
       "            (2): Dropout(p=0.1, inplace=False)\n",
       "            (3): Conv2d(32, 32, kernel_size=(1, 51), stride=(1, 1), padding=(0, 25))\n",
       "            (4): GELU(approximate='none')\n",
       "            (5): Dropout(p=0.1, inplace=False)\n",
       "            (6): Conv2d(32, 1, kernel_size=(1, 51), stride=(1, 1), padding=(0, 25))\n",
       "            (7): GELU(approximate='none')\n",
       "            (8): Dropout(p=0.1, inplace=False)\n",
       "          )\n",
       "        )\n",
       "      )\n",
       "      (SEblock): SEBlock(\n",
       "        (squeeze): AdaptiveAvgPool1d(output_size=1)\n",
       "        (excite): Sequential(\n",
       "          (0): Linear(in_features=10, out_features=1, bias=False)\n",
       "          (1): ReLU()\n",
       "          (2): Linear(in_features=1, out_features=10, bias=False)\n",
       "          (3): Sigmoid()\n",
       "        )\n",
       "      )\n",
       "      (temporal_mixer): TemporalMixCNN(\n",
       "        (cnn_block): CNNMixer(\n",
       "          (layers): Sequential(\n",
       "            (0): Conv2d(1, 32, kernel_size=(1, 9), stride=(1, 1), padding=(0, 4))\n",
       "            (1): GELU(approximate='none')\n",
       "            (2): Dropout(p=0.1, inplace=False)\n",
       "            (3): Conv2d(32, 32, kernel_size=(1, 9), stride=(1, 1), padding=(0, 4))\n",
       "            (4): GELU(approximate='none')\n",
       "            (5): Dropout(p=0.1, inplace=False)\n",
       "            (6): Conv2d(32, 1, kernel_size=(1, 9), stride=(1, 1), padding=(0, 4))\n",
       "            (7): GELU(approximate='none')\n",
       "            (8): Dropout(p=0.1, inplace=False)\n",
       "          )\n",
       "        )\n",
       "      )\n",
       "      (LayerNorm1): LayerNorm((128,), eps=1e-05, elementwise_affine=True)\n",
       "      (LayerNorm2): LayerNorm((128,), eps=1e-05, elementwise_affine=True)\n",
       "    )\n",
       "    (2): STMixerBlock(\n",
       "      (spatial_mixer): SpatialMixCNN(\n",
       "        (cnn_block): CNNMixer(\n",
       "          (layers): Sequential(\n",
       "            (0): Conv2d(1, 32, kernel_size=(1, 51), stride=(1, 1), padding=(0, 25))\n",
       "            (1): GELU(approximate='none')\n",
       "            (2): Dropout(p=0.1, inplace=False)\n",
       "            (3): Conv2d(32, 32, kernel_size=(1, 51), stride=(1, 1), padding=(0, 25))\n",
       "            (4): GELU(approximate='none')\n",
       "            (5): Dropout(p=0.1, inplace=False)\n",
       "            (6): Conv2d(32, 1, kernel_size=(1, 51), stride=(1, 1), padding=(0, 25))\n",
       "            (7): GELU(approximate='none')\n",
       "            (8): Dropout(p=0.1, inplace=False)\n",
       "          )\n",
       "        )\n",
       "      )\n",
       "      (SEblock): SEBlock(\n",
       "        (squeeze): AdaptiveAvgPool1d(output_size=1)\n",
       "        (excite): Sequential(\n",
       "          (0): Linear(in_features=10, out_features=1, bias=False)\n",
       "          (1): ReLU()\n",
       "          (2): Linear(in_features=1, out_features=10, bias=False)\n",
       "          (3): Sigmoid()\n",
       "        )\n",
       "      )\n",
       "      (temporal_mixer): TemporalMixCNN(\n",
       "        (cnn_block): CNNMixer(\n",
       "          (layers): Sequential(\n",
       "            (0): Conv2d(1, 32, kernel_size=(1, 9), stride=(1, 1), padding=(0, 4))\n",
       "            (1): GELU(approximate='none')\n",
       "            (2): Dropout(p=0.1, inplace=False)\n",
       "            (3): Conv2d(32, 32, kernel_size=(1, 9), stride=(1, 1), padding=(0, 4))\n",
       "            (4): GELU(approximate='none')\n",
       "            (5): Dropout(p=0.1, inplace=False)\n",
       "            (6): Conv2d(32, 1, kernel_size=(1, 9), stride=(1, 1), padding=(0, 4))\n",
       "            (7): GELU(approximate='none')\n",
       "            (8): Dropout(p=0.1, inplace=False)\n",
       "          )\n",
       "        )\n",
       "      )\n",
       "      (LayerNorm1): LayerNorm((128,), eps=1e-05, elementwise_affine=True)\n",
       "      (LayerNorm2): LayerNorm((128,), eps=1e-05, elementwise_affine=True)\n",
       "    )\n",
       "    (3): STMixerBlock(\n",
       "      (spatial_mixer): SpatialMixCNN(\n",
       "        (cnn_block): CNNMixer(\n",
       "          (layers): Sequential(\n",
       "            (0): Conv2d(1, 32, kernel_size=(1, 51), stride=(1, 1), padding=(0, 25))\n",
       "            (1): GELU(approximate='none')\n",
       "            (2): Dropout(p=0.1, inplace=False)\n",
       "            (3): Conv2d(32, 32, kernel_size=(1, 51), stride=(1, 1), padding=(0, 25))\n",
       "            (4): GELU(approximate='none')\n",
       "            (5): Dropout(p=0.1, inplace=False)\n",
       "            (6): Conv2d(32, 1, kernel_size=(1, 51), stride=(1, 1), padding=(0, 25))\n",
       "            (7): GELU(approximate='none')\n",
       "            (8): Dropout(p=0.1, inplace=False)\n",
       "          )\n",
       "        )\n",
       "      )\n",
       "      (SEblock): SEBlock(\n",
       "        (squeeze): AdaptiveAvgPool1d(output_size=1)\n",
       "        (excite): Sequential(\n",
       "          (0): Linear(in_features=10, out_features=1, bias=False)\n",
       "          (1): ReLU()\n",
       "          (2): Linear(in_features=1, out_features=10, bias=False)\n",
       "          (3): Sigmoid()\n",
       "        )\n",
       "      )\n",
       "      (temporal_mixer): TemporalMixCNN(\n",
       "        (cnn_block): CNNMixer(\n",
       "          (layers): Sequential(\n",
       "            (0): Conv2d(1, 32, kernel_size=(1, 9), stride=(1, 1), padding=(0, 4))\n",
       "            (1): GELU(approximate='none')\n",
       "            (2): Dropout(p=0.1, inplace=False)\n",
       "            (3): Conv2d(32, 32, kernel_size=(1, 9), stride=(1, 1), padding=(0, 4))\n",
       "            (4): GELU(approximate='none')\n",
       "            (5): Dropout(p=0.1, inplace=False)\n",
       "            (6): Conv2d(32, 1, kernel_size=(1, 9), stride=(1, 1), padding=(0, 4))\n",
       "            (7): GELU(approximate='none')\n",
       "            (8): Dropout(p=0.1, inplace=False)\n",
       "          )\n",
       "        )\n",
       "      )\n",
       "      (LayerNorm1): LayerNorm((128,), eps=1e-05, elementwise_affine=True)\n",
       "      (LayerNorm2): LayerNorm((128,), eps=1e-05, elementwise_affine=True)\n",
       "    )\n",
       "    (4): STMixerBlock(\n",
       "      (spatial_mixer): SpatialMixCNN(\n",
       "        (cnn_block): CNNMixer(\n",
       "          (layers): Sequential(\n",
       "            (0): Conv2d(1, 32, kernel_size=(1, 51), stride=(1, 1), padding=(0, 25))\n",
       "            (1): GELU(approximate='none')\n",
       "            (2): Dropout(p=0.1, inplace=False)\n",
       "            (3): Conv2d(32, 32, kernel_size=(1, 51), stride=(1, 1), padding=(0, 25))\n",
       "            (4): GELU(approximate='none')\n",
       "            (5): Dropout(p=0.1, inplace=False)\n",
       "            (6): Conv2d(32, 1, kernel_size=(1, 51), stride=(1, 1), padding=(0, 25))\n",
       "            (7): GELU(approximate='none')\n",
       "            (8): Dropout(p=0.1, inplace=False)\n",
       "          )\n",
       "        )\n",
       "      )\n",
       "      (SEblock): SEBlock(\n",
       "        (squeeze): AdaptiveAvgPool1d(output_size=1)\n",
       "        (excite): Sequential(\n",
       "          (0): Linear(in_features=10, out_features=1, bias=False)\n",
       "          (1): ReLU()\n",
       "          (2): Linear(in_features=1, out_features=10, bias=False)\n",
       "          (3): Sigmoid()\n",
       "        )\n",
       "      )\n",
       "      (temporal_mixer): TemporalMixCNN(\n",
       "        (cnn_block): CNNMixer(\n",
       "          (layers): Sequential(\n",
       "            (0): Conv2d(1, 32, kernel_size=(1, 9), stride=(1, 1), padding=(0, 4))\n",
       "            (1): GELU(approximate='none')\n",
       "            (2): Dropout(p=0.1, inplace=False)\n",
       "            (3): Conv2d(32, 32, kernel_size=(1, 9), stride=(1, 1), padding=(0, 4))\n",
       "            (4): GELU(approximate='none')\n",
       "            (5): Dropout(p=0.1, inplace=False)\n",
       "            (6): Conv2d(32, 1, kernel_size=(1, 9), stride=(1, 1), padding=(0, 4))\n",
       "            (7): GELU(approximate='none')\n",
       "            (8): Dropout(p=0.1, inplace=False)\n",
       "          )\n",
       "        )\n",
       "      )\n",
       "      (LayerNorm1): LayerNorm((128,), eps=1e-05, elementwise_affine=True)\n",
       "      (LayerNorm2): LayerNorm((128,), eps=1e-05, elementwise_affine=True)\n",
       "    )\n",
       "  )\n",
       "  (posePrediction): PosePrediction(\n",
       "    (fc_Wp2): Conv1d(128, 51, kernel_size=(1,), stride=(1,))\n",
       "  )\n",
       ")"
      ]
     },
     "execution_count": 49,
     "metadata": {},
     "output_type": "execute_result"
    }
   ],
   "source": [
    "path_to_models = 'overview_notebook_data/models/' # this needs to be whatever the path to the model files is (same in the cells below)\n",
    "\n",
    "load_path = path_to_models + 'angle_STMix' + '/model.pth'\n",
    "\n",
    "angle_STMix, stats = load_model_stats(angle_STMix, load_path)\n",
    "angle_STMix.to(device)"
   ]
  },
  {
   "cell_type": "markdown",
   "metadata": {
    "id": "ig8D03L8TCXU"
   },
   "source": [
    "Load the best model using a *Convolutional Rectangular Mixer* trained with exponential map data."
   ]
  },
  {
   "cell_type": "code",
   "execution_count": 53,
   "metadata": {
    "colab": {
     "base_uri": "https://localhost:8080/"
    },
    "id": "n1mTI2yGSmKq",
    "outputId": "65b60f07-c387-4d61-9ec5-c088198822fa"
   },
   "outputs": [
    {
     "data": {
      "text/plain": [
       "RectMotionMixerCNN(\n",
       "  (poseEmbedding): PoseEmbedding(\n",
       "    (fc_W0): Conv1d(51, 128, kernel_size=(1,), stride=(1,))\n",
       "  )\n",
       "  (mixer): Sequential(\n",
       "    (0): RectMixerCNN(\n",
       "      (SEblock): SEBlock(\n",
       "        (squeeze): AdaptiveAvgPool1d(output_size=1)\n",
       "        (excite): Sequential(\n",
       "          (0): Linear(in_features=10, out_features=1, bias=False)\n",
       "          (1): ReLU()\n",
       "          (2): Linear(in_features=1, out_features=10, bias=False)\n",
       "          (3): Sigmoid()\n",
       "        )\n",
       "      )\n",
       "      (cnn_block): CNNMixer(\n",
       "        (layers): Sequential(\n",
       "          (0): Conv2d(1, 32, kernel_size=(9, 15), stride=(1, 1), padding=(4, 7))\n",
       "          (1): GELU(approximate='none')\n",
       "          (2): Dropout(p=0.1, inplace=False)\n",
       "          (3): Conv2d(32, 32, kernel_size=(9, 15), stride=(1, 1), padding=(4, 7))\n",
       "          (4): GELU(approximate='none')\n",
       "          (5): Dropout(p=0.1, inplace=False)\n",
       "          (6): Conv2d(32, 1, kernel_size=(9, 15), stride=(1, 1), padding=(4, 7))\n",
       "          (7): GELU(approximate='none')\n",
       "          (8): Dropout(p=0.1, inplace=False)\n",
       "        )\n",
       "      )\n",
       "      (LayerNorm): LayerNorm((128,), eps=1e-05, elementwise_affine=True)\n",
       "    )\n",
       "    (1): RectMixerCNN(\n",
       "      (SEblock): SEBlock(\n",
       "        (squeeze): AdaptiveAvgPool1d(output_size=1)\n",
       "        (excite): Sequential(\n",
       "          (0): Linear(in_features=10, out_features=1, bias=False)\n",
       "          (1): ReLU()\n",
       "          (2): Linear(in_features=1, out_features=10, bias=False)\n",
       "          (3): Sigmoid()\n",
       "        )\n",
       "      )\n",
       "      (cnn_block): CNNMixer(\n",
       "        (layers): Sequential(\n",
       "          (0): Conv2d(1, 32, kernel_size=(9, 15), stride=(1, 1), padding=(4, 7))\n",
       "          (1): GELU(approximate='none')\n",
       "          (2): Dropout(p=0.1, inplace=False)\n",
       "          (3): Conv2d(32, 32, kernel_size=(9, 15), stride=(1, 1), padding=(4, 7))\n",
       "          (4): GELU(approximate='none')\n",
       "          (5): Dropout(p=0.1, inplace=False)\n",
       "          (6): Conv2d(32, 1, kernel_size=(9, 15), stride=(1, 1), padding=(4, 7))\n",
       "          (7): GELU(approximate='none')\n",
       "          (8): Dropout(p=0.1, inplace=False)\n",
       "        )\n",
       "      )\n",
       "      (LayerNorm): LayerNorm((128,), eps=1e-05, elementwise_affine=True)\n",
       "    )\n",
       "    (2): RectMixerCNN(\n",
       "      (SEblock): SEBlock(\n",
       "        (squeeze): AdaptiveAvgPool1d(output_size=1)\n",
       "        (excite): Sequential(\n",
       "          (0): Linear(in_features=10, out_features=1, bias=False)\n",
       "          (1): ReLU()\n",
       "          (2): Linear(in_features=1, out_features=10, bias=False)\n",
       "          (3): Sigmoid()\n",
       "        )\n",
       "      )\n",
       "      (cnn_block): CNNMixer(\n",
       "        (layers): Sequential(\n",
       "          (0): Conv2d(1, 32, kernel_size=(9, 15), stride=(1, 1), padding=(4, 7))\n",
       "          (1): GELU(approximate='none')\n",
       "          (2): Dropout(p=0.1, inplace=False)\n",
       "          (3): Conv2d(32, 32, kernel_size=(9, 15), stride=(1, 1), padding=(4, 7))\n",
       "          (4): GELU(approximate='none')\n",
       "          (5): Dropout(p=0.1, inplace=False)\n",
       "          (6): Conv2d(32, 1, kernel_size=(9, 15), stride=(1, 1), padding=(4, 7))\n",
       "          (7): GELU(approximate='none')\n",
       "          (8): Dropout(p=0.1, inplace=False)\n",
       "        )\n",
       "      )\n",
       "      (LayerNorm): LayerNorm((128,), eps=1e-05, elementwise_affine=True)\n",
       "    )\n",
       "    (3): RectMixerCNN(\n",
       "      (SEblock): SEBlock(\n",
       "        (squeeze): AdaptiveAvgPool1d(output_size=1)\n",
       "        (excite): Sequential(\n",
       "          (0): Linear(in_features=10, out_features=1, bias=False)\n",
       "          (1): ReLU()\n",
       "          (2): Linear(in_features=1, out_features=10, bias=False)\n",
       "          (3): Sigmoid()\n",
       "        )\n",
       "      )\n",
       "      (cnn_block): CNNMixer(\n",
       "        (layers): Sequential(\n",
       "          (0): Conv2d(1, 32, kernel_size=(9, 15), stride=(1, 1), padding=(4, 7))\n",
       "          (1): GELU(approximate='none')\n",
       "          (2): Dropout(p=0.1, inplace=False)\n",
       "          (3): Conv2d(32, 32, kernel_size=(9, 15), stride=(1, 1), padding=(4, 7))\n",
       "          (4): GELU(approximate='none')\n",
       "          (5): Dropout(p=0.1, inplace=False)\n",
       "          (6): Conv2d(32, 1, kernel_size=(9, 15), stride=(1, 1), padding=(4, 7))\n",
       "          (7): GELU(approximate='none')\n",
       "          (8): Dropout(p=0.1, inplace=False)\n",
       "        )\n",
       "      )\n",
       "      (LayerNorm): LayerNorm((128,), eps=1e-05, elementwise_affine=True)\n",
       "    )\n",
       "    (4): RectMixerCNN(\n",
       "      (SEblock): SEBlock(\n",
       "        (squeeze): AdaptiveAvgPool1d(output_size=1)\n",
       "        (excite): Sequential(\n",
       "          (0): Linear(in_features=10, out_features=1, bias=False)\n",
       "          (1): ReLU()\n",
       "          (2): Linear(in_features=1, out_features=10, bias=False)\n",
       "          (3): Sigmoid()\n",
       "        )\n",
       "      )\n",
       "      (cnn_block): CNNMixer(\n",
       "        (layers): Sequential(\n",
       "          (0): Conv2d(1, 32, kernel_size=(9, 15), stride=(1, 1), padding=(4, 7))\n",
       "          (1): GELU(approximate='none')\n",
       "          (2): Dropout(p=0.1, inplace=False)\n",
       "          (3): Conv2d(32, 32, kernel_size=(9, 15), stride=(1, 1), padding=(4, 7))\n",
       "          (4): GELU(approximate='none')\n",
       "          (5): Dropout(p=0.1, inplace=False)\n",
       "          (6): Conv2d(32, 1, kernel_size=(9, 15), stride=(1, 1), padding=(4, 7))\n",
       "          (7): GELU(approximate='none')\n",
       "          (8): Dropout(p=0.1, inplace=False)\n",
       "        )\n",
       "      )\n",
       "      (LayerNorm): LayerNorm((128,), eps=1e-05, elementwise_affine=True)\n",
       "    )\n",
       "  )\n",
       "  (posePrediction): PosePrediction(\n",
       "    (fc_Wp2): Conv1d(128, 51, kernel_size=(1,), stride=(1,))\n",
       "  )\n",
       ")"
      ]
     },
     "execution_count": 53,
     "metadata": {},
     "output_type": "execute_result"
    }
   ],
   "source": [
    "path_to_models = 'overview_notebook_data/models/'\n",
    "\n",
    "load_path = path_to_models + 'angle_RMix' + '/model.pth'\n",
    "angle_RMix, stats = load_model_stats(angle_RMix, load_path)\n",
    "angle_RMix.to(device)"
   ]
  },
  {
   "cell_type": "markdown",
   "metadata": {
    "id": "MqHfPwbqTFBK"
   },
   "source": [
    "Load the best model using a *Convolutional STMixer* with 3d euklidean data."
   ]
  },
  {
   "cell_type": "code",
   "execution_count": null,
   "metadata": {
    "id": "bet35GWfSmaJ"
   },
   "outputs": [],
   "source": [
    "path_to_models = 'overview_notebook_data/models/'\n",
    "\n",
    "load_path = path_to_models + 'euklid_STMix' + '/model.pth'\n",
    "euklid_STMix, stats = load_model_stats(euklid_STMix, load_path)\n",
    "euklid_STMix.to(device)"
   ]
  },
  {
   "cell_type": "markdown",
   "metadata": {
    "id": "jPNyI9yWTJXV"
   },
   "source": [
    "Load the best model using a *Convolutional Rectangular Mixer* with 3d euklidean data."
   ]
  },
  {
   "cell_type": "code",
   "execution_count": null,
   "metadata": {
    "id": "mLfKcM9ySmnW"
   },
   "outputs": [],
   "source": [
    "path_to_models = 'overview_notebook_data/models/'\n",
    "\n",
    "load_path = path_to_models + 'euklid_RMix' + '/model.pth'\n",
    "\n",
    "euklid_RMix, stats = load_model_stats(euklid_RMix, load_path)\n",
    "euklid_RMix.to(device)"
   ]
  },
  {
   "cell_type": "markdown",
   "metadata": {
    "id": "KhfY3QZf77yB"
   },
   "source": [
    "## Evaluate Models"
   ]
  },
  {
   "cell_type": "markdown",
   "metadata": {
    "id": "b4HZAA4TTs-O"
   },
   "source": [
    "### Evaluate results with 10 and 25 prediction Frames\n",
    "\n",
    "Here the Datasets initialized at the top of the notebook can be used."
   ]
  },
  {
   "cell_type": "code",
   "execution_count": 56,
   "metadata": {
    "colab": {
     "base_uri": "https://localhost:8080/"
    },
    "id": "GxyVas8pWoBA",
    "outputId": "eda022e7-719b-4bc8-ea4d-ed106165874b"
   },
   "outputs": [
    {
     "name": "stderr",
     "output_type": "stream",
     "text": [
      "/content/utils/dataset_utils.py:92: UserWarning: To copy construct from a tensor, it is recommended to use sourceTensor.clone().detach() or sourceTensor.clone().detach().requires_grad_(True), rather than torch.tensor(sourceTensor).\n",
      "  self.data_list[i] = torch.tensor(xyz).float()\n"
     ]
    }
   ],
   "source": [
    "test_dataset_a_25 = Human36(path, d_mode = 'test', data_format = 'exp_map', seed_length = 10, prediction_length = 25)\n",
    "test_loader_a_25 = DataLoader(test_dataset_a_25, batch_size=64, shuffle=False, num_workers=0)\n",
    "\n",
    "test_dataset_e_25 = Human36(path, d_mode = 'test', data_format = 'coord_3d', seed_length = 10, prediction_length = 25)\n",
    "test_loader_e_25 = DataLoader(test_dataset_e_25, batch_size=64, shuffle=False, num_workers=0)\n",
    "\n",
    "AIS_test_data_25 = AISData(data_path = ais_data_path, seed_length = 10, prediction_length = 25)\n",
    "AIS_test_loader_25 = DataLoader(AIS_test_data_25, batch_size=64, shuffle=False, num_workers=0)"
   ]
  },
  {
   "cell_type": "markdown",
   "metadata": {
    "id": "vqQ6ZkVlVEio"
   },
   "source": [
    "#### Convolutional STMixer"
   ]
  },
  {
   "cell_type": "markdown",
   "metadata": {
    "id": "xqgplswVVJEK"
   },
   "source": [
    "###### Angular Data"
   ]
  },
  {
   "cell_type": "code",
   "execution_count": 57,
   "metadata": {
    "colab": {
     "base_uri": "https://localhost:8080/"
    },
    "id": "Y3zJuM-OUL53",
    "outputId": "e9bfdbcc-707a-4260-d857-f18d3aac03c2"
   },
   "outputs": [
    {
     "name": "stdout",
     "output_type": "stream",
     "text": [
      "The geodesic error is 0.11800000071525574.\n",
      "The euler angle error is 0.6759999990463257.\n",
      "The AUC PCA value is 0.637.\n",
      "The MPJPE is 52.22999954223633.\n"
     ]
    }
   ],
   "source": [
    "_, geodesic, euler, pck_auc, position = eval_model(angle_STMix, test_loader_a, torch.nn.MSELoss(), device = device, input = 'angle', loss_only = False, output_len = 10)\n",
    "\n",
    "print(f'The geodesic error is {round(geodesic, 3)}.')\n",
    "print(f'The euler angle error is {round(euler, 3)}.')\n",
    "print(f'The AUC PCA value is {round(pck_auc, 3)}.')\n",
    "print(f'The MPJPE is {round(position, 2)}.')\n"
   ]
  },
  {
   "cell_type": "code",
   "execution_count": 58,
   "metadata": {
    "colab": {
     "base_uri": "https://localhost:8080/"
    },
    "id": "Rg-Nas9IXe0G",
    "outputId": "379037e5-9a81-48d6-b7cc-f6be17d326fc"
   },
   "outputs": [
    {
     "name": "stdout",
     "output_type": "stream",
     "text": [
      "The geodesic error is 0.17100000381469727.\n",
      "The euler angle error is 0.9599999785423279.\n",
      "The AUC PCA value is 0.55.\n",
      "The MPJPE is 73.4000015258789.\n"
     ]
    }
   ],
   "source": [
    "_, geodesic, euler, pck_auc, position = eval_model(angle_STMix, test_loader_a_25, torch.nn.MSELoss(), device = device, input = 'angle', loss_only = False, output_len = 25)\n",
    "\n",
    "print(f'The geodesic error is {round(geodesic, 3)}.')\n",
    "print(f'The euler angle error is {round(euler, 3)}.')\n",
    "print(f'The AUC PCA value is {round(pck_auc, 3)}.')\n",
    "print(f'The MPJPE is {round(position, 2)}.')"
   ]
  },
  {
   "cell_type": "markdown",
   "metadata": {
    "id": "yp21vHyBVMt7"
   },
   "source": [
    "###### 3d Euklidean Data"
   ]
  },
  {
   "cell_type": "code",
   "execution_count": 59,
   "metadata": {
    "colab": {
     "base_uri": "https://localhost:8080/"
    },
    "id": "h99AoK1EV3nC",
    "outputId": "635e1404-62dc-4c0f-93e1-4c6273956282"
   },
   "outputs": [
    {
     "name": "stdout",
     "output_type": "stream",
     "text": [
      "The AUC PCA value is 0.826.\n",
      "The MPJPE is 24.059999465942383.\n"
     ]
    }
   ],
   "source": [
    "_, _, _, pck_auc, position = eval_model(euklid_STMix, test_loader_e, mpjpe_error, device = device, input = 'coord_3d', loss_only = False, output_len = 10)\n",
    "\n",
    "print(f'The AUC PCA value is {round(pck_auc, 3)}.')\n",
    "print(f'The MPJPE is {round(position, 2)}.')"
   ]
  },
  {
   "cell_type": "code",
   "execution_count": 60,
   "metadata": {
    "colab": {
     "base_uri": "https://localhost:8080/"
    },
    "id": "QOiUPBouX8ZT",
    "outputId": "dff02521-fd0c-44bf-8562-96f97fdaf507"
   },
   "outputs": [
    {
     "name": "stdout",
     "output_type": "stream",
     "text": [
      "The AUC PCA value is 0.699.\n",
      "The MPJPE is 49.09000015258789.\n"
     ]
    }
   ],
   "source": [
    "_, _, _, pck_auc, position = eval_model(euklid_STMix, test_loader_e_25, mpjpe_error, device = device, input = 'coord_3d', loss_only = False, output_len = 25)\n",
    "\n",
    "print(f'The AUC PCA value is {round(pck_auc, 3)}.')\n",
    "print(f'The MPJPE is {round(position, 2)}.')"
   ]
  },
  {
   "cell_type": "markdown",
   "metadata": {
    "id": "0REeygN6ZHa6"
   },
   "source": [
    "Test with the AIS Data"
   ]
  },
  {
   "cell_type": "code",
   "execution_count": 61,
   "metadata": {
    "colab": {
     "base_uri": "https://localhost:8080/"
    },
    "id": "WSyzMd67ZNp_",
    "outputId": "a44041f0-ddc5-45bc-f8ed-f8718e89dea3"
   },
   "outputs": [
    {
     "name": "stdout",
     "output_type": "stream",
     "text": [
      "The AUC PCA value is 0.482.\n",
      "The MPJPE is 81.77999877929688.\n"
     ]
    }
   ],
   "source": [
    "_, _, _, pck_auc, position = eval_model(euklid_STMix, AIS_test_loader, mpjpe_error, device = device, input = 'coord_3d', loss_only = False, output_len = 10)\n",
    "\n",
    "print(f'The AUC PCA value is {round(pck_auc, 3)}.')\n",
    "print(f'The MPJPE is {round(position, 2)}.')"
   ]
  },
  {
   "cell_type": "code",
   "execution_count": 62,
   "metadata": {
    "colab": {
     "base_uri": "https://localhost:8080/"
    },
    "id": "XQn07RycYvRN",
    "outputId": "f460cc23-fd5b-4c94-c94d-a54557a8edcd"
   },
   "outputs": [
    {
     "name": "stdout",
     "output_type": "stream",
     "text": [
      "The AUC PCA value is 0.363.\n",
      "The MPJPE is 124.11000061035156.\n"
     ]
    }
   ],
   "source": [
    "_, _, _, pck_auc, position = eval_model(euklid_STMix, AIS_test_loader_25, mpjpe_error, device = device, input = 'coord_3d', loss_only = False, output_len = 25)\n",
    "\n",
    "print(f'The AUC PCA value is {round(pck_auc, 3)}.')\n",
    "print(f'The MPJPE is {round(position, 2)}.')"
   ]
  },
  {
   "cell_type": "markdown",
   "metadata": {
    "id": "vC6Z6uSYVR-y"
   },
   "source": [
    "#### Convolutional Rectangular Mixer"
   ]
  },
  {
   "cell_type": "markdown",
   "metadata": {
    "id": "cdGSXq0PVWhD"
   },
   "source": [
    "###### Angular Data"
   ]
  },
  {
   "cell_type": "code",
   "execution_count": 63,
   "metadata": {
    "colab": {
     "base_uri": "https://localhost:8080/"
    },
    "id": "W7ya-n_aVtas",
    "outputId": "ec64fb1b-cb44-4014-8055-cbc319c23a81"
   },
   "outputs": [
    {
     "name": "stdout",
     "output_type": "stream",
     "text": [
      "The geodesic error is 1.7910000085830688.\n",
      "The euler angle error is 9.479999542236328.\n",
      "The AUC PCA value is 0.189.\n",
      "The MPJPE is 497.4599914550781.\n"
     ]
    }
   ],
   "source": [
    "_, geodesic, euler, pck_auc, position = eval_model(euklid_STMix, test_loader_a, torch.nn.MSELoss(), device = device, input = 'angle', loss_only = False, output_len = 10)\n",
    "\n",
    "print(f'The geodesic error is {round(geodesic, 3)}.')\n",
    "print(f'The euler angle error is {round(euler, 3)}.')\n",
    "print(f'The AUC PCA value is {round(pck_auc, 3)}.')\n",
    "print(f'The MPJPE is {round(position, 2)}.')"
   ]
  },
  {
   "cell_type": "code",
   "execution_count": 64,
   "metadata": {
    "colab": {
     "base_uri": "https://localhost:8080/"
    },
    "id": "BDfUZ4SEYfVX",
    "outputId": "1aedd52a-b1a5-4cc5-839e-c13f16a3b8d6"
   },
   "outputs": [
    {
     "name": "stdout",
     "output_type": "stream",
     "text": [
      "The geodesic error is 1.8009999990463257.\n",
      "The euler angle error is 9.661999702453613.\n",
      "The AUC PCA value is 0.191.\n",
      "The MPJPE is 485.2900085449219.\n"
     ]
    }
   ],
   "source": [
    "_, geodesic, euler, pck_auc, position = eval_model(euklid_STMix, test_loader_a_25, torch.nn.MSELoss(), device = device, input = 'angle', loss_only = False, output_len = 25)\n",
    "\n",
    "print(f'The geodesic error is {round(geodesic, 3)}.')\n",
    "print(f'The euler angle error is {round(euler, 3)}.')\n",
    "print(f'The AUC PCA value is {round(pck_auc, 3)}.')\n",
    "print(f'The MPJPE is {round(position, 2)}.')"
   ]
  },
  {
   "cell_type": "markdown",
   "metadata": {
    "id": "4oDwctljVX63"
   },
   "source": [
    "###### 3d Euklidean Data"
   ]
  },
  {
   "cell_type": "code",
   "execution_count": 65,
   "metadata": {
    "colab": {
     "base_uri": "https://localhost:8080/"
    },
    "id": "QxyKtBHJWaZT",
    "outputId": "ce1a3f32-d7de-46c4-d158-0f92ab9c2c13"
   },
   "outputs": [
    {
     "name": "stdout",
     "output_type": "stream",
     "text": [
      "The AUC PCA value is 0.816.\n",
      "The MPJPE is 25.309999465942383.\n"
     ]
    }
   ],
   "source": [
    "_, _, _, pck_auc, position = eval_model(euklid_RMix, test_loader_e, mpjpe_error, device = device, input = 'coord_3d', loss_only = False, output_len = 10)\n",
    "\n",
    "print(f'The AUC PCA value is {round(pck_auc, 3)}.')\n",
    "print(f'The MPJPE is {round(position, 2)}.')"
   ]
  },
  {
   "cell_type": "code",
   "execution_count": 66,
   "metadata": {
    "colab": {
     "base_uri": "https://localhost:8080/"
    },
    "id": "aHr5mTZAYjC4",
    "outputId": "c9822707-02b3-412b-b30e-53f1d3ee97ea"
   },
   "outputs": [
    {
     "name": "stdout",
     "output_type": "stream",
     "text": [
      "The AUC PCA value is 0.701.\n",
      "The MPJPE is 48.27000045776367.\n"
     ]
    }
   ],
   "source": [
    "_, _, _, pck_auc, position = eval_model(euklid_RMix, test_loader_e_25, mpjpe_error, device = device, input = 'coord_3d', loss_only = False, output_len = 25)\n",
    "\n",
    "print(f'The AUC PCA value is {round(pck_auc, 3)}.')\n",
    "print(f'The MPJPE is {round(position, 2)}.')"
   ]
  },
  {
   "cell_type": "markdown",
   "metadata": {
    "id": "0pTWH4ZoZL7S"
   },
   "source": [
    "Test with the AIS Data"
   ]
  },
  {
   "cell_type": "code",
   "execution_count": 67,
   "metadata": {
    "colab": {
     "base_uri": "https://localhost:8080/"
    },
    "id": "7goihglAZZs1",
    "outputId": "3f3a09e4-f872-4e71-c52c-d3423bba6509"
   },
   "outputs": [
    {
     "name": "stdout",
     "output_type": "stream",
     "text": [
      "The AUC PCA value is 0.506.\n",
      "The MPJPE is 77.87000274658203.\n"
     ]
    }
   ],
   "source": [
    "_, _, _, pck_auc, position = eval_model(euklid_RMix, AIS_test_loader, mpjpe_error, device = device, input = 'coord_3d', loss_only = False, output_len = 10)\n",
    "\n",
    "print(f'The AUC PCA value is {round(pck_auc, 3)}.')\n",
    "print(f'The MPJPE is {round(position, 2)}.')"
   ]
  },
  {
   "cell_type": "code",
   "execution_count": 68,
   "metadata": {
    "colab": {
     "base_uri": "https://localhost:8080/"
    },
    "id": "_7b481Z_ZdjV",
    "outputId": "17b76597-2450-4551-f8d6-2ec44c7a4387"
   },
   "outputs": [
    {
     "name": "stdout",
     "output_type": "stream",
     "text": [
      "The AUC PCA value is 0.41.\n",
      "The MPJPE is 111.41000366210938.\n"
     ]
    }
   ],
   "source": [
    "_, _, _, pck_auc, position = eval_model(euklid_RMix, AIS_test_loader_25, mpjpe_error, device = device, input = 'coord_3d', loss_only = False, output_len = 25)\n",
    "\n",
    "print(f'The AUC PCA value is {round(pck_auc, 3)}.')\n",
    "print(f'The MPJPE is {round(position, 2)}.')"
   ]
  },
  {
   "cell_type": "markdown",
   "metadata": {
    "id": "FdYYRXzXxrXm"
   },
   "source": [
    "## Visualize some predictions\n",
    "\n",
    "mp4 files of visualizations can be found under https://drive.google.com/drive/folders/1DkQOK1ne8Mg1eYfegKg-L_efz02Su77H?usp=drive_link in the directory *Visualization/Visualization of predictions*"
   ]
  },
  {
   "cell_type": "markdown",
   "metadata": {
    "id": "LRLz96QFauPJ"
   },
   "source": [
    "### Visualize some results with the Human3.6m dataset.\n"
   ]
  },
  {
   "cell_type": "markdown",
   "metadata": {
    "id": "X30ZeDSAupIV"
   },
   "source": [
    "#### With data in exponential map format"
   ]
  },
  {
   "cell_type": "markdown",
   "metadata": {
    "id": "1AviART0vqiW"
   },
   "source": [
    "##### For 10 frames"
   ]
  },
  {
   "cell_type": "code",
   "execution_count": null,
   "metadata": {
    "id": "09ecuatdaw6e"
   },
   "outputs": [],
   "source": [
    "vis_one_prediction(angle_STMix, test_dataset_a, output_len=10, index = 910, save_path = 'angle_STMix_10frames.mp4')\n",
    "vis_one_prediction(angle_RMix, test_dataset_a, output_len=10, index = 910, save_path = 'angle_RMix_10frames.mp4')"
   ]
  },
  {
   "cell_type": "markdown",
   "metadata": {
    "id": "9wPws3sevuL_"
   },
   "source": [
    "For 25 Frames"
   ]
  },
  {
   "cell_type": "code",
   "execution_count": null,
   "metadata": {
    "id": "G925PuVvv4Ff"
   },
   "outputs": [],
   "source": [
    "vis_one_prediction(angle_STMix, test_dataset_a_25, output_len=25, index = 300, save_path = 'angle_STMix_25frames.mp4')\n",
    "vis_one_prediction(angle_RMix, test_dataset_a_25, output_len=25, index = 300, save_path = 'angle_RMix_25frames.mp4')"
   ]
  },
  {
   "cell_type": "markdown",
   "metadata": {
    "id": "BFCsKrUcwjKe"
   },
   "source": [
    "#### With data in 3D Euclidean space"
   ]
  },
  {
   "cell_type": "markdown",
   "metadata": {
    "id": "hmBsQ2A5wzgr"
   },
   "source": [
    "##### For 10 Frames"
   ]
  },
  {
   "cell_type": "code",
   "execution_count": null,
   "metadata": {
    "id": "FyCYboKrwm9S"
   },
   "outputs": [],
   "source": [
    "vis_one_prediction(euklid_STMix, test_dataset_e, output_len=10, index = 910, save_path = 'euklid_STMix_10frames.mp4', angles = False)\n",
    "vis_one_prediction(euklid_RMix, test_dataset_e, output_len=10, index = 910, save_path = 'euklid_RMix_10frames.mp4', angles = False)"
   ]
  },
  {
   "cell_type": "markdown",
   "metadata": {
    "id": "xCP8i14Nw8Cl"
   },
   "source": [
    "##### For 25 Frames"
   ]
  },
  {
   "cell_type": "code",
   "execution_count": null,
   "metadata": {
    "id": "kIhI8aKYxEq4"
   },
   "outputs": [],
   "source": [
    "vis_one_prediction(euklid_STMix, test_dataset_e_25, output_len=25, index = 300, save_path = 'euklid_STMix_25frames.mp4', angles = False)\n",
    "vis_one_prediction(euklid_RMix, test_dataset_e_25, output_len=25, index = 300, save_path = 'euklid_RMix_25frames.mp4', angles = False)"
   ]
  },
  {
   "cell_type": "markdown",
   "metadata": {
    "id": "KLTSn130xyIh"
   },
   "source": [
    "### Visualize some results with the AIS dataset.\n"
   ]
  },
  {
   "cell_type": "markdown",
   "metadata": {
    "id": "gLQHuD8Vx5Ft"
   },
   "source": [
    "##### For 10 Frames"
   ]
  },
  {
   "cell_type": "code",
   "execution_count": null,
   "metadata": {
    "id": "l3vhljrSx0fV"
   },
   "outputs": [],
   "source": [
    "vis_one_prediction(euklid_STMix, AIS_test_data, output_len=10, index = 100, save_path = 'AIS_STMix_10frames.mp4', angles = False)\n",
    "vis_one_prediction(euklid_RMix, AIS_test_data, output_len=10, index = 100, save_path = 'AIS_RMix_10frames.mp4', angles = False)"
   ]
  },
  {
   "cell_type": "markdown",
   "metadata": {
    "id": "KLh6npUQyQcf"
   },
   "source": [
    "##### For 25 Frames"
   ]
  },
  {
   "cell_type": "code",
   "execution_count": null,
   "metadata": {
    "id": "kGA4i2fJySqc"
   },
   "outputs": [],
   "source": [
    "vis_one_prediction(euklid_STMix, AIS_test_data_25, output_len=25, index = 100, save_path = 'AIS_STMix_25frames.mp4', angles = False)\n",
    "vis_one_prediction(euklid_RMix, AIS_test_data_25, output_len=25, index = 100, save_path = 'AIS_RMix_25frames.mp4', angles = False)"
   ]
  }
 ],
 "metadata": {
  "accelerator": "GPU",
  "colab": {
   "gpuType": "T4",
   "provenance": []
  },
  "kernelspec": {
   "display_name": "Python 3 (ipykernel)",
   "language": "python",
   "name": "python3"
  },
  "language_info": {
   "codemirror_mode": {
    "name": "ipython",
    "version": 3
   },
   "file_extension": ".py",
   "mimetype": "text/x-python",
   "name": "python",
   "nbconvert_exporter": "python",
   "pygments_lexer": "ipython3",
   "version": "3.10.9"
  }
 },
 "nbformat": 4,
 "nbformat_minor": 1
}
